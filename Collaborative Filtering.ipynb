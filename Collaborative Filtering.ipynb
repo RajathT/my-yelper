{
 "cells": [
  {
   "cell_type": "code",
   "execution_count": 1,
   "metadata": {
    "collapsed": true
   },
   "outputs": [],
   "source": [
    "import numpy as np\n",
    "import pandas as pd\n",
    "import matplotlib.pyplot as plt\n",
    "\n",
    "from pyspark.ml import Pipeline\n",
    "from pyspark.sql.functions import *\n",
    "from pyspark.sql.types import *\n",
    "\n",
    "\n",
    "from pyspark.sql import Row\n",
    "\n",
    "from pyspark.ml.recommendation import ALS, ALSModel\n",
    "from pyspark.ml.tuning import TrainValidationSplit, ParamGridBuilder, CrossValidator\n",
    "from pyspark.ml.evaluation import RegressionEvaluator\n",
    "\n",
    "import folium\n",
    "import html"
   ]
  },
  {
   "cell_type": "code",
   "execution_count": 2,
   "metadata": {
    "collapsed": true
   },
   "outputs": [],
   "source": [
    "data_path = '/home/osboxes/yelp-data/dataset/'\n",
    "model_path = '/home/osboxes/yelp-data/model/'\n",
    "outout_path = '/home/osboxes/yelp-data/output/'"
   ]
  },
  {
   "cell_type": "markdown",
   "metadata": {},
   "source": [
    "### Data Loading"
   ]
  },
  {
   "cell_type": "code",
   "execution_count": 3,
   "metadata": {
    "collapsed": false
   },
   "outputs": [
    {
     "name": "stdout",
     "output_type": "stream",
     "text": [
      "root\n",
      " |-- business_id: string (nullable = true)\n",
      " |-- business_name: string (nullable = true)\n",
      " |-- neighborhood: string (nullable = true)\n",
      " |-- address: string (nullable = true)\n",
      " |-- city: string (nullable = true)\n",
      " |-- state: string (nullable = true)\n",
      " |-- postal_code: string (nullable = true)\n",
      " |-- latitude: double (nullable = true)\n",
      " |-- longitude: double (nullable = true)\n",
      " |-- stars: double (nullable = true)\n",
      " |-- review_count: long (nullable = true)\n",
      " |-- categories: array (nullable = true)\n",
      " |    |-- element: string (containsNull = true)\n",
      "\n"
     ]
    }
   ],
   "source": [
    "# create the business dataframe\n",
    "business_df = spark.read.parquet(data_path + 'business-small.parquet')\n",
    "\n",
    "# print the schema of the review dataframe\n",
    "business_df.printSchema()"
   ]
  },
  {
   "cell_type": "code",
   "execution_count": 4,
   "metadata": {
    "collapsed": false
   },
   "outputs": [
    {
     "name": "stdout",
     "output_type": "stream",
     "text": [
      "root\n",
      " |-- user_id: string (nullable = true)\n",
      " |-- user_name: string (nullable = true)\n",
      " |-- review_count: long (nullable = true)\n",
      " |-- yelping_since: string (nullable = true)\n",
      " |-- useful: long (nullable = true)\n",
      " |-- funny: long (nullable = true)\n",
      " |-- cool: long (nullable = true)\n",
      " |-- fans: long (nullable = true)\n",
      " |-- average_stars: double (nullable = true)\n",
      "\n"
     ]
    }
   ],
   "source": [
    "# create the business dataframe\n",
    "user_df = spark.read.parquet(data_path + 'user-small.parquet')\n",
    "\n",
    "# print the schema of the review dataframe\n",
    "user_df.printSchema()"
   ]
  },
  {
   "cell_type": "code",
   "execution_count": 5,
   "metadata": {
    "collapsed": false
   },
   "outputs": [
    {
     "name": "stdout",
     "output_type": "stream",
     "text": [
      "root\n",
      " |-- review_id: string (nullable = true)\n",
      " |-- user_id: string (nullable = true)\n",
      " |-- business_id: string (nullable = true)\n",
      " |-- stars: long (nullable = true)\n",
      " |-- review_date: string (nullable = true)\n",
      " |-- review_text: string (nullable = true)\n",
      " |-- useful: long (nullable = true)\n",
      " |-- funny: long (nullable = true)\n",
      " |-- cool: long (nullable = true)\n",
      "\n"
     ]
    }
   ],
   "source": [
    "# create the review dataframe\n",
    "\n",
    "review_df = spark.read.parquet(data_path + 'review-small.parquet')\n",
    "\n",
    "# print the schema of the review dataframe\n",
    "review_df.printSchema()"
   ]
  },
  {
   "cell_type": "code",
   "execution_count": 6,
   "metadata": {
    "collapsed": false
   },
   "outputs": [
    {
     "name": "stdout",
     "output_type": "stream",
     "text": [
      "+--------------------+--------------------+\n",
      "|         business_id|       business_name|\n",
      "+--------------------+--------------------+\n",
      "|qim0lD112TkDhm8Zy...|McCarthy's Irish Pub|\n",
      "|Wf5C8Amv_SlhoYE3_...|         Oishi Sushi|\n",
      "+--------------------+--------------------+\n",
      "only showing top 2 rows\n",
      "\n"
     ]
    }
   ],
   "source": [
    "# show some business records\n",
    "\n",
    "business_df.select('business_id', 'business_name').show(2)"
   ]
  },
  {
   "cell_type": "code",
   "execution_count": 7,
   "metadata": {
    "collapsed": false
   },
   "outputs": [
    {
     "name": "stdout",
     "output_type": "stream",
     "text": [
      "+--------------------+---------+\n",
      "|             user_id|user_name|\n",
      "+--------------------+---------+\n",
      "|om5ZiponkpRqUNa3p...|   Andrea|\n",
      "|Wc5L6iuvSNF5WGBlq...|     Risa|\n",
      "+--------------------+---------+\n",
      "only showing top 2 rows\n",
      "\n"
     ]
    }
   ],
   "source": [
    "# show some user records\n",
    "\n",
    "user_df.select('user_id', 'user_name').show(2)"
   ]
  },
  {
   "cell_type": "code",
   "execution_count": 8,
   "metadata": {
    "collapsed": false
   },
   "outputs": [
    {
     "name": "stdout",
     "output_type": "stream",
     "text": [
      "+--------------------+--------------------+-----+\n",
      "|             user_id|         business_id|stars|\n",
      "+--------------------+--------------------+-----+\n",
      "|djpMXOA1ic5wv3FPt...|mr4FiPaXTWlJ3qGzp...|    3|\n",
      "|-pXs08gJq9ExIk275...|mr4FiPaXTWlJ3qGzp...|    3|\n",
      "+--------------------+--------------------+-----+\n",
      "only showing top 2 rows\n",
      "\n"
     ]
    }
   ],
   "source": [
    "# show some review records\n",
    "\n",
    "review_df.select('user_id', 'business_id', 'stars').show(2)"
   ]
  },
  {
   "cell_type": "markdown",
   "metadata": {},
   "source": [
    "#### Spark ALS implementation requires the rating matrix to have the follwoing data types:\n",
    "\n",
    "```\n",
    "ratings_df_schema = StructType(\n",
    "[StructField('userId', IntegerType()),\n",
    " StructField('businessId', IntegerType()),\n",
    " StructField('rating', DoubleType())]\n",
    ")\n",
    "```\n",
    "\n",
    "So, we need to map existing string user_id, and business_id to integer values"
   ]
  },
  {
   "cell_type": "code",
   "execution_count": 9,
   "metadata": {
    "collapsed": false
   },
   "outputs": [
    {
     "name": "stdout",
     "output_type": "stream",
     "text": [
      "+--------------------+------+\n",
      "|             user_id|userId|\n",
      "+--------------------+------+\n",
      "|om5ZiponkpRqUNa3p...|     0|\n",
      "|Wc5L6iuvSNF5WGBlq...|     1|\n",
      "+--------------------+------+\n",
      "only showing top 2 rows\n",
      "\n"
     ]
    }
   ],
   "source": [
    "# create a new userId column (integer)\n",
    "\n",
    "user_newid_df = sqlContext.createDataFrame(user_df.rdd.map(lambda x: x[0]).zipWithIndex(), \\\n",
    "        StructType([StructField(\"user_id\", StringType(), True),StructField(\"userId\", IntegerType(), True)]))\n",
    "\n",
    "user_newid_df.show(2)"
   ]
  },
  {
   "cell_type": "code",
   "execution_count": 10,
   "metadata": {
    "collapsed": false
   },
   "outputs": [
    {
     "name": "stdout",
     "output_type": "stream",
     "text": [
      "+------+--------------------+---------+\n",
      "|userId|             user_id|user_name|\n",
      "+------+--------------------+---------+\n",
      "|     0|om5ZiponkpRqUNa3p...|   Andrea|\n",
      "|     1|Wc5L6iuvSNF5WGBlq...|     Risa|\n",
      "+------+--------------------+---------+\n",
      "only showing top 2 rows\n",
      "\n"
     ]
    }
   ],
   "source": [
    "# add the new userId column the user dataframe\n",
    "\n",
    "a = user_df.alias(\"a\")\n",
    "b = user_newid_df.alias(\"b\")\n",
    "    \n",
    "user_new_df = a.join(b, col(\"a.user_id\") == col(\"b.user_id\"), 'inner') \\\n",
    "             .select([col('a.'+xx) for xx in a.columns] + [col('b.userId')])\n",
    "\n",
    "user_new_df.select('userId','user_id', 'user_name').show(2)"
   ]
  },
  {
   "cell_type": "code",
   "execution_count": 11,
   "metadata": {
    "collapsed": false
   },
   "outputs": [
    {
     "name": "stdout",
     "output_type": "stream",
     "text": [
      "+--------------------+----------+\n",
      "|         business_id|businessId|\n",
      "+--------------------+----------+\n",
      "|qim0lD112TkDhm8Zy...|         0|\n",
      "|Wf5C8Amv_SlhoYE3_...|         1|\n",
      "+--------------------+----------+\n",
      "only showing top 2 rows\n",
      "\n"
     ]
    }
   ],
   "source": [
    "\n",
    "# create a new businessId column (integer)\n",
    "\n",
    "business_newid_df = sqlContext.createDataFrame(business_df.rdd.map(lambda x: x[0]).zipWithIndex(), \\\n",
    "        StructType([StructField(\"business_id\", StringType(), True),StructField(\"businessId\", IntegerType(), True)]))\n",
    "\n",
    "business_newid_df.show(2)"
   ]
  },
  {
   "cell_type": "code",
   "execution_count": 12,
   "metadata": {
    "collapsed": false
   },
   "outputs": [
    {
     "name": "stdout",
     "output_type": "stream",
     "text": [
      "+----------+--------------------+--------------------+\n",
      "|businessId|         business_id|       business_name|\n",
      "+----------+--------------------+--------------------+\n",
      "|         0|qim0lD112TkDhm8Zy...|McCarthy's Irish Pub|\n",
      "|         1|Wf5C8Amv_SlhoYE3_...|         Oishi Sushi|\n",
      "+----------+--------------------+--------------------+\n",
      "only showing top 2 rows\n",
      "\n"
     ]
    }
   ],
   "source": [
    "# add the new businessId column the business dataframe\n",
    "\n",
    "a = business_df.alias(\"a\")\n",
    "b = business_newid_df.alias(\"b\")\n",
    "    \n",
    "business_new_df = a.join(b, col(\"a.business_id\") == col(\"b.business_id\"), 'inner') \\\n",
    "             .select([col('a.'+xx) for xx in a.columns] + [col('b.businessId')])\n",
    "\n",
    "business_new_df.select('businessId','business_id', 'business_name').show(2)"
   ]
  },
  {
   "cell_type": "code",
   "execution_count": 13,
   "metadata": {
    "collapsed": false
   },
   "outputs": [
    {
     "name": "stdout",
     "output_type": "stream",
     "text": [
      "+--------------------+--------------------+-----+------+----------+\n",
      "|             user_id|         business_id|stars|userId|businessId|\n",
      "+--------------------+--------------------+-----+------+----------+\n",
      "|u642WP1g6Z3oRA9qd...|1RFIVcZYV77tGIwVV...|    5| 23561|       872|\n",
      "|CGmWH1Nwx1hbasHqo...|1RFIVcZYV77tGIwVV...|    4|  6268|       872|\n",
      "+--------------------+--------------------+-----+------+----------+\n",
      "only showing top 2 rows\n",
      "\n"
     ]
    }
   ],
   "source": [
    "# map new userId and businessId in the review dataframe\n",
    "\n",
    "review_df = review_df.select('user_id', 'business_id', 'stars')\n",
    "\n",
    "\n",
    "# map the userId\n",
    "a = review_df.alias(\"a\")\n",
    "b = user_newid_df.alias(\"b\")\n",
    "    \n",
    "review_userId_df = a.join(b, col(\"a.user_id\") == col(\"b.user_id\"), 'inner') \\\n",
    "                     .select([col('a.'+xx) for xx in a.columns] + [col('b.userId')])\n",
    "\n",
    "# map the businessId\n",
    "a = review_userId_df.alias(\"a\")\n",
    "b = business_newid_df.alias(\"b\")\n",
    "\n",
    "review_userId_businessId_df = a.join(b, col(\"a.business_id\") == col(\"b.business_id\"), 'inner') \\\n",
    "                         .select([col('a.'+xx) for xx in a.columns] + [col('b.businessId')])\n",
    "\n",
    "review_userId_businessId_df.show(2)"
   ]
  },
  {
   "cell_type": "markdown",
   "metadata": {},
   "source": [
    "### Collaborative Filtering"
   ]
  },
  {
   "cell_type": "code",
   "execution_count": 14,
   "metadata": {
    "collapsed": false
   },
   "outputs": [
    {
     "name": "stdout",
     "output_type": "stream",
     "text": [
      "+------+----------+------+\n",
      "|userId|businessId|rating|\n",
      "+------+----------+------+\n",
      "| 23561|       872|   5.0|\n",
      "|  6268|       872|   4.0|\n",
      "+------+----------+------+\n",
      "only showing top 2 rows\n",
      "\n",
      "root\n",
      " |-- userId: integer (nullable = true)\n",
      " |-- businessId: integer (nullable = true)\n",
      " |-- rating: float (nullable = true)\n",
      "\n"
     ]
    }
   ],
   "source": [
    "# create the rating dataframe required by the ALS model\n",
    "\n",
    "rating_df = review_userId_businessId_df.select('userId', 'businessId', review_userId_businessId_df.stars.cast('float').alias('rating'))\n",
    "rating_df.show(2)\n",
    "rating_df.printSchema()"
   ]
  },
  {
   "cell_type": "code",
   "execution_count": 15,
   "metadata": {
    "collapsed": true
   },
   "outputs": [],
   "source": [
    "\n",
    "(train, test) = rating_df.randomSplit([0.8, 0.2], seed=123)"
   ]
  },
  {
   "cell_type": "markdown",
   "metadata": {
    "collapsed": false
   },
   "source": [
    "```\n",
    "# very lengthy process of Cross Validation\n",
    "\n",
    "als = ALS(userCol=\"userId\", itemCol=\"businessId\", ratingCol=\"rating\", coldStartStrategy=\"drop\")\n",
    "\n",
    "param_grid = ParamGridBuilder().addGrid(\n",
    "    als.rank,\n",
    "    [10, 15, 20],\n",
    ").addGrid(\n",
    "    als.maxIter,\n",
    "    [10, 15, 20],\n",
    ").build()\n",
    "\n",
    "evaluator = RegressionEvaluator(\n",
    "    metricName=\"rmse\",\n",
    "    labelCol=\"rating\",\n",
    ")\n",
    "\n",
    "cv = CrossValidator(estimator=als, estimatorParamMaps=param_grid, evaluator=evaluator, numFolds=5, seed=123)\n",
    "cv_als_model = cv.fit(train)\n",
    "\n",
    "# Evaluate the model by computing the RMSE on the test data\n",
    "\n",
    "als_predictions = cv_als_model.bestModel.transform(test)\n",
    "evaluator = RegressionEvaluator(metricName=\"rmse\", labelCol=\"rating\", predictionCol=\"prediction\")\n",
    "rmse = evaluator.evaluate(als_predictions)\n",
    "print(\"Root-mean-square error = \" + str(rmse))\n",
    "\n",
    "best_model = cv_als_model.bestModel\n",
    "\n",
    "#best_rank is 20\n",
    "best_model.rank\n",
    "\n",
    "#best_maxIter is 20\n",
    "(best_model\n",
    "    ._java_obj     # Get Java object\n",
    "    .parent()      # Get parent (ALS estimator)\n",
    "    .getMaxIter()) # Get maxIter\n",
    "\n",
    "\n",
    "# Root-mean-square error is 1.3383152747968081\n",
    "```"
   ]
  },
  {
   "cell_type": "markdown",
   "metadata": {
    "collapsed": false
   },
   "source": [
    "```\n",
    "# trying higher rank and maxIter need huge resources. try to tune regParam (default value = 0.1)\n",
    "\n",
    "alsb = ALS(rank=20, maxIter=20, regParam=0.3, userCol=\"userId\", itemCol=\"businessId\", ratingCol=\"rating\", \\\n",
    "               coldStartStrategy=\"drop\", seed=123)\n",
    "alsb_model = alsb.fit(train)\n",
    "\n",
    "alsb_predictions = alsb_model.transform(test)\n",
    "evaluator = RegressionEvaluator(metricName=\"rmse\", labelCol=\"rating\", predictionCol=\"prediction\")\n",
    "rmse = evaluator.evaluate(alsb_predictions)\n",
    "print(\"Root-mean-square error = \" + str(rmse))\n",
    "\n",
    "# save the ALS model\n",
    "alsb_model.write().overwrite().save(model_path + 'als')\n",
    "\n",
    "# Root-mean-square error is 1.2579688933524986\n",
    "```"
   ]
  },
  {
   "cell_type": "code",
   "execution_count": 16,
   "metadata": {
    "collapsed": false
   },
   "outputs": [],
   "source": [
    "# load a new instance of the saved ALS model\n",
    "alsn_model = ALSModel.load(model_path + 'als')"
   ]
  },
  {
   "cell_type": "code",
   "execution_count": 28,
   "metadata": {
    "collapsed": true
   },
   "outputs": [],
   "source": [
    "# generate top 10 business recommendations for each user\n",
    "\n",
    "userRecoms = alsn_model.recommendForAllUsers(10)\n"
   ]
  },
  {
   "cell_type": "code",
   "execution_count": 31,
   "metadata": {
    "collapsed": false
   },
   "outputs": [
    {
     "name": "stdout",
     "output_type": "stream",
     "text": [
      "+------+----------------------------------------------------------------------------------------------------------------------------------------------------------------------------+----------------------+\n",
      "|userId|recommendations                                                                                                                                                             |user_id               |\n",
      "+------+----------------------------------------------------------------------------------------------------------------------------------------------------------------------------+----------------------+\n",
      "|148   |[[4592,4.6922364], [2432,4.614214], [401,4.4767885], [6596,4.439251], [2848,4.3852043], [810,4.359094], [4267,4.340767], [1410,4.307626], [4390,4.2542963], [4408,4.245825]]|_K9sKlA4fVkWI4hyGSpoPA|\n",
      "+------+----------------------------------------------------------------------------------------------------------------------------------------------------------------------------+----------------------+\n",
      "only showing top 1 row\n",
      "\n"
     ]
    }
   ],
   "source": [
    "# add the column user_id, cache the recommendaton dataframe and show recommedations sample\n",
    "\n",
    "a = userRecoms.alias(\"a\")\n",
    "b = user_newid_df.alias(\"b\")\n",
    "    \n",
    "all_userRecoms = a.join(b, col(\"a.userId\") == col(\"b.userId\"), 'inner') \\\n",
    "             .select([col('a.'+xx) for xx in a.columns] + [col('b.user_id')])\n",
    "\n",
    "all_userRecoms.cache()   \n",
    "all_userRecoms.show(1, truncate=False)"
   ]
  },
  {
   "cell_type": "code",
   "execution_count": 32,
   "metadata": {
    "collapsed": false
   },
   "outputs": [
    {
     "name": "stdout",
     "output_type": "stream",
     "text": [
      "+----------+------------------+\n",
      "|businessId|            rating|\n",
      "+----------+------------------+\n",
      "|      2432| 4.570364475250244|\n",
      "|      4592| 4.527902126312256|\n",
      "|      2668| 4.490123271942139|\n",
      "|       401| 4.438344955444336|\n",
      "|       810| 4.414823055267334|\n",
      "|      2028|4.4012932777404785|\n",
      "|      3237| 4.399106025695801|\n",
      "|      4133| 4.392766952514648|\n",
      "|      4408| 4.377004623413086|\n",
      "|      5664| 4.362335205078125|\n",
      "+----------+------------------+\n",
      "\n"
     ]
    }
   ],
   "source": [
    "# show recommendations for soem user id\n",
    "\n",
    "u_id = 'ZWD8UH1T7QXQr0Eq-mcWYg'\n",
    "\n",
    "userFlatRec =  sqlContext.createDataFrame(all_userRecoms.filter(col('user_id') == u_id).rdd.flatMap(lambda p: p[1]))\n",
    "userFlatRec.show()"
   ]
  },
  {
   "cell_type": "code",
   "execution_count": 34,
   "metadata": {
    "collapsed": false
   },
   "outputs": [
    {
     "name": "stdout",
     "output_type": "stream",
     "text": [
      "+--------------------+--------------------+------------------+--------------------+\n",
      "|         business_id|       business_name|            rating|          categories|\n",
      "+--------------------+--------------------+------------------+--------------------+\n",
      "|2H5EaBEreDzzP7sPm...|          Vila Verde| 4.362335205078125|[Restaurants, Eve...|\n",
      "|mpDcuUs6dB5uBsYVK...| Druxy's Famous Deli| 4.527902126312256|[Restaurants, San...|\n",
      "|1VAsBosvx02jpvIUx...|   The Dumpling Shop| 4.490123271942139|[Restaurants, Spe...|\n",
      "|XKa5R1lJSvNrbo8In...|Toronto Star Food...| 4.399106025695801|[Food, Fast Food,...|\n",
      "|LcIgUlWaJJwtOfPoP...|       Souppe Shoppe| 4.570364475250244|[Restaurants, Str...|\n",
      "|vAz5pelrjwkpMDo_O...|Kuya Willie's Kainan| 4.414823055267334|[Breakfast & Brun...|\n",
      "|9GLN1xfck07CKfNfe...|             T-Sushi| 4.438344955444336|[Food, Restaurant...|\n",
      "|y9yeMK6N0UINVECI3...|       Hot Dog Stand|4.4012932777404785|[Hot Dogs, Restau...|\n",
      "|LIjlU7K-0SPXPtYFQ...|          Magic Oven| 4.392766952514648|[Food Stands, San...|\n",
      "|fxRcHzovnRyWh_WMd...|      Taj Restaurant| 4.377004623413086|[Restaurants, Rus...|\n",
      "+--------------------+--------------------+------------------+--------------------+\n",
      "\n"
     ]
    }
   ],
   "source": [
    "# show the recommeded restaurants details\n",
    "\n",
    "a = business_new_df.alias(\"a\")\n",
    "b = userFlatRec.alias(\"b\")\n",
    "\n",
    "user_collab_df = a.join(b, col(\"a.businessId\") == col(\"b.businessId\"), 'inner') \\\n",
    "                         .select([col('a.'+xx) for xx in a.columns] + [col('b.rating')])\n",
    "    \n",
    "user_collab_df.select('business_id', 'business_name', 'rating', 'categories').show()"
   ]
  },
  {
   "cell_type": "code",
   "execution_count": 26,
   "metadata": {
    "collapsed": false
   },
   "outputs": [],
   "source": [
    "def showInMap(df):\n",
    "    \n",
    "    mp = folium.Map(location=[43.70011, -79.4163], zoom_start=12)\n",
    "\n",
    "    for i, r in df.toPandas().iterrows():\n",
    "        folium.Marker(\n",
    "                    location =[r.latitude, r.longitude], \n",
    "                    popup = html.escape(r[\"business_name\"]) + '<br>' + 'Stars: ' + str(r.stars) + '<br>' + 'Reviews: ' + str(r.review_count),    \n",
    "                    icon = folium.Icon(color='blue')).add_to(mp)\n",
    "\n",
    "    return mp"
   ]
  },
  {
   "cell_type": "code",
   "execution_count": 35,
   "metadata": {
    "collapsed": false
   },
   "outputs": [],
   "source": [
    "def getCollabRecom(u_id):\n",
    "    \n",
    "\n",
    "    userFlatRec =  sqlContext.createDataFrame(all_userRecoms.filter(col('user_id') == u_id).rdd.flatMap(lambda p: p[1]))\n",
    "\n",
    "    a = userFlatRec.alias(\"a\")\n",
    "    b = business_new_df.alias(\"b\")\n",
    "    \n",
    "    return a.join(b, col(\"a.businessId\") == col(\"b.businessId\"), 'inner') \\\n",
    "             .select([col('b.business_id'), col('a.rating'), col('b.business_name'),col('b.categories'),\n",
    "                                                           col('b.stars'),col('b.review_count'),\n",
    "                                                           col('b.latitude'),col('b.longitude')]) \\\n",
    "             .orderBy(\"rating\", ascending = False)\n",
    "    "
   ]
  },
  {
   "cell_type": "code",
   "execution_count": 36,
   "metadata": {
    "collapsed": false
   },
   "outputs": [
    {
     "data": {
      "text/html": [
       "<div>\n",
       "<table border=\"1\" class=\"dataframe\">\n",
       "  <thead>\n",
       "    <tr style=\"text-align: right;\">\n",
       "      <th></th>\n",
       "      <th>business_id</th>\n",
       "      <th>rating</th>\n",
       "      <th>business_name</th>\n",
       "      <th>categories</th>\n",
       "      <th>stars</th>\n",
       "      <th>review_count</th>\n",
       "      <th>latitude</th>\n",
       "      <th>longitude</th>\n",
       "    </tr>\n",
       "  </thead>\n",
       "  <tbody>\n",
       "    <tr>\n",
       "      <th>0</th>\n",
       "      <td>LcIgUlWaJJwtOfPoPWCmBg</td>\n",
       "      <td>4.570364</td>\n",
       "      <td>Souppe Shoppe</td>\n",
       "      <td>[Restaurants, Street Vendors, Food, Soup, Food...</td>\n",
       "      <td>5.0</td>\n",
       "      <td>4</td>\n",
       "      <td>43.651425</td>\n",
       "      <td>-79.404123</td>\n",
       "    </tr>\n",
       "    <tr>\n",
       "      <th>1</th>\n",
       "      <td>mpDcuUs6dB5uBsYVKDWCNQ</td>\n",
       "      <td>4.527902</td>\n",
       "      <td>Druxy's Famous Deli</td>\n",
       "      <td>[Restaurants, Sandwiches, Delis, Breakfast &amp; B...</td>\n",
       "      <td>4.0</td>\n",
       "      <td>4</td>\n",
       "      <td>43.648235</td>\n",
       "      <td>-79.379525</td>\n",
       "    </tr>\n",
       "    <tr>\n",
       "      <th>2</th>\n",
       "      <td>1VAsBosvx02jpvIUxiKvmg</td>\n",
       "      <td>4.490123</td>\n",
       "      <td>The Dumpling Shop</td>\n",
       "      <td>[Restaurants, Specialty Food, Chinese, Dim Sum...</td>\n",
       "      <td>4.5</td>\n",
       "      <td>11</td>\n",
       "      <td>43.767971</td>\n",
       "      <td>-79.401363</td>\n",
       "    </tr>\n",
       "    <tr>\n",
       "      <th>3</th>\n",
       "      <td>9GLN1xfck07CKfNfejKCwg</td>\n",
       "      <td>4.438345</td>\n",
       "      <td>T-Sushi</td>\n",
       "      <td>[Food, Restaurants, Sushi Bars, Food Delivery ...</td>\n",
       "      <td>5.0</td>\n",
       "      <td>13</td>\n",
       "      <td>43.644745</td>\n",
       "      <td>-79.390892</td>\n",
       "    </tr>\n",
       "    <tr>\n",
       "      <th>4</th>\n",
       "      <td>vAz5pelrjwkpMDo_OHCDAg</td>\n",
       "      <td>4.414823</td>\n",
       "      <td>Kuya Willie's Kainan</td>\n",
       "      <td>[Breakfast &amp; Brunch, Filipino, Restaurants]</td>\n",
       "      <td>3.5</td>\n",
       "      <td>3</td>\n",
       "      <td>43.759288</td>\n",
       "      <td>-79.310866</td>\n",
       "    </tr>\n",
       "    <tr>\n",
       "      <th>5</th>\n",
       "      <td>y9yeMK6N0UINVECI3Ijz3Q</td>\n",
       "      <td>4.401293</td>\n",
       "      <td>Hot Dog Stand</td>\n",
       "      <td>[Hot Dogs, Restaurants]</td>\n",
       "      <td>4.0</td>\n",
       "      <td>3</td>\n",
       "      <td>43.681236</td>\n",
       "      <td>-79.377222</td>\n",
       "    </tr>\n",
       "    <tr>\n",
       "      <th>6</th>\n",
       "      <td>XKa5R1lJSvNrbo8InhNliQ</td>\n",
       "      <td>4.399106</td>\n",
       "      <td>Toronto Star Food Building</td>\n",
       "      <td>[Food, Fast Food, Restaurants]</td>\n",
       "      <td>4.5</td>\n",
       "      <td>3</td>\n",
       "      <td>43.632265</td>\n",
       "      <td>-79.420313</td>\n",
       "    </tr>\n",
       "    <tr>\n",
       "      <th>7</th>\n",
       "      <td>LIjlU7K-0SPXPtYFQiXamQ</td>\n",
       "      <td>4.392767</td>\n",
       "      <td>Magic Oven</td>\n",
       "      <td>[Food Stands, Sandwiches, Restaurants, Indian]</td>\n",
       "      <td>5.0</td>\n",
       "      <td>3</td>\n",
       "      <td>43.652294</td>\n",
       "      <td>-79.405521</td>\n",
       "    </tr>\n",
       "    <tr>\n",
       "      <th>8</th>\n",
       "      <td>fxRcHzovnRyWh_WMdQoNOQ</td>\n",
       "      <td>4.377005</td>\n",
       "      <td>Taj Restaurant</td>\n",
       "      <td>[Restaurants, Russian, Mediterranean]</td>\n",
       "      <td>5.0</td>\n",
       "      <td>4</td>\n",
       "      <td>43.696764</td>\n",
       "      <td>-79.446227</td>\n",
       "    </tr>\n",
       "    <tr>\n",
       "      <th>9</th>\n",
       "      <td>2H5EaBEreDzzP7sPmD_oDQ</td>\n",
       "      <td>4.362335</td>\n",
       "      <td>Vila Verde</td>\n",
       "      <td>[Restaurants, Event Planning &amp; Services, Portu...</td>\n",
       "      <td>4.0</td>\n",
       "      <td>4</td>\n",
       "      <td>43.651243</td>\n",
       "      <td>-79.410631</td>\n",
       "    </tr>\n",
       "  </tbody>\n",
       "</table>\n",
       "</div>"
      ],
      "text/plain": [
       "              business_id    rating               business_name  \\\n",
       "0  LcIgUlWaJJwtOfPoPWCmBg  4.570364               Souppe Shoppe   \n",
       "1  mpDcuUs6dB5uBsYVKDWCNQ  4.527902         Druxy's Famous Deli   \n",
       "2  1VAsBosvx02jpvIUxiKvmg  4.490123           The Dumpling Shop   \n",
       "3  9GLN1xfck07CKfNfejKCwg  4.438345                     T-Sushi   \n",
       "4  vAz5pelrjwkpMDo_OHCDAg  4.414823        Kuya Willie's Kainan   \n",
       "5  y9yeMK6N0UINVECI3Ijz3Q  4.401293               Hot Dog Stand   \n",
       "6  XKa5R1lJSvNrbo8InhNliQ  4.399106  Toronto Star Food Building   \n",
       "7  LIjlU7K-0SPXPtYFQiXamQ  4.392767                  Magic Oven   \n",
       "8  fxRcHzovnRyWh_WMdQoNOQ  4.377005              Taj Restaurant   \n",
       "9  2H5EaBEreDzzP7sPmD_oDQ  4.362335                  Vila Verde   \n",
       "\n",
       "                                          categories  stars  review_count  \\\n",
       "0  [Restaurants, Street Vendors, Food, Soup, Food...    5.0             4   \n",
       "1  [Restaurants, Sandwiches, Delis, Breakfast & B...    4.0             4   \n",
       "2  [Restaurants, Specialty Food, Chinese, Dim Sum...    4.5            11   \n",
       "3  [Food, Restaurants, Sushi Bars, Food Delivery ...    5.0            13   \n",
       "4        [Breakfast & Brunch, Filipino, Restaurants]    3.5             3   \n",
       "5                            [Hot Dogs, Restaurants]    4.0             3   \n",
       "6                     [Food, Fast Food, Restaurants]    4.5             3   \n",
       "7     [Food Stands, Sandwiches, Restaurants, Indian]    5.0             3   \n",
       "8              [Restaurants, Russian, Mediterranean]    5.0             4   \n",
       "9  [Restaurants, Event Planning & Services, Portu...    4.0             4   \n",
       "\n",
       "    latitude  longitude  \n",
       "0  43.651425 -79.404123  \n",
       "1  43.648235 -79.379525  \n",
       "2  43.767971 -79.401363  \n",
       "3  43.644745 -79.390892  \n",
       "4  43.759288 -79.310866  \n",
       "5  43.681236 -79.377222  \n",
       "6  43.632265 -79.420313  \n",
       "7  43.652294 -79.405521  \n",
       "8  43.696764 -79.446227  \n",
       "9  43.651243 -79.410631  "
      ]
     },
     "execution_count": 36,
     "metadata": {},
     "output_type": "execute_result"
    }
   ],
   "source": [
    "u_id = 'ZWD8UH1T7QXQr0Eq-mcWYg'\n",
    "\n",
    "getCollabRecom(u_id).toPandas()"
   ]
  },
  {
   "cell_type": "code",
   "execution_count": 37,
   "metadata": {
    "collapsed": false
   },
   "outputs": [
    {
     "data": {
      "text/html": [
       "<div style=\"width:100%;\"><div style=\"position:relative;width:100%;height:0;padding-bottom:60%;\"><iframe src=\"data:text/html;charset=utf-8;base64,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\" style=\"position:absolute;width:100%;height:100%;left:0;top:0;border:none !important;\" allowfullscreen webkitallowfullscreen mozallowfullscreen></iframe></div></div>"
      ],
      "text/plain": [
       "<folium.folium.Map at 0x7fdea3e1e9b0>"
      ]
     },
     "execution_count": 37,
     "metadata": {},
     "output_type": "execute_result"
    }
   ],
   "source": [
    "u_id = 'ZWD8UH1T7QXQr0Eq-mcWYg'\n",
    "showInMap(getCollabRecom(u_id))"
   ]
  }
 ],
 "metadata": {
  "anaconda-cloud": {},
  "kernelspec": {
   "display_name": "Python [conda root]",
   "language": "python",
   "name": "conda-root-py"
  },
  "language_info": {
   "codemirror_mode": {
    "name": "ipython",
    "version": 3
   },
   "file_extension": ".py",
   "mimetype": "text/x-python",
   "name": "python",
   "nbconvert_exporter": "python",
   "pygments_lexer": "ipython3",
   "version": "3.5.2"
  }
 },
 "nbformat": 4,
 "nbformat_minor": 1
}
