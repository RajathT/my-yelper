{
 "cells": [
  {
   "cell_type": "code",
   "execution_count": 38,
   "metadata": {
    "collapsed": true
   },
   "outputs": [],
   "source": [
    "import numpy as np\n",
    "import pandas as pd\n",
    "import matplotlib.pyplot as plt\n",
    "\n",
    "from pyspark.ml import Pipeline\n",
    "from pyspark.sql.functions import *\n",
    "from pyspark.sql.types import *\n",
    "\n",
    "\n",
    "from pyspark.sql import Row\n",
    "\n",
    "from pyspark.ml.recommendation import ALS, ALSModel\n",
    "from pyspark.ml.tuning import TrainValidationSplit, ParamGridBuilder, CrossValidator\n",
    "from pyspark.ml.evaluation import RegressionEvaluator\n"
   ]
  },
  {
   "cell_type": "code",
   "execution_count": 3,
   "metadata": {
    "collapsed": true
   },
   "outputs": [],
   "source": [
    "data_path = '/home/osboxes/yelp-data/dataset/'\n",
    "model_path = '/home/osboxes/yelp-data/'"
   ]
  },
  {
   "cell_type": "markdown",
   "metadata": {},
   "source": [
    "### Collaborative Filtering"
   ]
  },
  {
   "cell_type": "code",
   "execution_count": 4,
   "metadata": {
    "collapsed": false
   },
   "outputs": [
    {
     "name": "stdout",
     "output_type": "stream",
     "text": [
      "root\n",
      " |-- business_id: string (nullable = true)\n",
      " |-- business_name: string (nullable = true)\n",
      " |-- neighborhood: string (nullable = true)\n",
      " |-- address: string (nullable = true)\n",
      " |-- city: string (nullable = true)\n",
      " |-- state: string (nullable = true)\n",
      " |-- postal_code: string (nullable = true)\n",
      " |-- latitude: double (nullable = true)\n",
      " |-- longitude: double (nullable = true)\n",
      " |-- stars: double (nullable = true)\n",
      " |-- review_count: long (nullable = true)\n",
      " |-- categories: array (nullable = true)\n",
      " |    |-- element: string (containsNull = true)\n",
      "\n"
     ]
    }
   ],
   "source": [
    "# create the business dataframe\n",
    "business_df = spark.read.parquet(data_path + 'business-small.parquet')\n",
    "\n",
    "# print the schema of the review dataframe\n",
    "business_df.printSchema()"
   ]
  },
  {
   "cell_type": "code",
   "execution_count": 5,
   "metadata": {
    "collapsed": false
   },
   "outputs": [
    {
     "name": "stdout",
     "output_type": "stream",
     "text": [
      "root\n",
      " |-- user_id: string (nullable = true)\n",
      " |-- user_name: string (nullable = true)\n",
      " |-- review_count: long (nullable = true)\n",
      " |-- yelping_since: string (nullable = true)\n",
      " |-- useful: long (nullable = true)\n",
      " |-- funny: long (nullable = true)\n",
      " |-- cool: long (nullable = true)\n",
      " |-- fans: long (nullable = true)\n",
      " |-- average_stars: double (nullable = true)\n",
      "\n"
     ]
    }
   ],
   "source": [
    "# create the business dataframe\n",
    "user_df = spark.read.parquet(data_path + 'user-small.parquet')\n",
    "\n",
    "# print the schema of the review dataframe\n",
    "user_df.printSchema()"
   ]
  },
  {
   "cell_type": "code",
   "execution_count": 6,
   "metadata": {
    "collapsed": false
   },
   "outputs": [
    {
     "name": "stdout",
     "output_type": "stream",
     "text": [
      "root\n",
      " |-- review_id: string (nullable = true)\n",
      " |-- user_id: string (nullable = true)\n",
      " |-- business_id: string (nullable = true)\n",
      " |-- stars: long (nullable = true)\n",
      " |-- review_date: string (nullable = true)\n",
      " |-- review_text: string (nullable = true)\n",
      " |-- useful: long (nullable = true)\n",
      " |-- funny: long (nullable = true)\n",
      " |-- cool: long (nullable = true)\n",
      "\n"
     ]
    }
   ],
   "source": [
    "# create the review dataframe\n",
    "\n",
    "review_df = spark.read.parquet(data_path + 'review-small.parquet')\n",
    "\n",
    "# print the schema of the review dataframe\n",
    "review_df.printSchema()"
   ]
  },
  {
   "cell_type": "code",
   "execution_count": 7,
   "metadata": {
    "collapsed": false
   },
   "outputs": [
    {
     "name": "stdout",
     "output_type": "stream",
     "text": [
      "+--------------------+--------------------+\n",
      "|         business_id|       business_name|\n",
      "+--------------------+--------------------+\n",
      "|qim0lD112TkDhm8Zy...|McCarthy's Irish Pub|\n",
      "|Wf5C8Amv_SlhoYE3_...|         Oishi Sushi|\n",
      "+--------------------+--------------------+\n",
      "only showing top 2 rows\n",
      "\n"
     ]
    }
   ],
   "source": [
    "business_df.select('business_id', 'business_name').show(2)"
   ]
  },
  {
   "cell_type": "code",
   "execution_count": 8,
   "metadata": {
    "collapsed": false
   },
   "outputs": [
    {
     "name": "stdout",
     "output_type": "stream",
     "text": [
      "+--------------------+---------+\n",
      "|             user_id|user_name|\n",
      "+--------------------+---------+\n",
      "|om5ZiponkpRqUNa3p...|   Andrea|\n",
      "|Wc5L6iuvSNF5WGBlq...|     Risa|\n",
      "+--------------------+---------+\n",
      "only showing top 2 rows\n",
      "\n"
     ]
    }
   ],
   "source": [
    "user_df.select('user_id', 'user_name').show(2)"
   ]
  },
  {
   "cell_type": "code",
   "execution_count": 9,
   "metadata": {
    "collapsed": false
   },
   "outputs": [
    {
     "name": "stdout",
     "output_type": "stream",
     "text": [
      "+--------------------+--------------------+-----+\n",
      "|             user_id|         business_id|stars|\n",
      "+--------------------+--------------------+-----+\n",
      "|djpMXOA1ic5wv3FPt...|mr4FiPaXTWlJ3qGzp...|    3|\n",
      "|-pXs08gJq9ExIk275...|mr4FiPaXTWlJ3qGzp...|    3|\n",
      "+--------------------+--------------------+-----+\n",
      "only showing top 2 rows\n",
      "\n"
     ]
    }
   ],
   "source": [
    "review_df.select('user_id', 'business_id', 'stars').show(2)"
   ]
  },
  {
   "cell_type": "markdown",
   "metadata": {},
   "source": [
    "Spark ALS implementation requires the rating matrix to have the follwoing data types:\n",
    "\n",
    "```\n",
    "ratings_df_schema = StructType(\n",
    "[StructField('userId', IntegerType()),\n",
    " StructField('businessId', IntegerType()),\n",
    " StructField('rating', DoubleType())]\n",
    ")\n",
    "```\n",
    "\n",
    "So, we need to map existing string user_id, and business_id to integer values"
   ]
  },
  {
   "cell_type": "code",
   "execution_count": 10,
   "metadata": {
    "collapsed": false
   },
   "outputs": [
    {
     "name": "stdout",
     "output_type": "stream",
     "text": [
      "+--------------------+------+\n",
      "|             user_id|userId|\n",
      "+--------------------+------+\n",
      "|om5ZiponkpRqUNa3p...|     0|\n",
      "|Wc5L6iuvSNF5WGBlq...|     1|\n",
      "+--------------------+------+\n",
      "only showing top 2 rows\n",
      "\n"
     ]
    }
   ],
   "source": [
    "# create a new userId column (integer)\n",
    "\n",
    "user_newid_df = sqlContext.createDataFrame(user_df.rdd.map(lambda x: x[0]).zipWithIndex(), \\\n",
    "        StructType([StructField(\"user_id\", StringType(), True),StructField(\"userId\", IntegerType(), True)]))\n",
    "\n",
    "user_newid_df.show(2)"
   ]
  },
  {
   "cell_type": "code",
   "execution_count": 11,
   "metadata": {
    "collapsed": false
   },
   "outputs": [
    {
     "name": "stdout",
     "output_type": "stream",
     "text": [
      "+------+--------------------+---------+\n",
      "|userId|             user_id|user_name|\n",
      "+------+--------------------+---------+\n",
      "|     0|om5ZiponkpRqUNa3p...|   Andrea|\n",
      "|     1|Wc5L6iuvSNF5WGBlq...|     Risa|\n",
      "+------+--------------------+---------+\n",
      "only showing top 2 rows\n",
      "\n"
     ]
    }
   ],
   "source": [
    "# add the new userId column the user dataframe\n",
    "\n",
    "a = user_df.alias(\"a\")\n",
    "b = user_newid_df.alias(\"b\")\n",
    "    \n",
    "user_new_df = a.join(b, col(\"a.user_id\") == col(\"b.user_id\"), 'inner') \\\n",
    "             .select([col('a.'+xx) for xx in a.columns] + [col('b.userId')])\n",
    "\n",
    "user_new_df.select('userId','user_id', 'user_name').show(2)"
   ]
  },
  {
   "cell_type": "code",
   "execution_count": 12,
   "metadata": {
    "collapsed": false
   },
   "outputs": [
    {
     "name": "stdout",
     "output_type": "stream",
     "text": [
      "+--------------------+----------+\n",
      "|         business_id|businessId|\n",
      "+--------------------+----------+\n",
      "|qim0lD112TkDhm8Zy...|         0|\n",
      "|Wf5C8Amv_SlhoYE3_...|         1|\n",
      "+--------------------+----------+\n",
      "only showing top 2 rows\n",
      "\n"
     ]
    }
   ],
   "source": [
    "\n",
    "# create a new businessId column (integer)\n",
    "\n",
    "business_newid_df = sqlContext.createDataFrame(business_df.rdd.map(lambda x: x[0]).zipWithIndex(), \\\n",
    "        StructType([StructField(\"business_id\", StringType(), True),StructField(\"businessId\", IntegerType(), True)]))\n",
    "\n",
    "business_newid_df.show(2)"
   ]
  },
  {
   "cell_type": "code",
   "execution_count": 13,
   "metadata": {
    "collapsed": false
   },
   "outputs": [
    {
     "name": "stdout",
     "output_type": "stream",
     "text": [
      "+----------+--------------------+--------------------+\n",
      "|businessId|         business_id|       business_name|\n",
      "+----------+--------------------+--------------------+\n",
      "|         0|qim0lD112TkDhm8Zy...|McCarthy's Irish Pub|\n",
      "|         1|Wf5C8Amv_SlhoYE3_...|         Oishi Sushi|\n",
      "+----------+--------------------+--------------------+\n",
      "only showing top 2 rows\n",
      "\n"
     ]
    }
   ],
   "source": [
    "# add the new businessId column the business dataframe\n",
    "\n",
    "a = business_df.alias(\"a\")\n",
    "b = business_newid_df.alias(\"b\")\n",
    "    \n",
    "business_new_df = a.join(b, col(\"a.business_id\") == col(\"b.business_id\"), 'inner') \\\n",
    "             .select([col('a.'+xx) for xx in a.columns] + [col('b.businessId')])\n",
    "\n",
    "business_new_df.select('businessId','business_id', 'business_name').show(2)"
   ]
  },
  {
   "cell_type": "code",
   "execution_count": 14,
   "metadata": {
    "collapsed": false
   },
   "outputs": [
    {
     "name": "stdout",
     "output_type": "stream",
     "text": [
      "+--------------------+--------------------+-----+------+----------+\n",
      "|             user_id|         business_id|stars|userId|businessId|\n",
      "+--------------------+--------------------+-----+------+----------+\n",
      "|u642WP1g6Z3oRA9qd...|1RFIVcZYV77tGIwVV...|    5| 23561|       872|\n",
      "|CGmWH1Nwx1hbasHqo...|1RFIVcZYV77tGIwVV...|    4|  6268|       872|\n",
      "+--------------------+--------------------+-----+------+----------+\n",
      "only showing top 2 rows\n",
      "\n"
     ]
    }
   ],
   "source": [
    "# map new userId and businessId in the review dataframe\n",
    "\n",
    "review_df = review_df.select('user_id', 'business_id', 'stars')\n",
    "\n",
    "\n",
    "# map the userId\n",
    "a = review_df.alias(\"a\")\n",
    "b = user_newid_df.alias(\"b\")\n",
    "    \n",
    "review_userId_df = a.join(b, col(\"a.user_id\") == col(\"b.user_id\"), 'inner') \\\n",
    "                     .select([col('a.'+xx) for xx in a.columns] + [col('b.userId')])\n",
    "\n",
    "# map the businessId\n",
    "a = review_userId_df.alias(\"a\")\n",
    "b = business_newid_df.alias(\"b\")\n",
    "\n",
    "review_userId_businessId_df = a.join(b, col(\"a.business_id\") == col(\"b.business_id\"), 'inner') \\\n",
    "                         .select([col('a.'+xx) for xx in a.columns] + [col('b.businessId')])\n",
    "\n",
    "review_userId_businessId_df.show(2)"
   ]
  },
  {
   "cell_type": "code",
   "execution_count": 15,
   "metadata": {
    "collapsed": false
   },
   "outputs": [
    {
     "name": "stdout",
     "output_type": "stream",
     "text": [
      "+------+----------+------+\n",
      "|userId|businessId|rating|\n",
      "+------+----------+------+\n",
      "| 23561|       872|   5.0|\n",
      "|  6268|       872|   4.0|\n",
      "+------+----------+------+\n",
      "only showing top 2 rows\n",
      "\n",
      "root\n",
      " |-- userId: integer (nullable = true)\n",
      " |-- businessId: integer (nullable = true)\n",
      " |-- rating: float (nullable = true)\n",
      "\n"
     ]
    }
   ],
   "source": [
    "# create the rating dataframe required by the ALS model\n",
    "\n",
    "rating_df = review_userId_businessId_df.select('userId', 'businessId', review_userId_businessId_df.stars.cast('float').alias('rating'))\n",
    "rating_df.show(2)\n",
    "rating_df.printSchema()"
   ]
  },
  {
   "cell_type": "code",
   "execution_count": 33,
   "metadata": {
    "collapsed": true
   },
   "outputs": [],
   "source": [
    "\n",
    "(train, test) = rating_df.randomSplit([0.8, 0.2], seed=123)"
   ]
  },
  {
   "cell_type": "markdown",
   "metadata": {
    "collapsed": false
   },
   "source": [
    "```\n",
    "# very lengthy process of Cross Validation\n",
    "\n",
    "als = ALS(userCol=\"userId\", itemCol=\"businessId\", ratingCol=\"rating\", coldStartStrategy=\"drop\")\n",
    "\n",
    "param_grid = ParamGridBuilder().addGrid(\n",
    "    als.rank,\n",
    "    [10, 15, 20],\n",
    ").addGrid(\n",
    "    als.maxIter,\n",
    "    [10, 15, 20],\n",
    ").build()\n",
    "\n",
    "evaluator = RegressionEvaluator(\n",
    "    metricName=\"rmse\",\n",
    "    labelCol=\"rating\",\n",
    ")\n",
    "\n",
    "cv = CrossValidator(estimator=als, estimatorParamMaps=param_grid, evaluator=evaluator, numFolds=5, seed=123)\n",
    "cv_als_model = cv.fit(train)\n",
    "\n",
    "# Evaluate the model by computing the RMSE on the test data\n",
    "\n",
    "als_predictions = cv_als_model.bestModel.transform(test)\n",
    "evaluator = RegressionEvaluator(metricName=\"rmse\", labelCol=\"rating\", predictionCol=\"prediction\")\n",
    "rmse = evaluator.evaluate(als_predictions)\n",
    "print(\"Root-mean-square error = \" + str(rmse))\n",
    "\n",
    "best_model = cv_als_model.bestModel\n",
    "\n",
    "#best_rank is 20\n",
    "best_model.rank\n",
    "\n",
    "#best_maxIter is 20\n",
    "(best_model\n",
    "    ._java_obj     # Get Java object\n",
    "    .parent()      # Get parent (ALS estimator)\n",
    "    .getMaxIter()) # Get maxIter\n",
    "\n",
    "\n",
    "# Root-mean-square error is 1.3383152747968081\n",
    "```"
   ]
  },
  {
   "cell_type": "code",
   "execution_count": 34,
   "metadata": {
    "collapsed": false
   },
   "outputs": [
    {
     "name": "stdout",
     "output_type": "stream",
     "text": [
      "Root-mean-square error = 1.2579688933524986\n"
     ]
    }
   ],
   "source": [
    "\n",
    "alsb = ALS(rank=20, maxIter=20, regParam=0.3, userCol=\"userId\", itemCol=\"businessId\", ratingCol=\"rating\", \\\n",
    "               coldStartStrategy=\"drop\", seed=123)\n",
    "alsb_model = alsb.fit(train)\n",
    "\n",
    "alsb_predictions = alsb_model.transform(test)\n",
    "evaluator = RegressionEvaluator(metricName=\"rmse\", labelCol=\"rating\", predictionCol=\"prediction\")\n",
    "rmse = evaluator.evaluate(alsb_predictions)\n",
    "print(\"Root-mean-square error = \" + str(rmse))\n",
    "\n",
    "# save the ALS model\n",
    "alsb_model.write().overwrite().save(model_path + 'als')\n"
   ]
  },
  {
   "cell_type": "code",
   "execution_count": 41,
   "metadata": {
    "collapsed": false
   },
   "outputs": [],
   "source": [
    "# load a new instance of the saved ALS model\n",
    "alsn_model = ALSModel.load(model_path + 'als')"
   ]
  },
  {
   "cell_type": "code",
   "execution_count": 42,
   "metadata": {
    "collapsed": true
   },
   "outputs": [],
   "source": [
    "# generate top 10 business recommendations for each user\n",
    "\n",
    "userRecs = alsn_model.recommendForAllUsers(10)\n"
   ]
  },
  {
   "cell_type": "code",
   "execution_count": 82,
   "metadata": {
    "collapsed": false
   },
   "outputs": [
    {
     "name": "stdout",
     "output_type": "stream",
     "text": [
      "+------+----------------------------------------------------------------------------------------------------------------------------------------------------------------------------+\n",
      "|userId|recommendations                                                                                                                                                             |\n",
      "+------+----------------------------------------------------------------------------------------------------------------------------------------------------------------------------+\n",
      "|148   |[[4592,4.6922364], [2432,4.614214], [401,4.4767885], [6596,4.439251], [2848,4.3852043], [810,4.359094], [4267,4.340767], [1410,4.307626], [4390,4.2542963], [4408,4.245825]]|\n",
      "+------+----------------------------------------------------------------------------------------------------------------------------------------------------------------------------+\n",
      "only showing top 1 row\n",
      "\n"
     ]
    }
   ],
   "source": [
    "userRecs.cache()\n",
    "userRecs.show(1, truncate = False)"
   ]
  },
  {
   "cell_type": "code",
   "execution_count": 63,
   "metadata": {
    "collapsed": false
   },
   "outputs": [],
   "source": [
    "u_id = 'ZWD8UH1T7QXQr0Eq-mcWYg'\n",
    "\n",
    "uId = user_newid_df.filter(col('user_id') == u_id).select('userId').collect()[0][0]\n",
    "\n",
    "userFlatRec =  sqlContext.createDataFrame(userRecs.filter(col('userId') == uId).rdd.flatMap(lambda p: p[1]))\n"
   ]
  },
  {
   "cell_type": "code",
   "execution_count": 64,
   "metadata": {
    "collapsed": false
   },
   "outputs": [
    {
     "name": "stdout",
     "output_type": "stream",
     "text": [
      "+----------+------------------+\n",
      "|businessId|            rating|\n",
      "+----------+------------------+\n",
      "|      2432| 4.570364475250244|\n",
      "|      4592| 4.527902126312256|\n",
      "|      2668| 4.490123271942139|\n",
      "|       401| 4.438344955444336|\n",
      "|       810| 4.414823055267334|\n",
      "|      2028|4.4012932777404785|\n",
      "|      3237| 4.399106025695801|\n",
      "|      4133| 4.392766952514648|\n",
      "|      4408| 4.377004623413086|\n",
      "|      5664| 4.362335205078125|\n",
      "+----------+------------------+\n",
      "\n"
     ]
    }
   ],
   "source": [
    "userFlatRec.show()"
   ]
  },
  {
   "cell_type": "code",
   "execution_count": 68,
   "metadata": {
    "collapsed": false
   },
   "outputs": [
    {
     "name": "stdout",
     "output_type": "stream",
     "text": [
      "+--------------------+--------------------+--------------------+--------------------+-------+-----+-----------+-------------+--------------+-----+------------+--------------------+----------+------------------+\n",
      "|         business_id|       business_name|        neighborhood|             address|   city|state|postal_code|     latitude|     longitude|stars|review_count|          categories|businessId|            rating|\n",
      "+--------------------+--------------------+--------------------+--------------------+-------+-----+-----------+-------------+--------------+-----+------------+--------------------+----------+------------------+\n",
      "|2H5EaBEreDzzP7sPm...|          Vila Verde|   Trinity Bellwoods| 869 Dundas Street W|Toronto|   ON|    M6J 1V6|   43.6512434|   -79.4106314|  4.0|           4|[Restaurants, Eve...|      5664| 4.362335205078125|\n",
      "|mpDcuUs6dB5uBsYVK...| Druxy's Famous Deli|       Downtown Core|Commerce Court, 1...|Toronto|   ON|    M5J 2S4|   43.6482347|   -79.3795255|  4.0|           4|[Restaurants, San...|      4592| 4.527902126312256|\n",
      "|1VAsBosvx02jpvIUx...|   The Dumpling Shop|          Willowdale|184 Willowdale Av...|Toronto|   ON|    M2N 4Y9|   43.7679712|   -79.4013625|  4.5|          11|[Restaurants, Spe...|      2668| 4.490123271942139|\n",
      "|XKa5R1lJSvNrbo8In...|Toronto Star Food...|                    |Exhibition Place,...|Toronto|   ON|        M6K|43.6322653078|-79.4203133579|  4.5|           3|[Food, Fast Food,...|      3237| 4.399106025695801|\n",
      "|LcIgUlWaJJwtOfPoP...|       Souppe Shoppe|      Alexandra Park| 707 Dundas Street W|Toronto|   ON|    M5T 2W6|   43.6514248|   -79.4041234|  5.0|           4|[Restaurants, Str...|      2432| 4.570364475250244|\n",
      "|vAz5pelrjwkpMDo_O...|Kuya Willie's Kainan|         Scarborough|80 Ellesmere Road...|Toronto|   ON|    M1R 4C2|   43.7592876|    -79.310866|  3.5|           3|[Breakfast & Brun...|       810| 4.414823055267334|\n",
      "|9GLN1xfck07CKfNfe...|             T-Sushi|Entertainment Dis...|263 Wellington St...|Toronto|   ON|    M5V 3E6|43.6447454779|-79.3908923172|  5.0|          13|[Food, Restaurant...|       401| 4.438344955444336|\n",
      "|y9yeMK6N0UINVECI3...|       Hot Dog Stand|            Rosedale|   130A St George St|Toronto|   ON|    M4W 1A7|   43.6812364|   -79.3772218|  4.0|           3|[Hot Dogs, Restau...|      2028|4.4012932777404785|\n",
      "|LIjlU7K-0SPXPtYFQ...|          Magic Oven|      Alexandra Park|Scadding Court Co...|Toronto|   ON|    M5T 2W6|43.6522937615|-79.4055211544|  5.0|           3|[Food Stands, San...|      4133| 4.392766952514648|\n",
      "|fxRcHzovnRyWh_WMd...|      Taj Restaurant|                    |1698 Eglinton Ave...|Toronto|   ON|    M6E 2H5|   43.6967642|   -79.4462269|  5.0|           4|[Restaurants, Rus...|      4408| 4.377004623413086|\n",
      "+--------------------+--------------------+--------------------+--------------------+-------+-----+-----------+-------------+--------------+-----+------------+--------------------+----------+------------------+\n",
      "\n"
     ]
    }
   ],
   "source": [
    "\n",
    "a = business_new_df.alias(\"a\")\n",
    "b = userFlatRec.alias(\"b\")\n",
    "\n",
    "user_collab_df = a.join(b, col(\"a.businessId\") == col(\"b.businessId\"), 'inner') \\\n",
    "                         .select([col('a.'+xx) for xx in a.columns] + [col('b.rating')])\n",
    "    \n",
    "user_collab_df.show()"
   ]
  },
  {
   "cell_type": "code",
   "execution_count": 76,
   "metadata": {
    "collapsed": false
   },
   "outputs": [],
   "source": [
    "def getCollabRecom(u_id):\n",
    "    \n",
    "\n",
    "    uId = user_newid_df.filter(col('user_id') == u_id).select('userId').collect()[0][0]\n",
    "\n",
    "    userFlatRec =  sqlContext.createDataFrame(userRecs.filter(col('userId') == uId).rdd.flatMap(lambda p: p[1]))\n",
    "\n",
    "    a = userFlatRec.alias(\"a\")\n",
    "    b = business_new_df.alias(\"b\")\n",
    "    \n",
    "    return a.join(b, col(\"a.businessId\") == col(\"b.businessId\"), 'inner') \\\n",
    "             .select([col('b.business_id'), col('a.rating'), col('b.business_name'),col('b.categories'),\n",
    "                                                           col('b.stars'),col('b.review_count'),\n",
    "                                                           col('b.latitude'),col('b.longitude')]) \\\n",
    "             .orderBy(\"rating\", ascending = False)\n",
    "    "
   ]
  },
  {
   "cell_type": "code",
   "execution_count": 75,
   "metadata": {
    "collapsed": false
   },
   "outputs": [
    {
     "data": {
      "text/html": [
       "<div>\n",
       "<table border=\"1\" class=\"dataframe\">\n",
       "  <thead>\n",
       "    <tr style=\"text-align: right;\">\n",
       "      <th></th>\n",
       "      <th>business_id</th>\n",
       "      <th>rating</th>\n",
       "      <th>business_name</th>\n",
       "      <th>categories</th>\n",
       "      <th>stars</th>\n",
       "      <th>review_count</th>\n",
       "      <th>latitude</th>\n",
       "      <th>longitude</th>\n",
       "    </tr>\n",
       "  </thead>\n",
       "  <tbody>\n",
       "    <tr>\n",
       "      <th>0</th>\n",
       "      <td>LcIgUlWaJJwtOfPoPWCmBg</td>\n",
       "      <td>4.570364</td>\n",
       "      <td>Souppe Shoppe</td>\n",
       "      <td>[Restaurants, Street Vendors, Food, Soup, Food...</td>\n",
       "      <td>5.0</td>\n",
       "      <td>4</td>\n",
       "      <td>43.651425</td>\n",
       "      <td>-79.404123</td>\n",
       "    </tr>\n",
       "    <tr>\n",
       "      <th>1</th>\n",
       "      <td>mpDcuUs6dB5uBsYVKDWCNQ</td>\n",
       "      <td>4.527902</td>\n",
       "      <td>Druxy's Famous Deli</td>\n",
       "      <td>[Restaurants, Sandwiches, Delis, Breakfast &amp; B...</td>\n",
       "      <td>4.0</td>\n",
       "      <td>4</td>\n",
       "      <td>43.648235</td>\n",
       "      <td>-79.379525</td>\n",
       "    </tr>\n",
       "    <tr>\n",
       "      <th>2</th>\n",
       "      <td>1VAsBosvx02jpvIUxiKvmg</td>\n",
       "      <td>4.490123</td>\n",
       "      <td>The Dumpling Shop</td>\n",
       "      <td>[Restaurants, Specialty Food, Chinese, Dim Sum...</td>\n",
       "      <td>4.5</td>\n",
       "      <td>11</td>\n",
       "      <td>43.767971</td>\n",
       "      <td>-79.401363</td>\n",
       "    </tr>\n",
       "    <tr>\n",
       "      <th>3</th>\n",
       "      <td>9GLN1xfck07CKfNfejKCwg</td>\n",
       "      <td>4.438345</td>\n",
       "      <td>T-Sushi</td>\n",
       "      <td>[Food, Restaurants, Sushi Bars, Food Delivery ...</td>\n",
       "      <td>5.0</td>\n",
       "      <td>13</td>\n",
       "      <td>43.644745</td>\n",
       "      <td>-79.390892</td>\n",
       "    </tr>\n",
       "    <tr>\n",
       "      <th>4</th>\n",
       "      <td>vAz5pelrjwkpMDo_OHCDAg</td>\n",
       "      <td>4.414823</td>\n",
       "      <td>Kuya Willie's Kainan</td>\n",
       "      <td>[Breakfast &amp; Brunch, Filipino, Restaurants]</td>\n",
       "      <td>3.5</td>\n",
       "      <td>3</td>\n",
       "      <td>43.759288</td>\n",
       "      <td>-79.310866</td>\n",
       "    </tr>\n",
       "    <tr>\n",
       "      <th>5</th>\n",
       "      <td>y9yeMK6N0UINVECI3Ijz3Q</td>\n",
       "      <td>4.401293</td>\n",
       "      <td>Hot Dog Stand</td>\n",
       "      <td>[Hot Dogs, Restaurants]</td>\n",
       "      <td>4.0</td>\n",
       "      <td>3</td>\n",
       "      <td>43.681236</td>\n",
       "      <td>-79.377222</td>\n",
       "    </tr>\n",
       "    <tr>\n",
       "      <th>6</th>\n",
       "      <td>XKa5R1lJSvNrbo8InhNliQ</td>\n",
       "      <td>4.399106</td>\n",
       "      <td>Toronto Star Food Building</td>\n",
       "      <td>[Food, Fast Food, Restaurants]</td>\n",
       "      <td>4.5</td>\n",
       "      <td>3</td>\n",
       "      <td>43.632265</td>\n",
       "      <td>-79.420313</td>\n",
       "    </tr>\n",
       "    <tr>\n",
       "      <th>7</th>\n",
       "      <td>LIjlU7K-0SPXPtYFQiXamQ</td>\n",
       "      <td>4.392767</td>\n",
       "      <td>Magic Oven</td>\n",
       "      <td>[Food Stands, Sandwiches, Restaurants, Indian]</td>\n",
       "      <td>5.0</td>\n",
       "      <td>3</td>\n",
       "      <td>43.652294</td>\n",
       "      <td>-79.405521</td>\n",
       "    </tr>\n",
       "    <tr>\n",
       "      <th>8</th>\n",
       "      <td>fxRcHzovnRyWh_WMdQoNOQ</td>\n",
       "      <td>4.377005</td>\n",
       "      <td>Taj Restaurant</td>\n",
       "      <td>[Restaurants, Russian, Mediterranean]</td>\n",
       "      <td>5.0</td>\n",
       "      <td>4</td>\n",
       "      <td>43.696764</td>\n",
       "      <td>-79.446227</td>\n",
       "    </tr>\n",
       "    <tr>\n",
       "      <th>9</th>\n",
       "      <td>2H5EaBEreDzzP7sPmD_oDQ</td>\n",
       "      <td>4.362335</td>\n",
       "      <td>Vila Verde</td>\n",
       "      <td>[Restaurants, Event Planning &amp; Services, Portu...</td>\n",
       "      <td>4.0</td>\n",
       "      <td>4</td>\n",
       "      <td>43.651243</td>\n",
       "      <td>-79.410631</td>\n",
       "    </tr>\n",
       "  </tbody>\n",
       "</table>\n",
       "</div>"
      ],
      "text/plain": [
       "              business_id    rating               business_name  \\\n",
       "0  LcIgUlWaJJwtOfPoPWCmBg  4.570364               Souppe Shoppe   \n",
       "1  mpDcuUs6dB5uBsYVKDWCNQ  4.527902         Druxy's Famous Deli   \n",
       "2  1VAsBosvx02jpvIUxiKvmg  4.490123           The Dumpling Shop   \n",
       "3  9GLN1xfck07CKfNfejKCwg  4.438345                     T-Sushi   \n",
       "4  vAz5pelrjwkpMDo_OHCDAg  4.414823        Kuya Willie's Kainan   \n",
       "5  y9yeMK6N0UINVECI3Ijz3Q  4.401293               Hot Dog Stand   \n",
       "6  XKa5R1lJSvNrbo8InhNliQ  4.399106  Toronto Star Food Building   \n",
       "7  LIjlU7K-0SPXPtYFQiXamQ  4.392767                  Magic Oven   \n",
       "8  fxRcHzovnRyWh_WMdQoNOQ  4.377005              Taj Restaurant   \n",
       "9  2H5EaBEreDzzP7sPmD_oDQ  4.362335                  Vila Verde   \n",
       "\n",
       "                                          categories  stars  review_count  \\\n",
       "0  [Restaurants, Street Vendors, Food, Soup, Food...    5.0             4   \n",
       "1  [Restaurants, Sandwiches, Delis, Breakfast & B...    4.0             4   \n",
       "2  [Restaurants, Specialty Food, Chinese, Dim Sum...    4.5            11   \n",
       "3  [Food, Restaurants, Sushi Bars, Food Delivery ...    5.0            13   \n",
       "4        [Breakfast & Brunch, Filipino, Restaurants]    3.5             3   \n",
       "5                            [Hot Dogs, Restaurants]    4.0             3   \n",
       "6                     [Food, Fast Food, Restaurants]    4.5             3   \n",
       "7     [Food Stands, Sandwiches, Restaurants, Indian]    5.0             3   \n",
       "8              [Restaurants, Russian, Mediterranean]    5.0             4   \n",
       "9  [Restaurants, Event Planning & Services, Portu...    4.0             4   \n",
       "\n",
       "    latitude  longitude  \n",
       "0  43.651425 -79.404123  \n",
       "1  43.648235 -79.379525  \n",
       "2  43.767971 -79.401363  \n",
       "3  43.644745 -79.390892  \n",
       "4  43.759288 -79.310866  \n",
       "5  43.681236 -79.377222  \n",
       "6  43.632265 -79.420313  \n",
       "7  43.652294 -79.405521  \n",
       "8  43.696764 -79.446227  \n",
       "9  43.651243 -79.410631  "
      ]
     },
     "execution_count": 75,
     "metadata": {},
     "output_type": "execute_result"
    }
   ],
   "source": [
    "getBusinessDetails(userFlatRec).toPandas()"
   ]
  },
  {
   "cell_type": "code",
   "execution_count": 83,
   "metadata": {
    "collapsed": false
   },
   "outputs": [
    {
     "data": {
      "text/html": [
       "<div>\n",
       "<table border=\"1\" class=\"dataframe\">\n",
       "  <thead>\n",
       "    <tr style=\"text-align: right;\">\n",
       "      <th></th>\n",
       "      <th>business_id</th>\n",
       "      <th>rating</th>\n",
       "      <th>business_name</th>\n",
       "      <th>categories</th>\n",
       "      <th>stars</th>\n",
       "      <th>review_count</th>\n",
       "      <th>latitude</th>\n",
       "      <th>longitude</th>\n",
       "    </tr>\n",
       "  </thead>\n",
       "  <tbody>\n",
       "    <tr>\n",
       "      <th>0</th>\n",
       "      <td>LcIgUlWaJJwtOfPoPWCmBg</td>\n",
       "      <td>4.570364</td>\n",
       "      <td>Souppe Shoppe</td>\n",
       "      <td>[Restaurants, Street Vendors, Food, Soup, Food...</td>\n",
       "      <td>5.0</td>\n",
       "      <td>4</td>\n",
       "      <td>43.651425</td>\n",
       "      <td>-79.404123</td>\n",
       "    </tr>\n",
       "    <tr>\n",
       "      <th>1</th>\n",
       "      <td>mpDcuUs6dB5uBsYVKDWCNQ</td>\n",
       "      <td>4.527902</td>\n",
       "      <td>Druxy's Famous Deli</td>\n",
       "      <td>[Restaurants, Sandwiches, Delis, Breakfast &amp; B...</td>\n",
       "      <td>4.0</td>\n",
       "      <td>4</td>\n",
       "      <td>43.648235</td>\n",
       "      <td>-79.379525</td>\n",
       "    </tr>\n",
       "    <tr>\n",
       "      <th>2</th>\n",
       "      <td>1VAsBosvx02jpvIUxiKvmg</td>\n",
       "      <td>4.490123</td>\n",
       "      <td>The Dumpling Shop</td>\n",
       "      <td>[Restaurants, Specialty Food, Chinese, Dim Sum...</td>\n",
       "      <td>4.5</td>\n",
       "      <td>11</td>\n",
       "      <td>43.767971</td>\n",
       "      <td>-79.401363</td>\n",
       "    </tr>\n",
       "    <tr>\n",
       "      <th>3</th>\n",
       "      <td>9GLN1xfck07CKfNfejKCwg</td>\n",
       "      <td>4.438345</td>\n",
       "      <td>T-Sushi</td>\n",
       "      <td>[Food, Restaurants, Sushi Bars, Food Delivery ...</td>\n",
       "      <td>5.0</td>\n",
       "      <td>13</td>\n",
       "      <td>43.644745</td>\n",
       "      <td>-79.390892</td>\n",
       "    </tr>\n",
       "    <tr>\n",
       "      <th>4</th>\n",
       "      <td>vAz5pelrjwkpMDo_OHCDAg</td>\n",
       "      <td>4.414823</td>\n",
       "      <td>Kuya Willie's Kainan</td>\n",
       "      <td>[Breakfast &amp; Brunch, Filipino, Restaurants]</td>\n",
       "      <td>3.5</td>\n",
       "      <td>3</td>\n",
       "      <td>43.759288</td>\n",
       "      <td>-79.310866</td>\n",
       "    </tr>\n",
       "    <tr>\n",
       "      <th>5</th>\n",
       "      <td>y9yeMK6N0UINVECI3Ijz3Q</td>\n",
       "      <td>4.401293</td>\n",
       "      <td>Hot Dog Stand</td>\n",
       "      <td>[Hot Dogs, Restaurants]</td>\n",
       "      <td>4.0</td>\n",
       "      <td>3</td>\n",
       "      <td>43.681236</td>\n",
       "      <td>-79.377222</td>\n",
       "    </tr>\n",
       "    <tr>\n",
       "      <th>6</th>\n",
       "      <td>XKa5R1lJSvNrbo8InhNliQ</td>\n",
       "      <td>4.399106</td>\n",
       "      <td>Toronto Star Food Building</td>\n",
       "      <td>[Food, Fast Food, Restaurants]</td>\n",
       "      <td>4.5</td>\n",
       "      <td>3</td>\n",
       "      <td>43.632265</td>\n",
       "      <td>-79.420313</td>\n",
       "    </tr>\n",
       "    <tr>\n",
       "      <th>7</th>\n",
       "      <td>LIjlU7K-0SPXPtYFQiXamQ</td>\n",
       "      <td>4.392767</td>\n",
       "      <td>Magic Oven</td>\n",
       "      <td>[Food Stands, Sandwiches, Restaurants, Indian]</td>\n",
       "      <td>5.0</td>\n",
       "      <td>3</td>\n",
       "      <td>43.652294</td>\n",
       "      <td>-79.405521</td>\n",
       "    </tr>\n",
       "    <tr>\n",
       "      <th>8</th>\n",
       "      <td>fxRcHzovnRyWh_WMdQoNOQ</td>\n",
       "      <td>4.377005</td>\n",
       "      <td>Taj Restaurant</td>\n",
       "      <td>[Restaurants, Russian, Mediterranean]</td>\n",
       "      <td>5.0</td>\n",
       "      <td>4</td>\n",
       "      <td>43.696764</td>\n",
       "      <td>-79.446227</td>\n",
       "    </tr>\n",
       "    <tr>\n",
       "      <th>9</th>\n",
       "      <td>2H5EaBEreDzzP7sPmD_oDQ</td>\n",
       "      <td>4.362335</td>\n",
       "      <td>Vila Verde</td>\n",
       "      <td>[Restaurants, Event Planning &amp; Services, Portu...</td>\n",
       "      <td>4.0</td>\n",
       "      <td>4</td>\n",
       "      <td>43.651243</td>\n",
       "      <td>-79.410631</td>\n",
       "    </tr>\n",
       "  </tbody>\n",
       "</table>\n",
       "</div>"
      ],
      "text/plain": [
       "              business_id    rating               business_name  \\\n",
       "0  LcIgUlWaJJwtOfPoPWCmBg  4.570364               Souppe Shoppe   \n",
       "1  mpDcuUs6dB5uBsYVKDWCNQ  4.527902         Druxy's Famous Deli   \n",
       "2  1VAsBosvx02jpvIUxiKvmg  4.490123           The Dumpling Shop   \n",
       "3  9GLN1xfck07CKfNfejKCwg  4.438345                     T-Sushi   \n",
       "4  vAz5pelrjwkpMDo_OHCDAg  4.414823        Kuya Willie's Kainan   \n",
       "5  y9yeMK6N0UINVECI3Ijz3Q  4.401293               Hot Dog Stand   \n",
       "6  XKa5R1lJSvNrbo8InhNliQ  4.399106  Toronto Star Food Building   \n",
       "7  LIjlU7K-0SPXPtYFQiXamQ  4.392767                  Magic Oven   \n",
       "8  fxRcHzovnRyWh_WMdQoNOQ  4.377005              Taj Restaurant   \n",
       "9  2H5EaBEreDzzP7sPmD_oDQ  4.362335                  Vila Verde   \n",
       "\n",
       "                                          categories  stars  review_count  \\\n",
       "0  [Restaurants, Street Vendors, Food, Soup, Food...    5.0             4   \n",
       "1  [Restaurants, Sandwiches, Delis, Breakfast & B...    4.0             4   \n",
       "2  [Restaurants, Specialty Food, Chinese, Dim Sum...    4.5            11   \n",
       "3  [Food, Restaurants, Sushi Bars, Food Delivery ...    5.0            13   \n",
       "4        [Breakfast & Brunch, Filipino, Restaurants]    3.5             3   \n",
       "5                            [Hot Dogs, Restaurants]    4.0             3   \n",
       "6                     [Food, Fast Food, Restaurants]    4.5             3   \n",
       "7     [Food Stands, Sandwiches, Restaurants, Indian]    5.0             3   \n",
       "8              [Restaurants, Russian, Mediterranean]    5.0             4   \n",
       "9  [Restaurants, Event Planning & Services, Portu...    4.0             4   \n",
       "\n",
       "    latitude  longitude  \n",
       "0  43.651425 -79.404123  \n",
       "1  43.648235 -79.379525  \n",
       "2  43.767971 -79.401363  \n",
       "3  43.644745 -79.390892  \n",
       "4  43.759288 -79.310866  \n",
       "5  43.681236 -79.377222  \n",
       "6  43.632265 -79.420313  \n",
       "7  43.652294 -79.405521  \n",
       "8  43.696764 -79.446227  \n",
       "9  43.651243 -79.410631  "
      ]
     },
     "execution_count": 83,
     "metadata": {},
     "output_type": "execute_result"
    }
   ],
   "source": [
    "u_id = 'ZWD8UH1T7QXQr0Eq-mcWYg'\n",
    "\n",
    "getCollabRecom(u_id).toPandas()"
   ]
  },
  {
   "cell_type": "code",
   "execution_count": null,
   "metadata": {
    "collapsed": true
   },
   "outputs": [],
   "source": []
  }
 ],
 "metadata": {
  "anaconda-cloud": {},
  "kernelspec": {
   "display_name": "Python [conda root]",
   "language": "python",
   "name": "conda-root-py"
  },
  "language_info": {
   "codemirror_mode": {
    "name": "ipython",
    "version": 3
   },
   "file_extension": ".py",
   "mimetype": "text/x-python",
   "name": "python",
   "nbconvert_exporter": "python",
   "pygments_lexer": "ipython3",
   "version": "3.5.2"
  }
 },
 "nbformat": 4,
 "nbformat_minor": 1
}
