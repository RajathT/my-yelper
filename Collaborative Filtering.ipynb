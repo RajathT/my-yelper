{
 "cells": [
  {
   "cell_type": "code",
   "execution_count": 25,
   "metadata": {
    "collapsed": true
   },
   "outputs": [],
   "source": [
    "import numpy as np\n",
    "import pandas as pd\n",
    "import matplotlib.pyplot as plt\n",
    "\n",
    "from pyspark.ml import Pipeline\n",
    "from pyspark.sql.functions import *\n",
    "from pyspark.sql.types import *\n",
    "\n",
    "\n",
    "from pyspark.sql import Row\n",
    "\n",
    "from pyspark.ml.recommendation import ALS, ALSModel\n",
    "from pyspark.ml.tuning import TrainValidationSplit, ParamGridBuilder, CrossValidator\n",
    "from pyspark.ml.evaluation import RegressionEvaluator\n",
    "\n",
    "import folium\n",
    "import html"
   ]
  },
  {
   "cell_type": "code",
   "execution_count": 2,
   "metadata": {
    "collapsed": true
   },
   "outputs": [],
   "source": [
    "data_path = '/home/osboxes/yelp-data/dataset/'\n",
    "model_path = '/home/osboxes/yelp-data/'"
   ]
  },
  {
   "cell_type": "markdown",
   "metadata": {},
   "source": [
    "### Collaborative Filtering"
   ]
  },
  {
   "cell_type": "code",
   "execution_count": 3,
   "metadata": {
    "collapsed": false
   },
   "outputs": [
    {
     "name": "stdout",
     "output_type": "stream",
     "text": [
      "root\n",
      " |-- business_id: string (nullable = true)\n",
      " |-- business_name: string (nullable = true)\n",
      " |-- neighborhood: string (nullable = true)\n",
      " |-- address: string (nullable = true)\n",
      " |-- city: string (nullable = true)\n",
      " |-- state: string (nullable = true)\n",
      " |-- postal_code: string (nullable = true)\n",
      " |-- latitude: double (nullable = true)\n",
      " |-- longitude: double (nullable = true)\n",
      " |-- stars: double (nullable = true)\n",
      " |-- review_count: long (nullable = true)\n",
      " |-- categories: array (nullable = true)\n",
      " |    |-- element: string (containsNull = true)\n",
      "\n"
     ]
    }
   ],
   "source": [
    "# create the business dataframe\n",
    "business_df = spark.read.parquet(data_path + 'business-small.parquet')\n",
    "\n",
    "# print the schema of the review dataframe\n",
    "business_df.printSchema()"
   ]
  },
  {
   "cell_type": "code",
   "execution_count": 4,
   "metadata": {
    "collapsed": false
   },
   "outputs": [
    {
     "name": "stdout",
     "output_type": "stream",
     "text": [
      "root\n",
      " |-- user_id: string (nullable = true)\n",
      " |-- user_name: string (nullable = true)\n",
      " |-- review_count: long (nullable = true)\n",
      " |-- yelping_since: string (nullable = true)\n",
      " |-- useful: long (nullable = true)\n",
      " |-- funny: long (nullable = true)\n",
      " |-- cool: long (nullable = true)\n",
      " |-- fans: long (nullable = true)\n",
      " |-- average_stars: double (nullable = true)\n",
      "\n"
     ]
    }
   ],
   "source": [
    "# create the business dataframe\n",
    "user_df = spark.read.parquet(data_path + 'user-small.parquet')\n",
    "\n",
    "# print the schema of the review dataframe\n",
    "user_df.printSchema()"
   ]
  },
  {
   "cell_type": "code",
   "execution_count": 5,
   "metadata": {
    "collapsed": false
   },
   "outputs": [
    {
     "name": "stdout",
     "output_type": "stream",
     "text": [
      "root\n",
      " |-- review_id: string (nullable = true)\n",
      " |-- user_id: string (nullable = true)\n",
      " |-- business_id: string (nullable = true)\n",
      " |-- stars: long (nullable = true)\n",
      " |-- review_date: string (nullable = true)\n",
      " |-- review_text: string (nullable = true)\n",
      " |-- useful: long (nullable = true)\n",
      " |-- funny: long (nullable = true)\n",
      " |-- cool: long (nullable = true)\n",
      "\n"
     ]
    }
   ],
   "source": [
    "# create the review dataframe\n",
    "\n",
    "review_df = spark.read.parquet(data_path + 'review-small.parquet')\n",
    "\n",
    "# print the schema of the review dataframe\n",
    "review_df.printSchema()"
   ]
  },
  {
   "cell_type": "code",
   "execution_count": 6,
   "metadata": {
    "collapsed": false
   },
   "outputs": [
    {
     "name": "stdout",
     "output_type": "stream",
     "text": [
      "+--------------------+--------------------+\n",
      "|         business_id|       business_name|\n",
      "+--------------------+--------------------+\n",
      "|qim0lD112TkDhm8Zy...|McCarthy's Irish Pub|\n",
      "|Wf5C8Amv_SlhoYE3_...|         Oishi Sushi|\n",
      "+--------------------+--------------------+\n",
      "only showing top 2 rows\n",
      "\n"
     ]
    }
   ],
   "source": [
    "business_df.select('business_id', 'business_name').show(2)"
   ]
  },
  {
   "cell_type": "code",
   "execution_count": 7,
   "metadata": {
    "collapsed": false
   },
   "outputs": [
    {
     "name": "stdout",
     "output_type": "stream",
     "text": [
      "+--------------------+---------+\n",
      "|             user_id|user_name|\n",
      "+--------------------+---------+\n",
      "|om5ZiponkpRqUNa3p...|   Andrea|\n",
      "|Wc5L6iuvSNF5WGBlq...|     Risa|\n",
      "+--------------------+---------+\n",
      "only showing top 2 rows\n",
      "\n"
     ]
    }
   ],
   "source": [
    "user_df.select('user_id', 'user_name').show(2)"
   ]
  },
  {
   "cell_type": "code",
   "execution_count": 8,
   "metadata": {
    "collapsed": false
   },
   "outputs": [
    {
     "name": "stdout",
     "output_type": "stream",
     "text": [
      "+--------------------+--------------------+-----+\n",
      "|             user_id|         business_id|stars|\n",
      "+--------------------+--------------------+-----+\n",
      "|djpMXOA1ic5wv3FPt...|mr4FiPaXTWlJ3qGzp...|    3|\n",
      "|-pXs08gJq9ExIk275...|mr4FiPaXTWlJ3qGzp...|    3|\n",
      "+--------------------+--------------------+-----+\n",
      "only showing top 2 rows\n",
      "\n"
     ]
    }
   ],
   "source": [
    "review_df.select('user_id', 'business_id', 'stars').show(2)"
   ]
  },
  {
   "cell_type": "markdown",
   "metadata": {},
   "source": [
    "Spark ALS implementation requires the rating matrix to have the follwoing data types:\n",
    "\n",
    "```\n",
    "ratings_df_schema = StructType(\n",
    "[StructField('userId', IntegerType()),\n",
    " StructField('businessId', IntegerType()),\n",
    " StructField('rating', DoubleType())]\n",
    ")\n",
    "```\n",
    "\n",
    "So, we need to map existing string user_id, and business_id to integer values"
   ]
  },
  {
   "cell_type": "code",
   "execution_count": 9,
   "metadata": {
    "collapsed": false
   },
   "outputs": [
    {
     "name": "stdout",
     "output_type": "stream",
     "text": [
      "+--------------------+------+\n",
      "|             user_id|userId|\n",
      "+--------------------+------+\n",
      "|om5ZiponkpRqUNa3p...|     0|\n",
      "|Wc5L6iuvSNF5WGBlq...|     1|\n",
      "+--------------------+------+\n",
      "only showing top 2 rows\n",
      "\n"
     ]
    }
   ],
   "source": [
    "# create a new userId column (integer)\n",
    "\n",
    "user_newid_df = sqlContext.createDataFrame(user_df.rdd.map(lambda x: x[0]).zipWithIndex(), \\\n",
    "        StructType([StructField(\"user_id\", StringType(), True),StructField(\"userId\", IntegerType(), True)]))\n",
    "\n",
    "user_newid_df.show(2)"
   ]
  },
  {
   "cell_type": "code",
   "execution_count": 10,
   "metadata": {
    "collapsed": false
   },
   "outputs": [
    {
     "name": "stdout",
     "output_type": "stream",
     "text": [
      "+------+--------------------+---------+\n",
      "|userId|             user_id|user_name|\n",
      "+------+--------------------+---------+\n",
      "|     0|om5ZiponkpRqUNa3p...|   Andrea|\n",
      "|     1|Wc5L6iuvSNF5WGBlq...|     Risa|\n",
      "+------+--------------------+---------+\n",
      "only showing top 2 rows\n",
      "\n"
     ]
    }
   ],
   "source": [
    "# add the new userId column the user dataframe\n",
    "\n",
    "a = user_df.alias(\"a\")\n",
    "b = user_newid_df.alias(\"b\")\n",
    "    \n",
    "user_new_df = a.join(b, col(\"a.user_id\") == col(\"b.user_id\"), 'inner') \\\n",
    "             .select([col('a.'+xx) for xx in a.columns] + [col('b.userId')])\n",
    "\n",
    "user_new_df.select('userId','user_id', 'user_name').show(2)"
   ]
  },
  {
   "cell_type": "code",
   "execution_count": 11,
   "metadata": {
    "collapsed": false
   },
   "outputs": [
    {
     "name": "stdout",
     "output_type": "stream",
     "text": [
      "+--------------------+----------+\n",
      "|         business_id|businessId|\n",
      "+--------------------+----------+\n",
      "|qim0lD112TkDhm8Zy...|         0|\n",
      "|Wf5C8Amv_SlhoYE3_...|         1|\n",
      "+--------------------+----------+\n",
      "only showing top 2 rows\n",
      "\n"
     ]
    }
   ],
   "source": [
    "\n",
    "# create a new businessId column (integer)\n",
    "\n",
    "business_newid_df = sqlContext.createDataFrame(business_df.rdd.map(lambda x: x[0]).zipWithIndex(), \\\n",
    "        StructType([StructField(\"business_id\", StringType(), True),StructField(\"businessId\", IntegerType(), True)]))\n",
    "\n",
    "business_newid_df.show(2)"
   ]
  },
  {
   "cell_type": "code",
   "execution_count": 12,
   "metadata": {
    "collapsed": false
   },
   "outputs": [
    {
     "name": "stdout",
     "output_type": "stream",
     "text": [
      "+----------+--------------------+--------------------+\n",
      "|businessId|         business_id|       business_name|\n",
      "+----------+--------------------+--------------------+\n",
      "|         0|qim0lD112TkDhm8Zy...|McCarthy's Irish Pub|\n",
      "|         1|Wf5C8Amv_SlhoYE3_...|         Oishi Sushi|\n",
      "+----------+--------------------+--------------------+\n",
      "only showing top 2 rows\n",
      "\n"
     ]
    }
   ],
   "source": [
    "# add the new businessId column the business dataframe\n",
    "\n",
    "a = business_df.alias(\"a\")\n",
    "b = business_newid_df.alias(\"b\")\n",
    "    \n",
    "business_new_df = a.join(b, col(\"a.business_id\") == col(\"b.business_id\"), 'inner') \\\n",
    "             .select([col('a.'+xx) for xx in a.columns] + [col('b.businessId')])\n",
    "\n",
    "business_new_df.select('businessId','business_id', 'business_name').show(2)"
   ]
  },
  {
   "cell_type": "code",
   "execution_count": 13,
   "metadata": {
    "collapsed": false
   },
   "outputs": [
    {
     "name": "stdout",
     "output_type": "stream",
     "text": [
      "+--------------------+--------------------+-----+------+----------+\n",
      "|             user_id|         business_id|stars|userId|businessId|\n",
      "+--------------------+--------------------+-----+------+----------+\n",
      "|u642WP1g6Z3oRA9qd...|1RFIVcZYV77tGIwVV...|    5| 23561|       872|\n",
      "|CGmWH1Nwx1hbasHqo...|1RFIVcZYV77tGIwVV...|    4|  6268|       872|\n",
      "+--------------------+--------------------+-----+------+----------+\n",
      "only showing top 2 rows\n",
      "\n"
     ]
    }
   ],
   "source": [
    "# map new userId and businessId in the review dataframe\n",
    "\n",
    "review_df = review_df.select('user_id', 'business_id', 'stars')\n",
    "\n",
    "\n",
    "# map the userId\n",
    "a = review_df.alias(\"a\")\n",
    "b = user_newid_df.alias(\"b\")\n",
    "    \n",
    "review_userId_df = a.join(b, col(\"a.user_id\") == col(\"b.user_id\"), 'inner') \\\n",
    "                     .select([col('a.'+xx) for xx in a.columns] + [col('b.userId')])\n",
    "\n",
    "# map the businessId\n",
    "a = review_userId_df.alias(\"a\")\n",
    "b = business_newid_df.alias(\"b\")\n",
    "\n",
    "review_userId_businessId_df = a.join(b, col(\"a.business_id\") == col(\"b.business_id\"), 'inner') \\\n",
    "                         .select([col('a.'+xx) for xx in a.columns] + [col('b.businessId')])\n",
    "\n",
    "review_userId_businessId_df.show(2)"
   ]
  },
  {
   "cell_type": "code",
   "execution_count": 14,
   "metadata": {
    "collapsed": false
   },
   "outputs": [
    {
     "name": "stdout",
     "output_type": "stream",
     "text": [
      "+------+----------+------+\n",
      "|userId|businessId|rating|\n",
      "+------+----------+------+\n",
      "| 23561|       872|   5.0|\n",
      "|  6268|       872|   4.0|\n",
      "+------+----------+------+\n",
      "only showing top 2 rows\n",
      "\n",
      "root\n",
      " |-- userId: integer (nullable = true)\n",
      " |-- businessId: integer (nullable = true)\n",
      " |-- rating: float (nullable = true)\n",
      "\n"
     ]
    }
   ],
   "source": [
    "# create the rating dataframe required by the ALS model\n",
    "\n",
    "rating_df = review_userId_businessId_df.select('userId', 'businessId', review_userId_businessId_df.stars.cast('float').alias('rating'))\n",
    "rating_df.show(2)\n",
    "rating_df.printSchema()"
   ]
  },
  {
   "cell_type": "code",
   "execution_count": 15,
   "metadata": {
    "collapsed": true
   },
   "outputs": [],
   "source": [
    "\n",
    "(train, test) = rating_df.randomSplit([0.8, 0.2], seed=123)"
   ]
  },
  {
   "cell_type": "markdown",
   "metadata": {
    "collapsed": false
   },
   "source": [
    "```\n",
    "# very lengthy process of Cross Validation\n",
    "\n",
    "als = ALS(userCol=\"userId\", itemCol=\"businessId\", ratingCol=\"rating\", coldStartStrategy=\"drop\")\n",
    "\n",
    "param_grid = ParamGridBuilder().addGrid(\n",
    "    als.rank,\n",
    "    [10, 15, 20],\n",
    ").addGrid(\n",
    "    als.maxIter,\n",
    "    [10, 15, 20],\n",
    ").build()\n",
    "\n",
    "evaluator = RegressionEvaluator(\n",
    "    metricName=\"rmse\",\n",
    "    labelCol=\"rating\",\n",
    ")\n",
    "\n",
    "cv = CrossValidator(estimator=als, estimatorParamMaps=param_grid, evaluator=evaluator, numFolds=5, seed=123)\n",
    "cv_als_model = cv.fit(train)\n",
    "\n",
    "# Evaluate the model by computing the RMSE on the test data\n",
    "\n",
    "als_predictions = cv_als_model.bestModel.transform(test)\n",
    "evaluator = RegressionEvaluator(metricName=\"rmse\", labelCol=\"rating\", predictionCol=\"prediction\")\n",
    "rmse = evaluator.evaluate(als_predictions)\n",
    "print(\"Root-mean-square error = \" + str(rmse))\n",
    "\n",
    "best_model = cv_als_model.bestModel\n",
    "\n",
    "#best_rank is 20\n",
    "best_model.rank\n",
    "\n",
    "#best_maxIter is 20\n",
    "(best_model\n",
    "    ._java_obj     # Get Java object\n",
    "    .parent()      # Get parent (ALS estimator)\n",
    "    .getMaxIter()) # Get maxIter\n",
    "\n",
    "\n",
    "# Root-mean-square error is 1.3383152747968081\n",
    "```"
   ]
  },
  {
   "cell_type": "code",
   "execution_count": 34,
   "metadata": {
    "collapsed": false
   },
   "outputs": [
    {
     "name": "stdout",
     "output_type": "stream",
     "text": [
      "Root-mean-square error = 1.2579688933524986\n"
     ]
    }
   ],
   "source": [
    "\n",
    "alsb = ALS(rank=20, maxIter=20, regParam=0.3, userCol=\"userId\", itemCol=\"businessId\", ratingCol=\"rating\", \\\n",
    "               coldStartStrategy=\"drop\", seed=123)\n",
    "alsb_model = alsb.fit(train)\n",
    "\n",
    "alsb_predictions = alsb_model.transform(test)\n",
    "evaluator = RegressionEvaluator(metricName=\"rmse\", labelCol=\"rating\", predictionCol=\"prediction\")\n",
    "rmse = evaluator.evaluate(alsb_predictions)\n",
    "print(\"Root-mean-square error = \" + str(rmse))\n",
    "\n",
    "# save the ALS model\n",
    "alsb_model.write().overwrite().save(model_path + 'als')\n"
   ]
  },
  {
   "cell_type": "code",
   "execution_count": 16,
   "metadata": {
    "collapsed": false
   },
   "outputs": [],
   "source": [
    "# load a new instance of the saved ALS model\n",
    "alsn_model = ALSModel.load(model_path + 'als')"
   ]
  },
  {
   "cell_type": "code",
   "execution_count": 17,
   "metadata": {
    "collapsed": true
   },
   "outputs": [],
   "source": [
    "# generate top 10 business recommendations for each user\n",
    "\n",
    "userRecs = alsn_model.recommendForAllUsers(10)\n"
   ]
  },
  {
   "cell_type": "code",
   "execution_count": 18,
   "metadata": {
    "collapsed": false
   },
   "outputs": [
    {
     "name": "stdout",
     "output_type": "stream",
     "text": [
      "+------+----------------------------------------------------------------------------------------------------------------------------------------------------------------------------+\n",
      "|userId|recommendations                                                                                                                                                             |\n",
      "+------+----------------------------------------------------------------------------------------------------------------------------------------------------------------------------+\n",
      "|148   |[[4592,4.6922364], [2432,4.614214], [401,4.4767885], [6596,4.439251], [2848,4.3852043], [810,4.359094], [4267,4.340767], [1410,4.307626], [4390,4.2542963], [4408,4.245825]]|\n",
      "+------+----------------------------------------------------------------------------------------------------------------------------------------------------------------------------+\n",
      "only showing top 1 row\n",
      "\n"
     ]
    }
   ],
   "source": [
    "userRecs.cache()\n",
    "userRecs.show(1, truncate = False)"
   ]
  },
  {
   "cell_type": "code",
   "execution_count": 19,
   "metadata": {
    "collapsed": false
   },
   "outputs": [],
   "source": [
    "u_id = 'ZWD8UH1T7QXQr0Eq-mcWYg'\n",
    "\n",
    "uId = user_newid_df.filter(col('user_id') == u_id).select('userId').collect()[0][0]\n",
    "\n",
    "userFlatRec =  sqlContext.createDataFrame(userRecs.filter(col('userId') == uId).rdd.flatMap(lambda p: p[1]))\n"
   ]
  },
  {
   "cell_type": "code",
   "execution_count": 20,
   "metadata": {
    "collapsed": false
   },
   "outputs": [
    {
     "name": "stdout",
     "output_type": "stream",
     "text": [
      "+----------+------------------+\n",
      "|businessId|            rating|\n",
      "+----------+------------------+\n",
      "|      2432| 4.570364475250244|\n",
      "|      4592| 4.527902126312256|\n",
      "|      2668| 4.490123271942139|\n",
      "|       401| 4.438344955444336|\n",
      "|       810| 4.414823055267334|\n",
      "|      2028|4.4012932777404785|\n",
      "|      3237| 4.399106025695801|\n",
      "|      4133| 4.392766952514648|\n",
      "|      4408| 4.377004623413086|\n",
      "|      5664| 4.362335205078125|\n",
      "+----------+------------------+\n",
      "\n"
     ]
    }
   ],
   "source": [
    "userFlatRec.show()"
   ]
  },
  {
   "cell_type": "code",
   "execution_count": 21,
   "metadata": {
    "collapsed": false
   },
   "outputs": [
    {
     "name": "stdout",
     "output_type": "stream",
     "text": [
      "+--------------------+--------------------+--------------------+--------------------+-------+-----+-----------+-------------+--------------+-----+------------+--------------------+----------+------------------+\n",
      "|         business_id|       business_name|        neighborhood|             address|   city|state|postal_code|     latitude|     longitude|stars|review_count|          categories|businessId|            rating|\n",
      "+--------------------+--------------------+--------------------+--------------------+-------+-----+-----------+-------------+--------------+-----+------------+--------------------+----------+------------------+\n",
      "|2H5EaBEreDzzP7sPm...|          Vila Verde|   Trinity Bellwoods| 869 Dundas Street W|Toronto|   ON|    M6J 1V6|   43.6512434|   -79.4106314|  4.0|           4|[Restaurants, Eve...|      5664| 4.362335205078125|\n",
      "|mpDcuUs6dB5uBsYVK...| Druxy's Famous Deli|       Downtown Core|Commerce Court, 1...|Toronto|   ON|    M5J 2S4|   43.6482347|   -79.3795255|  4.0|           4|[Restaurants, San...|      4592| 4.527902126312256|\n",
      "|1VAsBosvx02jpvIUx...|   The Dumpling Shop|          Willowdale|184 Willowdale Av...|Toronto|   ON|    M2N 4Y9|   43.7679712|   -79.4013625|  4.5|          11|[Restaurants, Spe...|      2668| 4.490123271942139|\n",
      "|XKa5R1lJSvNrbo8In...|Toronto Star Food...|                    |Exhibition Place,...|Toronto|   ON|        M6K|43.6322653078|-79.4203133579|  4.5|           3|[Food, Fast Food,...|      3237| 4.399106025695801|\n",
      "|LcIgUlWaJJwtOfPoP...|       Souppe Shoppe|      Alexandra Park| 707 Dundas Street W|Toronto|   ON|    M5T 2W6|   43.6514248|   -79.4041234|  5.0|           4|[Restaurants, Str...|      2432| 4.570364475250244|\n",
      "|vAz5pelrjwkpMDo_O...|Kuya Willie's Kainan|         Scarborough|80 Ellesmere Road...|Toronto|   ON|    M1R 4C2|   43.7592876|    -79.310866|  3.5|           3|[Breakfast & Brun...|       810| 4.414823055267334|\n",
      "|9GLN1xfck07CKfNfe...|             T-Sushi|Entertainment Dis...|263 Wellington St...|Toronto|   ON|    M5V 3E6|43.6447454779|-79.3908923172|  5.0|          13|[Food, Restaurant...|       401| 4.438344955444336|\n",
      "|y9yeMK6N0UINVECI3...|       Hot Dog Stand|            Rosedale|   130A St George St|Toronto|   ON|    M4W 1A7|   43.6812364|   -79.3772218|  4.0|           3|[Hot Dogs, Restau...|      2028|4.4012932777404785|\n",
      "|LIjlU7K-0SPXPtYFQ...|          Magic Oven|      Alexandra Park|Scadding Court Co...|Toronto|   ON|    M5T 2W6|43.6522937615|-79.4055211544|  5.0|           3|[Food Stands, San...|      4133| 4.392766952514648|\n",
      "|fxRcHzovnRyWh_WMd...|      Taj Restaurant|                    |1698 Eglinton Ave...|Toronto|   ON|    M6E 2H5|   43.6967642|   -79.4462269|  5.0|           4|[Restaurants, Rus...|      4408| 4.377004623413086|\n",
      "+--------------------+--------------------+--------------------+--------------------+-------+-----+-----------+-------------+--------------+-----+------------+--------------------+----------+------------------+\n",
      "\n"
     ]
    }
   ],
   "source": [
    "\n",
    "a = business_new_df.alias(\"a\")\n",
    "b = userFlatRec.alias(\"b\")\n",
    "\n",
    "user_collab_df = a.join(b, col(\"a.businessId\") == col(\"b.businessId\"), 'inner') \\\n",
    "                         .select([col('a.'+xx) for xx in a.columns] + [col('b.rating')])\n",
    "    \n",
    "user_collab_df.show()"
   ]
  },
  {
   "cell_type": "code",
   "execution_count": 31,
   "metadata": {
    "collapsed": false
   },
   "outputs": [],
   "source": [
    "def showInMap(df):\n",
    "    \n",
    "    mp = folium.Map(location=[43.70011, -79.4163], zoom_start=12)\n",
    "\n",
    "    for i, r in df.toPandas().iterrows():\n",
    "        folium.Marker(\n",
    "                    location =[r.latitude, r.longitude], \n",
    "                    popup = html.escape(r[\"business_name\"]) + '<br>' + 'Stars: ' + str(r.stars) + '<br>' + 'Reviews: ' + str(r.review_count),    \n",
    "                    icon = folium.Icon(color='blue')).add_to(mp)\n",
    "\n",
    "    return mp"
   ]
  },
  {
   "cell_type": "code",
   "execution_count": 22,
   "metadata": {
    "collapsed": false
   },
   "outputs": [],
   "source": [
    "def getCollabRecom(u_id):\n",
    "    \n",
    "\n",
    "    uId = user_newid_df.filter(col('user_id') == u_id).select('userId').collect()[0][0]\n",
    "\n",
    "    userFlatRec =  sqlContext.createDataFrame(userRecs.filter(col('userId') == uId).rdd.flatMap(lambda p: p[1]))\n",
    "\n",
    "    a = userFlatRec.alias(\"a\")\n",
    "    b = business_new_df.alias(\"b\")\n",
    "    \n",
    "    return a.join(b, col(\"a.businessId\") == col(\"b.businessId\"), 'inner') \\\n",
    "             .select([col('b.business_id'), col('a.rating'), col('b.business_name'),col('b.categories'),\n",
    "                                                           col('b.stars'),col('b.review_count'),\n",
    "                                                           col('b.latitude'),col('b.longitude')]) \\\n",
    "             .orderBy(\"rating\", ascending = False)\n",
    "    "
   ]
  },
  {
   "cell_type": "code",
   "execution_count": 24,
   "metadata": {
    "collapsed": false
   },
   "outputs": [
    {
     "data": {
      "text/html": [
       "<div>\n",
       "<table border=\"1\" class=\"dataframe\">\n",
       "  <thead>\n",
       "    <tr style=\"text-align: right;\">\n",
       "      <th></th>\n",
       "      <th>business_id</th>\n",
       "      <th>rating</th>\n",
       "      <th>business_name</th>\n",
       "      <th>categories</th>\n",
       "      <th>stars</th>\n",
       "      <th>review_count</th>\n",
       "      <th>latitude</th>\n",
       "      <th>longitude</th>\n",
       "    </tr>\n",
       "  </thead>\n",
       "  <tbody>\n",
       "    <tr>\n",
       "      <th>0</th>\n",
       "      <td>LcIgUlWaJJwtOfPoPWCmBg</td>\n",
       "      <td>4.570364</td>\n",
       "      <td>Souppe Shoppe</td>\n",
       "      <td>[Restaurants, Street Vendors, Food, Soup, Food...</td>\n",
       "      <td>5.0</td>\n",
       "      <td>4</td>\n",
       "      <td>43.651425</td>\n",
       "      <td>-79.404123</td>\n",
       "    </tr>\n",
       "    <tr>\n",
       "      <th>1</th>\n",
       "      <td>mpDcuUs6dB5uBsYVKDWCNQ</td>\n",
       "      <td>4.527902</td>\n",
       "      <td>Druxy's Famous Deli</td>\n",
       "      <td>[Restaurants, Sandwiches, Delis, Breakfast &amp; B...</td>\n",
       "      <td>4.0</td>\n",
       "      <td>4</td>\n",
       "      <td>43.648235</td>\n",
       "      <td>-79.379525</td>\n",
       "    </tr>\n",
       "    <tr>\n",
       "      <th>2</th>\n",
       "      <td>1VAsBosvx02jpvIUxiKvmg</td>\n",
       "      <td>4.490123</td>\n",
       "      <td>The Dumpling Shop</td>\n",
       "      <td>[Restaurants, Specialty Food, Chinese, Dim Sum...</td>\n",
       "      <td>4.5</td>\n",
       "      <td>11</td>\n",
       "      <td>43.767971</td>\n",
       "      <td>-79.401363</td>\n",
       "    </tr>\n",
       "    <tr>\n",
       "      <th>3</th>\n",
       "      <td>9GLN1xfck07CKfNfejKCwg</td>\n",
       "      <td>4.438345</td>\n",
       "      <td>T-Sushi</td>\n",
       "      <td>[Food, Restaurants, Sushi Bars, Food Delivery ...</td>\n",
       "      <td>5.0</td>\n",
       "      <td>13</td>\n",
       "      <td>43.644745</td>\n",
       "      <td>-79.390892</td>\n",
       "    </tr>\n",
       "    <tr>\n",
       "      <th>4</th>\n",
       "      <td>vAz5pelrjwkpMDo_OHCDAg</td>\n",
       "      <td>4.414823</td>\n",
       "      <td>Kuya Willie's Kainan</td>\n",
       "      <td>[Breakfast &amp; Brunch, Filipino, Restaurants]</td>\n",
       "      <td>3.5</td>\n",
       "      <td>3</td>\n",
       "      <td>43.759288</td>\n",
       "      <td>-79.310866</td>\n",
       "    </tr>\n",
       "    <tr>\n",
       "      <th>5</th>\n",
       "      <td>y9yeMK6N0UINVECI3Ijz3Q</td>\n",
       "      <td>4.401293</td>\n",
       "      <td>Hot Dog Stand</td>\n",
       "      <td>[Hot Dogs, Restaurants]</td>\n",
       "      <td>4.0</td>\n",
       "      <td>3</td>\n",
       "      <td>43.681236</td>\n",
       "      <td>-79.377222</td>\n",
       "    </tr>\n",
       "    <tr>\n",
       "      <th>6</th>\n",
       "      <td>XKa5R1lJSvNrbo8InhNliQ</td>\n",
       "      <td>4.399106</td>\n",
       "      <td>Toronto Star Food Building</td>\n",
       "      <td>[Food, Fast Food, Restaurants]</td>\n",
       "      <td>4.5</td>\n",
       "      <td>3</td>\n",
       "      <td>43.632265</td>\n",
       "      <td>-79.420313</td>\n",
       "    </tr>\n",
       "    <tr>\n",
       "      <th>7</th>\n",
       "      <td>LIjlU7K-0SPXPtYFQiXamQ</td>\n",
       "      <td>4.392767</td>\n",
       "      <td>Magic Oven</td>\n",
       "      <td>[Food Stands, Sandwiches, Restaurants, Indian]</td>\n",
       "      <td>5.0</td>\n",
       "      <td>3</td>\n",
       "      <td>43.652294</td>\n",
       "      <td>-79.405521</td>\n",
       "    </tr>\n",
       "    <tr>\n",
       "      <th>8</th>\n",
       "      <td>fxRcHzovnRyWh_WMdQoNOQ</td>\n",
       "      <td>4.377005</td>\n",
       "      <td>Taj Restaurant</td>\n",
       "      <td>[Restaurants, Russian, Mediterranean]</td>\n",
       "      <td>5.0</td>\n",
       "      <td>4</td>\n",
       "      <td>43.696764</td>\n",
       "      <td>-79.446227</td>\n",
       "    </tr>\n",
       "    <tr>\n",
       "      <th>9</th>\n",
       "      <td>2H5EaBEreDzzP7sPmD_oDQ</td>\n",
       "      <td>4.362335</td>\n",
       "      <td>Vila Verde</td>\n",
       "      <td>[Restaurants, Event Planning &amp; Services, Portu...</td>\n",
       "      <td>4.0</td>\n",
       "      <td>4</td>\n",
       "      <td>43.651243</td>\n",
       "      <td>-79.410631</td>\n",
       "    </tr>\n",
       "  </tbody>\n",
       "</table>\n",
       "</div>"
      ],
      "text/plain": [
       "              business_id    rating               business_name  \\\n",
       "0  LcIgUlWaJJwtOfPoPWCmBg  4.570364               Souppe Shoppe   \n",
       "1  mpDcuUs6dB5uBsYVKDWCNQ  4.527902         Druxy's Famous Deli   \n",
       "2  1VAsBosvx02jpvIUxiKvmg  4.490123           The Dumpling Shop   \n",
       "3  9GLN1xfck07CKfNfejKCwg  4.438345                     T-Sushi   \n",
       "4  vAz5pelrjwkpMDo_OHCDAg  4.414823        Kuya Willie's Kainan   \n",
       "5  y9yeMK6N0UINVECI3Ijz3Q  4.401293               Hot Dog Stand   \n",
       "6  XKa5R1lJSvNrbo8InhNliQ  4.399106  Toronto Star Food Building   \n",
       "7  LIjlU7K-0SPXPtYFQiXamQ  4.392767                  Magic Oven   \n",
       "8  fxRcHzovnRyWh_WMdQoNOQ  4.377005              Taj Restaurant   \n",
       "9  2H5EaBEreDzzP7sPmD_oDQ  4.362335                  Vila Verde   \n",
       "\n",
       "                                          categories  stars  review_count  \\\n",
       "0  [Restaurants, Street Vendors, Food, Soup, Food...    5.0             4   \n",
       "1  [Restaurants, Sandwiches, Delis, Breakfast & B...    4.0             4   \n",
       "2  [Restaurants, Specialty Food, Chinese, Dim Sum...    4.5            11   \n",
       "3  [Food, Restaurants, Sushi Bars, Food Delivery ...    5.0            13   \n",
       "4        [Breakfast & Brunch, Filipino, Restaurants]    3.5             3   \n",
       "5                            [Hot Dogs, Restaurants]    4.0             3   \n",
       "6                     [Food, Fast Food, Restaurants]    4.5             3   \n",
       "7     [Food Stands, Sandwiches, Restaurants, Indian]    5.0             3   \n",
       "8              [Restaurants, Russian, Mediterranean]    5.0             4   \n",
       "9  [Restaurants, Event Planning & Services, Portu...    4.0             4   \n",
       "\n",
       "    latitude  longitude  \n",
       "0  43.651425 -79.404123  \n",
       "1  43.648235 -79.379525  \n",
       "2  43.767971 -79.401363  \n",
       "3  43.644745 -79.390892  \n",
       "4  43.759288 -79.310866  \n",
       "5  43.681236 -79.377222  \n",
       "6  43.632265 -79.420313  \n",
       "7  43.652294 -79.405521  \n",
       "8  43.696764 -79.446227  \n",
       "9  43.651243 -79.410631  "
      ]
     },
     "execution_count": 24,
     "metadata": {},
     "output_type": "execute_result"
    }
   ],
   "source": [
    "u_id = 'ZWD8UH1T7QXQr0Eq-mcWYg'\n",
    "\n",
    "getCollabRecom(u_id).toPandas()"
   ]
  },
  {
   "cell_type": "code",
   "execution_count": 32,
   "metadata": {
    "collapsed": false
   },
   "outputs": [
    {
     "data": {
      "text/html": [
       "<div style=\"width:100%;\"><div style=\"position:relative;width:100%;height:0;padding-bottom:60%;\"><iframe src=\"data:text/html;charset=utf-8;base64,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\" style=\"position:absolute;width:100%;height:100%;left:0;top:0;border:none !important;\" allowfullscreen webkitallowfullscreen mozallowfullscreen></iframe></div></div>"
      ],
      "text/plain": [
       "<folium.folium.Map at 0x7fb7d9af9eb8>"
      ]
     },
     "execution_count": 32,
     "metadata": {},
     "output_type": "execute_result"
    }
   ],
   "source": [
    "u_id = 'ZWD8UH1T7QXQr0Eq-mcWYg'\n",
    "showInMap(getCollabRecom(u_id))"
   ]
  },
  {
   "cell_type": "code",
   "execution_count": null,
   "metadata": {
    "collapsed": true
   },
   "outputs": [],
   "source": []
  }
 ],
 "metadata": {
  "anaconda-cloud": {},
  "kernelspec": {
   "display_name": "Python [conda root]",
   "language": "python",
   "name": "conda-root-py"
  },
  "language_info": {
   "codemirror_mode": {
    "name": "ipython",
    "version": 3
   },
   "file_extension": ".py",
   "mimetype": "text/x-python",
   "name": "python",
   "nbconvert_exporter": "python",
   "pygments_lexer": "ipython3",
   "version": "3.5.2"
  }
 },
 "nbformat": 4,
 "nbformat_minor": 1
}
