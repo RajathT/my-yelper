{
 "cells": [
  {
   "cell_type": "code",
   "execution_count": 1,
   "metadata": {
    "collapsed": false
   },
   "outputs": [],
   "source": [
    "import numpy as np\n",
    "import pandas as pd\n",
    "\n",
    "from operator import add\n",
    "from pyspark.ml.feature import RegexTokenizer, CountVectorizer\n",
    "from pyspark.ml.feature import StopWordsRemover, VectorAssembler\n",
    "from pyspark.ml.feature import Word2Vec, Word2VecModel\n",
    "from pyspark.ml.feature import IDF\n",
    "\n",
    "from pyspark.ml import Pipeline, PipelineModel\n",
    "\n",
    "\n",
    "from pyspark.sql.functions import *\n",
    "\n",
    "from pyspark.sql.types import *\n",
    "\n",
    "import folium\n",
    "import html"
   ]
  },
  {
   "cell_type": "code",
   "execution_count": 2,
   "metadata": {
    "collapsed": true
   },
   "outputs": [],
   "source": [
    "# set the path for data files and ML model persistance \n",
    "\n",
    "data_path = '/home/osboxes/yelp-data/dataset/'\n",
    "model_path = '/home/osboxes/yelp-data/model/'\n",
    "outout_path = '/home/osboxes/yelp-data/output/'"
   ]
  },
  {
   "cell_type": "markdown",
   "metadata": {},
   "source": [
    "### Data Loading"
   ]
  },
  {
   "cell_type": "code",
   "execution_count": 3,
   "metadata": {
    "collapsed": false
   },
   "outputs": [
    {
     "name": "stdout",
     "output_type": "stream",
     "text": [
      "root\n",
      " |-- business_id: string (nullable = true)\n",
      " |-- business_name: string (nullable = true)\n",
      " |-- neighborhood: string (nullable = true)\n",
      " |-- address: string (nullable = true)\n",
      " |-- city: string (nullable = true)\n",
      " |-- state: string (nullable = true)\n",
      " |-- postal_code: string (nullable = true)\n",
      " |-- latitude: double (nullable = true)\n",
      " |-- longitude: double (nullable = true)\n",
      " |-- stars: double (nullable = true)\n",
      " |-- review_count: long (nullable = true)\n",
      " |-- categories: array (nullable = true)\n",
      " |    |-- element: string (containsNull = true)\n",
      "\n"
     ]
    }
   ],
   "source": [
    "# load the Toronto restaurants data created in the Data Wrangling Stage\n",
    "\n",
    "business_df = spark.read.parquet(data_path + 'business-small.parquet')\n",
    "business_df.printSchema()"
   ]
  },
  {
   "cell_type": "code",
   "execution_count": 4,
   "metadata": {
    "collapsed": false
   },
   "outputs": [],
   "source": [
    "# create SQL view for later queries\n",
    "\n",
    "business_df.createOrReplaceTempView(\"businesses\")"
   ]
  },
  {
   "cell_type": "code",
   "execution_count": 5,
   "metadata": {
    "collapsed": false
   },
   "outputs": [
    {
     "name": "stdout",
     "output_type": "stream",
     "text": [
      "root\n",
      " |-- user_id: string (nullable = true)\n",
      " |-- user_name: string (nullable = true)\n",
      " |-- review_count: long (nullable = true)\n",
      " |-- yelping_since: string (nullable = true)\n",
      " |-- useful: long (nullable = true)\n",
      " |-- funny: long (nullable = true)\n",
      " |-- cool: long (nullable = true)\n",
      " |-- fans: long (nullable = true)\n",
      " |-- average_stars: double (nullable = true)\n",
      "\n"
     ]
    }
   ],
   "source": [
    "# load the Toronto users data created in the Data Wrangling Stage\n",
    "\n",
    "user_df = spark.read.parquet(data_path + 'user-small.parquet')\n",
    "user_df.printSchema()"
   ]
  },
  {
   "cell_type": "code",
   "execution_count": 6,
   "metadata": {
    "collapsed": true
   },
   "outputs": [],
   "source": [
    "# create SQL view for later queries\n",
    "\n",
    "user_df.createOrReplaceTempView(\"users\")"
   ]
  },
  {
   "cell_type": "code",
   "execution_count": 7,
   "metadata": {
    "collapsed": false
   },
   "outputs": [
    {
     "name": "stdout",
     "output_type": "stream",
     "text": [
      "root\n",
      " |-- review_id: string (nullable = true)\n",
      " |-- user_id: string (nullable = true)\n",
      " |-- business_id: string (nullable = true)\n",
      " |-- stars: long (nullable = true)\n",
      " |-- review_date: string (nullable = true)\n",
      " |-- review_text: string (nullable = true)\n",
      " |-- useful: long (nullable = true)\n",
      " |-- funny: long (nullable = true)\n",
      " |-- cool: long (nullable = true)\n",
      "\n"
     ]
    }
   ],
   "source": [
    "# load the Toronto restaurants reviews data created in the Data Wrangling Stage\n",
    "\n",
    "review_df = spark.read.parquet(data_path + 'review-small.parquet')\n",
    "review_df.printSchema()"
   ]
  },
  {
   "cell_type": "code",
   "execution_count": 8,
   "metadata": {
    "collapsed": true
   },
   "outputs": [],
   "source": [
    "# create SQL view for later queries\n",
    "\n",
    "review_df.createOrReplaceTempView(\"reviews\")"
   ]
  },
  {
   "cell_type": "markdown",
   "metadata": {},
   "source": [
    "### Text Processing and Featurization"
   ]
  },
  {
   "cell_type": "code",
   "execution_count": 9,
   "metadata": {
    "collapsed": false
   },
   "outputs": [
    {
     "name": "stdout",
     "output_type": "stream",
     "text": [
      "+--------------------+--------------------+\n",
      "|         business_id|         review_text|\n",
      "+--------------------+--------------------+\n",
      "|mr4FiPaXTWlJ3qGzp...|I left Table 17 f...|\n",
      "|mr4FiPaXTWlJ3qGzp...|for the time bein...|\n",
      "|mr4FiPaXTWlJ3qGzp...|Love this place. ...|\n",
      "+--------------------+--------------------+\n",
      "only showing top 3 rows\n",
      "\n"
     ]
    }
   ],
   "source": [
    "# create review text dataframe\n",
    "\n",
    "reviews_text = spark.sql(\"SELECT business_id, review_text FROM reviews\")\n",
    "reviews_text.show(3)"
   ]
  },
  {
   "cell_type": "code",
   "execution_count": 10,
   "metadata": {
    "collapsed": false
   },
   "outputs": [
    {
     "data": {
      "text/plain": [
       "6750"
      ]
     },
     "execution_count": 10,
     "metadata": {},
     "output_type": "execute_result"
    }
   ],
   "source": [
    "# concatenate all reviews per restuarant\n",
    "\n",
    "reviews_text_rdd = reviews_text.rdd\n",
    "reviews_by_business_rdd = reviews_text_rdd.map(tuple).reduceByKey(add)  \n",
    "reviews_by_business_df = spark.createDataFrame(reviews_by_business_rdd)\n",
    "reviews_by_business_df = reviews_by_business_df \\\n",
    "                            .withColumnRenamed('_1', 'business_id') \\\n",
    "                            .withColumnRenamed('_2', 'text')\n",
    "reviews_by_business_df.count()   "
   ]
  },
  {
   "cell_type": "code",
   "execution_count": 11,
   "metadata": {
    "collapsed": false
   },
   "outputs": [
    {
     "name": "stdout",
     "output_type": "stream",
     "text": [
      "+--------------------+--------------------+\n",
      "|         business_id|                text|\n",
      "+--------------------+--------------------+\n",
      "|bfR-vJvrjdOJaWsXG...|Attention allergy...|\n",
      "|Dl2vgi5W_nbe-A97D...|I don't understan...|\n",
      "|65ZGMedBm7TBpWv6f...|Food here is alwa...|\n",
      "+--------------------+--------------------+\n",
      "only showing top 3 rows\n",
      "\n"
     ]
    }
   ],
   "source": [
    "reviews_by_business_df.show(3)"
   ]
  },
  {
   "cell_type": "markdown",
   "metadata": {
    "collapsed": false
   },
   "source": [
    "```\n",
    "# create text processing pipeline -- this a lengthy resouce-intensive process\n",
    "\n",
    "# Build the pipeline \n",
    "regexTokenizer = RegexTokenizer(gaps = False, pattern = '\\w+', inputCol = 'text', outputCol = 'token')\n",
    "stopWordsRemover = StopWordsRemover(inputCol = 'token', outputCol = 'nostopwrd')\n",
    "countVectorizer = CountVectorizer(inputCol=\"nostopwrd\", outputCol=\"rawFeature\")\n",
    "iDF = IDF(inputCol=\"rawFeature\", outputCol=\"idf_vec\")\n",
    "word2Vec = Word2Vec(vectorSize = 100, minCount = 5, inputCol = 'nostopwrd', outputCol = 'word_vec', seed=123)\n",
    "vectorAssembler = VectorAssembler(inputCols=['idf_vec', 'word_vec'], outputCol='comb_vec')\n",
    "pipeline = Pipeline(stages=[regexTokenizer, stopWordsRemover, countVectorizer, iDF, word2Vec, vectorAssembler])\n",
    "\n",
    "# fit the model\n",
    "pipeline_mdl = pipeline.fit(reviews_by_business_df)\n",
    "\n",
    "#save the pipeline model\n",
    "pipeline_mdl.write().overwrite().save(model_path + 'pipe_txt')\n",
    "```"
   ]
  },
  {
   "cell_type": "code",
   "execution_count": 12,
   "metadata": {
    "collapsed": false
   },
   "outputs": [],
   "source": [
    "# load the text transformation pipeline trained model\n",
    "\n",
    "pipeline_mdl = PipelineModel.load(model_path + 'pipe_txt')"
   ]
  },
  {
   "cell_type": "code",
   "execution_count": 14,
   "metadata": {
    "collapsed": true
   },
   "outputs": [],
   "source": [
    "# transform the review data\n",
    "\n",
    "reviews_by_business_trf_df = pipeline_mdl.transform(reviews_by_business_df)\n"
   ]
  },
  {
   "cell_type": "code",
   "execution_count": 15,
   "metadata": {
    "collapsed": false
   },
   "outputs": [
    {
     "name": "stdout",
     "output_type": "stream",
     "text": [
      "+--------------------+--------------------+--------------------+--------------------+--------------------+\n",
      "|                text|           nostopwrd|             idf_vec|            word_vec|            comb_vec|\n",
      "+--------------------+--------------------+--------------------+--------------------+--------------------+\n",
      "|Attention allergy...|[attention, aller...|(126299,[0,1,2,3,...|[0.01133526750371...|(126399,[0,1,2,3,...|\n",
      "|I don't understan...|[understand, prev...|(126299,[0,1,2,3,...|[-0.0166730810390...|(126399,[0,1,2,3,...|\n",
      "|Food here is alwa...|[food, always, fr...|(126299,[0,2,3,4,...|[-0.0013763984012...|(126399,[0,2,3,4,...|\n",
      "|i keep on coming ...|[keep, coming, ba...|(126299,[0,1,2,3,...|[0.04195703681602...|(126399,[0,1,2,3,...|\n",
      "|I love this place...|[love, place, pro...|(126299,[0,1,2,3,...|[0.03136265755356...|(126399,[0,1,2,3,...|\n",
      "|We were here last...|[last, night, rap...|(126299,[0,1,2,3,...|[0.05398540855765...|(126399,[0,1,2,3,...|\n",
      "|Kirei was part of...|[kirei, part, sus...|(126299,[0,1,2,3,...|[0.01341627198570...|(126399,[0,1,2,3,...|\n",
      "|Due to the more u...|[due, unique, ann...|(126299,[0,1,2,3,...|[-0.0060614878909...|(126399,[0,1,2,3,...|\n",
      "|Great bakery and ...|[great, bakery, d...|(126299,[0,1,2,3,...|[0.02780313674056...|(126399,[0,1,2,3,...|\n",
      "|The owners are ch...|[owners, charming...|(126299,[0,1,2,3,...|[0.02681611248017...|(126399,[0,1,2,3,...|\n",
      "+--------------------+--------------------+--------------------+--------------------+--------------------+\n",
      "only showing top 10 rows\n",
      "\n"
     ]
    }
   ],
   "source": [
    "# show the transformed review data\n",
    "\n",
    "reviews_by_business_trf_df.select( 'text', 'nostopwrd', 'idf_vec', 'word_vec', 'comb_vec').show(10)"
   ]
  },
  {
   "cell_type": "code",
   "execution_count": 16,
   "metadata": {
    "collapsed": false
   },
   "outputs": [
    {
     "name": "stdout",
     "output_type": "stream",
     "text": [
      "root\n",
      " |-- business_id: string (nullable = true)\n",
      " |-- text: string (nullable = true)\n",
      " |-- token: array (nullable = true)\n",
      " |    |-- element: string (containsNull = true)\n",
      " |-- nostopwrd: array (nullable = true)\n",
      " |    |-- element: string (containsNull = true)\n",
      " |-- rawFeature: vector (nullable = true)\n",
      " |-- idf_vec: vector (nullable = true)\n",
      " |-- word_vec: vector (nullable = true)\n",
      " |-- comb_vec: vector (nullable = true)\n",
      "\n"
     ]
    }
   ],
   "source": [
    "reviews_by_business_trf_df.printSchema()"
   ]
  },
  {
   "cell_type": "code",
   "execution_count": 17,
   "metadata": {
    "collapsed": true
   },
   "outputs": [],
   "source": [
    "def CosineSim(vec1, vec2): \n",
    "    return np.dot(vec1, vec2) / np.sqrt(np.dot(vec1, vec1)) / np.sqrt(np.dot(vec2, vec2)) "
   ]
  },
  {
   "cell_type": "code",
   "execution_count": 18,
   "metadata": {
    "collapsed": false
   },
   "outputs": [],
   "source": [
    "all_business_vecs = reviews_by_business_trf_df.select('business_id', 'word_vec').rdd.map(lambda x: (x[0], x[1])).collect()"
   ]
  },
  {
   "cell_type": "code",
   "execution_count": 19,
   "metadata": {
    "collapsed": false
   },
   "outputs": [
    {
     "data": {
      "text/plain": [
       "('Dl2vgi5W_nbe-A97D0zgfA',\n",
       " DenseVector([-0.0167, 0.0002, -0.0424, -0.0282, -0.0148, -0.0422, 0.0008, -0.0571, -0.0222, 0.0302, -0.0607, 0.0654, -0.0822, -0.0371, 0.0366, 0.0218, 0.0188, -0.0654, -0.0116, -0.0427, 0.0087, 0.0133, 0.0079, 0.0058, 0.1021, -0.0085, 0.0447, -0.087, -0.003, -0.0083, -0.0345, 0.0596, -0.0254, 0.0326, 0.0526, 0.0563, 0.0442, 0.0128, -0.0115, -0.0216, 0.0598, -0.0289, -0.0175, 0.0052, 0.06, -0.0747, -0.0769, 0.0693, 0.0589, -0.017, 0.018, -0.0264, 0.0283, -0.0598, 0.0609, 0.0174, 0.0492, 0.0459, -0.0151, -0.0558, 0.0161, -0.1232, 0.0352, -0.0366, -0.0109, -0.0347, -0.0094, -0.0101, -0.024, -0.0322, -0.0297, 0.0323, 0.0171, 0.0436, 0.0587, -0.0266, 0.0826, -0.0328, 0.0251, -0.0253, -0.0636, -0.0724, -0.0517, 0.0041, 0.0043, 0.0803, -0.1038, -0.0452, 0.0507, -0.0056, -0.0278, 0.0256, 0.0247, 0.021, -0.1104, -0.017, 0.0096, -0.0659, -0.002, -0.0284]))"
      ]
     },
     "execution_count": 19,
     "metadata": {},
     "output_type": "execute_result"
    }
   ],
   "source": [
    "all_business_vecs[1]"
   ]
  },
  {
   "cell_type": "code",
   "execution_count": 20,
   "metadata": {
    "collapsed": false
   },
   "outputs": [
    {
     "data": {
      "text/plain": [
       "'Dl2vgi5W_nbe-A97D0zgfA'"
      ]
     },
     "execution_count": 20,
     "metadata": {},
     "output_type": "execute_result"
    }
   ],
   "source": [
    "all_business_vecs[1][0]"
   ]
  },
  {
   "cell_type": "code",
   "execution_count": 21,
   "metadata": {
    "collapsed": false
   },
   "outputs": [
    {
     "data": {
      "text/plain": [
       "DenseVector([-0.0167, 0.0002, -0.0424, -0.0282, -0.0148, -0.0422, 0.0008, -0.0571, -0.0222, 0.0302, -0.0607, 0.0654, -0.0822, -0.0371, 0.0366, 0.0218, 0.0188, -0.0654, -0.0116, -0.0427, 0.0087, 0.0133, 0.0079, 0.0058, 0.1021, -0.0085, 0.0447, -0.087, -0.003, -0.0083, -0.0345, 0.0596, -0.0254, 0.0326, 0.0526, 0.0563, 0.0442, 0.0128, -0.0115, -0.0216, 0.0598, -0.0289, -0.0175, 0.0052, 0.06, -0.0747, -0.0769, 0.0693, 0.0589, -0.017, 0.018, -0.0264, 0.0283, -0.0598, 0.0609, 0.0174, 0.0492, 0.0459, -0.0151, -0.0558, 0.0161, -0.1232, 0.0352, -0.0366, -0.0109, -0.0347, -0.0094, -0.0101, -0.024, -0.0322, -0.0297, 0.0323, 0.0171, 0.0436, 0.0587, -0.0266, 0.0826, -0.0328, 0.0251, -0.0253, -0.0636, -0.0724, -0.0517, 0.0041, 0.0043, 0.0803, -0.1038, -0.0452, 0.0507, -0.0056, -0.0278, 0.0256, 0.0247, 0.021, -0.1104, -0.017, 0.0096, -0.0659, -0.002, -0.0284])"
      ]
     },
     "execution_count": 21,
     "metadata": {},
     "output_type": "execute_result"
    }
   ],
   "source": [
    "all_business_vecs[1][1]"
   ]
  },
  {
   "cell_type": "code",
   "execution_count": 22,
   "metadata": {
    "collapsed": true
   },
   "outputs": [],
   "source": [
    "def getSimilarBusinesses(b_ids, sim_bus_limit=10):\n",
    "    \n",
    "    schema = StructType([   \n",
    "                            StructField(\"business_id\", StringType(), True)\n",
    "                            ,StructField(\"score\", IntegerType(), True)\n",
    "                            ,StructField(\"input_business_id\", StringType(), True)\n",
    "                        ])\n",
    "    \n",
    "    similar_businesses_df = spark.createDataFrame([], schema)\n",
    "    \n",
    "    for b_id in b_ids:\n",
    "        \n",
    "        input_vec = [(r[1]) for r in all_business_vecs if r[0] == b_id][0]\n",
    "        #input_vec = reviews_by_business_trf_df.select('word_vec')\\\n",
    "                    #.filter(reviews_by_business_trf_df['business_id'] == b_id)\\\n",
    "                    #.collect()[0][0]\n",
    "\n",
    "        similar_business_rdd = sc.parallelize((i[0], float(CosineSim(input_vec, i[1]))) for i in all_business_vecs)\n",
    "\n",
    "        similar_business_df = spark.createDataFrame(similar_business_rdd) \\\n",
    "            .withColumnRenamed('_1', 'business_id') \\\n",
    "            .withColumnRenamed('_2', 'score') \\\n",
    "            .orderBy(\"score\", ascending = False)\n",
    "            \n",
    "        similar_business_df = similar_business_df.filter(col(\"business_id\") != b_id).limit(sim_bus_limit)\n",
    "        similar_business_df = similar_business_df.withColumn('input_business_id', lit(b_id))\n",
    "        \n",
    "        similar_businesses_df = similar_businesses_df \\\n",
    "                                    .union(similar_business_df)\n",
    "        \n",
    "    \n",
    "    return similar_businesses_df\n",
    "    "
   ]
  },
  {
   "cell_type": "code",
   "execution_count": 23,
   "metadata": {
    "collapsed": true
   },
   "outputs": [],
   "source": [
    "def getBusinessDetails(in_bus):\n",
    "    \n",
    "    a = in_bus.alias(\"a\")\n",
    "    b = business_df.alias(\"b\")\n",
    "    \n",
    "    return a.join(b, col(\"a.business_id\") == col(\"b.business_id\"), 'inner') \\\n",
    "             .select([col('a.'+xx) for xx in a.columns] + [col('b.business_name'),col('b.categories'),\n",
    "                                                           col('b.stars'),col('b.review_count'),\n",
    "                                                           col('b.latitude'),col('b.longitude')])\n",
    "    "
   ]
  },
  {
   "cell_type": "code",
   "execution_count": 24,
   "metadata": {
    "collapsed": false
   },
   "outputs": [],
   "source": [
    "def showInMap(df):\n",
    "    \n",
    "    mp = folium.Map(location=[43.70011, -79.4163], zoom_start=12)\n",
    "\n",
    "    for i, r in df.toPandas().iterrows():\n",
    "        folium.Marker(\n",
    "                    location =[r.latitude, r.longitude], \n",
    "                    popup = html.escape(r[\"business_name\"]) + '<br>' + 'Stars: ' + str(r.stars) + '<br>' + 'Reviews: ' + str(r.review_count),    \n",
    "                    icon = folium.Icon(color='green')).add_to(mp)\n",
    "    return mp"
   ]
  },
  {
   "cell_type": "code",
   "execution_count": 25,
   "metadata": {
    "collapsed": false
   },
   "outputs": [
    {
     "name": "stdout",
     "output_type": "stream",
     "text": [
      "\n",
      "input restaurants details:\n",
      "+----------------------+----------------------+------------------------------------------------------------------------------+\n",
      "|business_id           |business_name         |categories                                                                    |\n",
      "+----------------------+----------------------+------------------------------------------------------------------------------+\n",
      "|RtUvSWO_UZ8V3Wpj0n077w|KINKA IZAKAYA ORIGINAL|[Pubs, Japanese, Restaurants, Bars, Nightlife, Tapas Bars, Tapas/Small Plates]|\n",
      "|Dl2vgi5W_nbe-A97D0zgfA|Tasty Hut             |[Restaurants, Chinese]                                                        |\n",
      "+----------------------+----------------------+------------------------------------------------------------------------------+\n",
      "\n",
      "Top 10 similar restaurants for each input restaurant are:\"\n"
     ]
    },
    {
     "data": {
      "text/html": [
       "<div>\n",
       "<table border=\"1\" class=\"dataframe\">\n",
       "  <thead>\n",
       "    <tr style=\"text-align: right;\">\n",
       "      <th></th>\n",
       "      <th>input_business_id</th>\n",
       "      <th>business_name</th>\n",
       "      <th>score</th>\n",
       "      <th>categories</th>\n",
       "    </tr>\n",
       "  </thead>\n",
       "  <tbody>\n",
       "    <tr>\n",
       "      <th>0</th>\n",
       "      <td>Dl2vgi5W_nbe-A97D0zgfA</td>\n",
       "      <td>New Regime Restaurant</td>\n",
       "      <td>0.941276</td>\n",
       "      <td>[Restaurants, Chinese]</td>\n",
       "    </tr>\n",
       "    <tr>\n",
       "      <th>1</th>\n",
       "      <td>Dl2vgi5W_nbe-A97D0zgfA</td>\n",
       "      <td>The Only Cuisine Corp</td>\n",
       "      <td>0.940966</td>\n",
       "      <td>[Restaurants, Chinese]</td>\n",
       "    </tr>\n",
       "    <tr>\n",
       "      <th>2</th>\n",
       "      <td>Dl2vgi5W_nbe-A97D0zgfA</td>\n",
       "      <td>L's Chinese Eatery</td>\n",
       "      <td>0.940475</td>\n",
       "      <td>[Chinese, Restaurants]</td>\n",
       "    </tr>\n",
       "    <tr>\n",
       "      <th>3</th>\n",
       "      <td>Dl2vgi5W_nbe-A97D0zgfA</td>\n",
       "      <td>Qin Tang Taste</td>\n",
       "      <td>0.939837</td>\n",
       "      <td>[Chinese, Restaurants]</td>\n",
       "    </tr>\n",
       "    <tr>\n",
       "      <th>4</th>\n",
       "      <td>Dl2vgi5W_nbe-A97D0zgfA</td>\n",
       "      <td>Congee Me</td>\n",
       "      <td>0.938798</td>\n",
       "      <td>[Chinese, Restaurants]</td>\n",
       "    </tr>\n",
       "    <tr>\n",
       "      <th>5</th>\n",
       "      <td>Dl2vgi5W_nbe-A97D0zgfA</td>\n",
       "      <td>King Lobster</td>\n",
       "      <td>0.930083</td>\n",
       "      <td>[Seafood, Restaurants, Chinese]</td>\n",
       "    </tr>\n",
       "    <tr>\n",
       "      <th>6</th>\n",
       "      <td>Dl2vgi5W_nbe-A97D0zgfA</td>\n",
       "      <td>Si Chuan House Cuisine</td>\n",
       "      <td>0.929784</td>\n",
       "      <td>[Restaurants, Chinese]</td>\n",
       "    </tr>\n",
       "    <tr>\n",
       "      <th>7</th>\n",
       "      <td>Dl2vgi5W_nbe-A97D0zgfA</td>\n",
       "      <td>Golden House</td>\n",
       "      <td>0.929729</td>\n",
       "      <td>[Restaurants, Chinese]</td>\n",
       "    </tr>\n",
       "    <tr>\n",
       "      <th>8</th>\n",
       "      <td>Dl2vgi5W_nbe-A97D0zgfA</td>\n",
       "      <td>Jackpot Chicken Rice</td>\n",
       "      <td>0.929478</td>\n",
       "      <td>[Restaurants, Chinese, Bars, Pan Asian, Singap...</td>\n",
       "    </tr>\n",
       "    <tr>\n",
       "      <th>9</th>\n",
       "      <td>Dl2vgi5W_nbe-A97D0zgfA</td>\n",
       "      <td>Verdant Garden Chinese Restaurant</td>\n",
       "      <td>0.929080</td>\n",
       "      <td>[Chinese, Restaurants]</td>\n",
       "    </tr>\n",
       "    <tr>\n",
       "      <th>10</th>\n",
       "      <td>RtUvSWO_UZ8V3Wpj0n077w</td>\n",
       "      <td>KINKA IZAKAYA BLOOR</td>\n",
       "      <td>0.993457</td>\n",
       "      <td>[Nightlife, Restaurants, Pubs, Japanese, Tapas...</td>\n",
       "    </tr>\n",
       "    <tr>\n",
       "      <th>11</th>\n",
       "      <td>RtUvSWO_UZ8V3Wpj0n077w</td>\n",
       "      <td>KINKA IZAKAYA NORTH YORK</td>\n",
       "      <td>0.979195</td>\n",
       "      <td>[Bars, Nightlife, Restaurants, Tapas/Small Pla...</td>\n",
       "    </tr>\n",
       "    <tr>\n",
       "      <th>12</th>\n",
       "      <td>RtUvSWO_UZ8V3Wpj0n077w</td>\n",
       "      <td>DonDon Izakaya</td>\n",
       "      <td>0.972752</td>\n",
       "      <td>[Restaurants, Japanese, Tapas/Small Plates, Ta...</td>\n",
       "    </tr>\n",
       "    <tr>\n",
       "      <th>13</th>\n",
       "      <td>RtUvSWO_UZ8V3Wpj0n077w</td>\n",
       "      <td>Guu Izakaya Toronto</td>\n",
       "      <td>0.967972</td>\n",
       "      <td>[Tapas Bars, Izakaya, Japanese, Restaurants]</td>\n",
       "    </tr>\n",
       "    <tr>\n",
       "      <th>14</th>\n",
       "      <td>RtUvSWO_UZ8V3Wpj0n077w</td>\n",
       "      <td>Teppan Kenta</td>\n",
       "      <td>0.962260</td>\n",
       "      <td>[Japanese, Restaurants, Food]</td>\n",
       "    </tr>\n",
       "    <tr>\n",
       "      <th>15</th>\n",
       "      <td>RtUvSWO_UZ8V3Wpj0n077w</td>\n",
       "      <td>Hapa Izakaya</td>\n",
       "      <td>0.945645</td>\n",
       "      <td>[Japanese, Restaurants]</td>\n",
       "    </tr>\n",
       "    <tr>\n",
       "      <th>16</th>\n",
       "      <td>RtUvSWO_UZ8V3Wpj0n077w</td>\n",
       "      <td>Nomé Izakaya</td>\n",
       "      <td>0.940213</td>\n",
       "      <td>[Bars, Nightlife, Restaurants, Lounges, Tapas ...</td>\n",
       "    </tr>\n",
       "    <tr>\n",
       "      <th>17</th>\n",
       "      <td>RtUvSWO_UZ8V3Wpj0n077w</td>\n",
       "      <td>Ki Modern Japanese + Bar</td>\n",
       "      <td>0.938575</td>\n",
       "      <td>[Sushi Bars, Restaurants, Japanese]</td>\n",
       "    </tr>\n",
       "    <tr>\n",
       "      <th>18</th>\n",
       "      <td>RtUvSWO_UZ8V3Wpj0n077w</td>\n",
       "      <td>Hanmoto</td>\n",
       "      <td>0.937537</td>\n",
       "      <td>[Korean, Asian Fusion, Restaurants, Japanese]</td>\n",
       "    </tr>\n",
       "    <tr>\n",
       "      <th>19</th>\n",
       "      <td>RtUvSWO_UZ8V3Wpj0n077w</td>\n",
       "      <td>Sake Bar Kushi</td>\n",
       "      <td>0.937176</td>\n",
       "      <td>[Sushi Bars, Japanese, Restaurants, Tapas Bars]</td>\n",
       "    </tr>\n",
       "  </tbody>\n",
       "</table>\n",
       "</div>"
      ],
      "text/plain": [
       "         input_business_id                      business_name     score  \\\n",
       "0   Dl2vgi5W_nbe-A97D0zgfA              New Regime Restaurant  0.941276   \n",
       "1   Dl2vgi5W_nbe-A97D0zgfA              The Only Cuisine Corp  0.940966   \n",
       "2   Dl2vgi5W_nbe-A97D0zgfA                 L's Chinese Eatery  0.940475   \n",
       "3   Dl2vgi5W_nbe-A97D0zgfA                     Qin Tang Taste  0.939837   \n",
       "4   Dl2vgi5W_nbe-A97D0zgfA                          Congee Me  0.938798   \n",
       "5   Dl2vgi5W_nbe-A97D0zgfA                       King Lobster  0.930083   \n",
       "6   Dl2vgi5W_nbe-A97D0zgfA             Si Chuan House Cuisine  0.929784   \n",
       "7   Dl2vgi5W_nbe-A97D0zgfA                       Golden House  0.929729   \n",
       "8   Dl2vgi5W_nbe-A97D0zgfA               Jackpot Chicken Rice  0.929478   \n",
       "9   Dl2vgi5W_nbe-A97D0zgfA  Verdant Garden Chinese Restaurant  0.929080   \n",
       "10  RtUvSWO_UZ8V3Wpj0n077w                KINKA IZAKAYA BLOOR  0.993457   \n",
       "11  RtUvSWO_UZ8V3Wpj0n077w           KINKA IZAKAYA NORTH YORK  0.979195   \n",
       "12  RtUvSWO_UZ8V3Wpj0n077w                     DonDon Izakaya  0.972752   \n",
       "13  RtUvSWO_UZ8V3Wpj0n077w                Guu Izakaya Toronto  0.967972   \n",
       "14  RtUvSWO_UZ8V3Wpj0n077w                       Teppan Kenta  0.962260   \n",
       "15  RtUvSWO_UZ8V3Wpj0n077w                       Hapa Izakaya  0.945645   \n",
       "16  RtUvSWO_UZ8V3Wpj0n077w                       Nomé Izakaya  0.940213   \n",
       "17  RtUvSWO_UZ8V3Wpj0n077w           Ki Modern Japanese + Bar  0.938575   \n",
       "18  RtUvSWO_UZ8V3Wpj0n077w                            Hanmoto  0.937537   \n",
       "19  RtUvSWO_UZ8V3Wpj0n077w                     Sake Bar Kushi  0.937176   \n",
       "\n",
       "                                           categories  \n",
       "0                              [Restaurants, Chinese]  \n",
       "1                              [Restaurants, Chinese]  \n",
       "2                              [Chinese, Restaurants]  \n",
       "3                              [Chinese, Restaurants]  \n",
       "4                              [Chinese, Restaurants]  \n",
       "5                     [Seafood, Restaurants, Chinese]  \n",
       "6                              [Restaurants, Chinese]  \n",
       "7                              [Restaurants, Chinese]  \n",
       "8   [Restaurants, Chinese, Bars, Pan Asian, Singap...  \n",
       "9                              [Chinese, Restaurants]  \n",
       "10  [Nightlife, Restaurants, Pubs, Japanese, Tapas...  \n",
       "11  [Bars, Nightlife, Restaurants, Tapas/Small Pla...  \n",
       "12  [Restaurants, Japanese, Tapas/Small Plates, Ta...  \n",
       "13       [Tapas Bars, Izakaya, Japanese, Restaurants]  \n",
       "14                      [Japanese, Restaurants, Food]  \n",
       "15                            [Japanese, Restaurants]  \n",
       "16  [Bars, Nightlife, Restaurants, Lounges, Tapas ...  \n",
       "17                [Sushi Bars, Restaurants, Japanese]  \n",
       "18      [Korean, Asian Fusion, Restaurants, Japanese]  \n",
       "19    [Sushi Bars, Japanese, Restaurants, Tapas Bars]  "
      ]
     },
     "execution_count": 25,
     "metadata": {},
     "output_type": "execute_result"
    }
   ],
   "source": [
    "# test with two restaurants\n",
    "\n",
    "bids = ['Dl2vgi5W_nbe-A97D0zgfA', 'RtUvSWO_UZ8V3Wpj0n077w']\n",
    "\n",
    "print('\\ninput restaurants details:')\n",
    "business_df.select('business_id','business_name', 'categories') \\\n",
    "    .filter(business_df.business_id.isin(bids) == True).show(truncate=False)\n",
    "    \n",
    "# get top 10 similar business\n",
    "sims = getBusinessDetails(getSimilarBusinesses(bids))\n",
    "\n",
    "print('Top 10 similar restaurants for each input restaurant are:\"')\n",
    "sims.select('input_business_id','business_name', 'score','categories').toPandas()"
   ]
  },
  {
   "cell_type": "code",
   "execution_count": 26,
   "metadata": {
    "collapsed": true
   },
   "outputs": [],
   "source": [
    "def getContentRecoms(u_id, sim_bus_limit=10):\n",
    "    \n",
    "    # select restaurants previously reviewed (3+) by the user\n",
    "    query = \"\"\"\n",
    "    SELECT distinct business_id FROM reviews  \n",
    "    where stars >= 3.0 \n",
    "    and user_id = \"{}\"\n",
    "    \"\"\".format(u_id)\n",
    "\n",
    "    usr_rev_bus = sqlContext.sql(query)\n",
    "    \n",
    "    # from these get sample of 5 restaurants\n",
    "    usr_rev_bus = usr_rev_bus.sample(False, 0.5).limit(5)\n",
    "\n",
    "    usr_rev_bus_det = getBusinessDetails(usr_rev_bus)\n",
    "    \n",
    "    # show the sample details\n",
    "    print('\\nBusinesses previously reviewed by user:')\n",
    "    usr_rev_bus_det.select(['business_id', 'business_name', 'categories']).show(truncate = False)\n",
    "\n",
    "    bus_list = [i.business_id for i in usr_rev_bus.collect()]\n",
    "\n",
    "    # get restaurants similar to the sample\n",
    "    sim_bus_df = getSimilarBusinesses(bus_list, sim_bus_limit)\n",
    "\n",
    "    # filter out those have been reviewd before by the user\n",
    "    s = sim_bus_df.alias(\"s\")\n",
    "    r = usr_rev_bus.alias(\"r\")\n",
    "    j = s.join(r, col(\"s.business_id\") == col(\"r.business_id\"), 'left_outer') \\\n",
    "         .where(col(\"r.business_id\").isNull()) \\\n",
    "         .select([col('s.business_id'),col('s.score')])\n",
    "\n",
    "    a = j.orderBy(\"score\", ascending = False).limit(sim_bus_limit)\n",
    "\n",
    "    return getBusinessDetails(a)\n",
    "\n",
    "     "
   ]
  },
  {
   "cell_type": "code",
   "execution_count": 27,
   "metadata": {
    "collapsed": false
   },
   "outputs": [
    {
     "name": "stdout",
     "output_type": "stream",
     "text": [
      "\n",
      "Businesses previously reviewed by user:\n",
      "+----------------------+----------------------------+---------------------------------------------------------+\n",
      "|business_id           |business_name               |categories                                               |\n",
      "+----------------------+----------------------------+---------------------------------------------------------+\n",
      "|F_oPMHJrH42R67xp5eKtQA|Yummy Korean Food Restaurant|[Korean, Restaurants]                                    |\n",
      "|_HqZL3gK98-Q4ObAoyM1aw|Rose and Sons Swan          |[Breakfast & Brunch, American (Traditional), Restaurants]|\n",
      "|aAYl1-tsvP9Kzs7YESi8Rg|Electric Mud BBQ            |[Restaurants, Sandwiches, Food, Barbeque, Desserts]      |\n",
      "|acvmtF41s5Qa1ZNadUV0Dw|Average Joe's Café          |[Breakfast & Brunch, Restaurants, Food, Bagels]          |\n",
      "|M8S7poDhCIzqQx1--GB-ww|La Cubana                   |[Cuban, Restaurants, Mexican]                            |\n",
      "+----------------------+----------------------------+---------------------------------------------------------+\n",
      "\n",
      "Businesses recommended to user based on his previously reviewd businesses:\n"
     ]
    },
    {
     "data": {
      "text/html": [
       "<div>\n",
       "<table border=\"1\" class=\"dataframe\">\n",
       "  <thead>\n",
       "    <tr style=\"text-align: right;\">\n",
       "      <th></th>\n",
       "      <th>business_id</th>\n",
       "      <th>score</th>\n",
       "      <th>business_name</th>\n",
       "      <th>categories</th>\n",
       "      <th>stars</th>\n",
       "      <th>review_count</th>\n",
       "      <th>latitude</th>\n",
       "      <th>longitude</th>\n",
       "    </tr>\n",
       "  </thead>\n",
       "  <tbody>\n",
       "    <tr>\n",
       "      <th>0</th>\n",
       "      <td>rO3lZpVSoRMhhd0AEJBjlg</td>\n",
       "      <td>0.986259</td>\n",
       "      <td>Sunrise House</td>\n",
       "      <td>[Restaurants, Korean]</td>\n",
       "      <td>4.0</td>\n",
       "      <td>135</td>\n",
       "      <td>43.664068</td>\n",
       "      <td>-79.415668</td>\n",
       "    </tr>\n",
       "    <tr>\n",
       "      <th>1</th>\n",
       "      <td>rhyjGfqYlCJoi8Zeulg6QA</td>\n",
       "      <td>0.983902</td>\n",
       "      <td>Kimchi Korea House</td>\n",
       "      <td>[Korean, Restaurants]</td>\n",
       "      <td>3.5</td>\n",
       "      <td>155</td>\n",
       "      <td>43.655256</td>\n",
       "      <td>-79.385475</td>\n",
       "    </tr>\n",
       "    <tr>\n",
       "      <th>2</th>\n",
       "      <td>j-Z_HAev26ZftdErMhIBuA</td>\n",
       "      <td>0.980066</td>\n",
       "      <td>Thumbs Up Korean Restaurant</td>\n",
       "      <td>[Restaurants, Korean]</td>\n",
       "      <td>4.0</td>\n",
       "      <td>56</td>\n",
       "      <td>43.664451</td>\n",
       "      <td>-79.413786</td>\n",
       "    </tr>\n",
       "    <tr>\n",
       "      <th>3</th>\n",
       "      <td>_MA98TVmvVIy-XdI0poc7w</td>\n",
       "      <td>0.979998</td>\n",
       "      <td>Mom's Korean Food</td>\n",
       "      <td>[Korean, Restaurants]</td>\n",
       "      <td>3.5</td>\n",
       "      <td>62</td>\n",
       "      <td>43.664686</td>\n",
       "      <td>-79.413785</td>\n",
       "    </tr>\n",
       "    <tr>\n",
       "      <th>4</th>\n",
       "      <td>SNkkuchbVtUzCwyENcai_g</td>\n",
       "      <td>0.979673</td>\n",
       "      <td>Danji</td>\n",
       "      <td>[Restaurants, Chinese, Japanese, Korean]</td>\n",
       "      <td>3.5</td>\n",
       "      <td>57</td>\n",
       "      <td>43.665300</td>\n",
       "      <td>-79.384899</td>\n",
       "    </tr>\n",
       "    <tr>\n",
       "      <th>5</th>\n",
       "      <td>X6ZZksefmR_piQj2Gbnduw</td>\n",
       "      <td>0.975525</td>\n",
       "      <td>Paldo Gangsan</td>\n",
       "      <td>[Restaurants, Korean]</td>\n",
       "      <td>4.0</td>\n",
       "      <td>47</td>\n",
       "      <td>43.663799</td>\n",
       "      <td>-79.417393</td>\n",
       "    </tr>\n",
       "    <tr>\n",
       "      <th>6</th>\n",
       "      <td>oQylTvXwGIkKFdCjmafKVg</td>\n",
       "      <td>0.973422</td>\n",
       "      <td>Fire on the East Side</td>\n",
       "      <td>[Southern, Restaurants, Breakfast &amp; Brunch, Am...</td>\n",
       "      <td>3.5</td>\n",
       "      <td>119</td>\n",
       "      <td>43.666765</td>\n",
       "      <td>-79.384836</td>\n",
       "    </tr>\n",
       "    <tr>\n",
       "      <th>7</th>\n",
       "      <td>WnUttoJffplgWaQGR2J2Xw</td>\n",
       "      <td>0.973141</td>\n",
       "      <td>The Saint Tavern</td>\n",
       "      <td>[Restaurants, Bars, Nightlife, Gastropubs]</td>\n",
       "      <td>3.5</td>\n",
       "      <td>121</td>\n",
       "      <td>43.649062</td>\n",
       "      <td>-79.420478</td>\n",
       "    </tr>\n",
       "    <tr>\n",
       "      <th>8</th>\n",
       "      <td>ShUh_MMkaVp_KXCtNjPvXA</td>\n",
       "      <td>0.973117</td>\n",
       "      <td>Universal Grill</td>\n",
       "      <td>[American (Traditional), Canadian (New), Break...</td>\n",
       "      <td>3.5</td>\n",
       "      <td>45</td>\n",
       "      <td>43.670521</td>\n",
       "      <td>-79.426440</td>\n",
       "    </tr>\n",
       "    <tr>\n",
       "      <th>9</th>\n",
       "      <td>uChTCA6MsLAciDRklpO-Fw</td>\n",
       "      <td>0.972612</td>\n",
       "      <td>Makkal Chon</td>\n",
       "      <td>[Greek, Restaurants, Korean]</td>\n",
       "      <td>4.0</td>\n",
       "      <td>210</td>\n",
       "      <td>43.744944</td>\n",
       "      <td>-79.296636</td>\n",
       "    </tr>\n",
       "  </tbody>\n",
       "</table>\n",
       "</div>"
      ],
      "text/plain": [
       "              business_id     score                business_name  \\\n",
       "0  rO3lZpVSoRMhhd0AEJBjlg  0.986259                Sunrise House   \n",
       "1  rhyjGfqYlCJoi8Zeulg6QA  0.983902           Kimchi Korea House   \n",
       "2  j-Z_HAev26ZftdErMhIBuA  0.980066  Thumbs Up Korean Restaurant   \n",
       "3  _MA98TVmvVIy-XdI0poc7w  0.979998            Mom's Korean Food   \n",
       "4  SNkkuchbVtUzCwyENcai_g  0.979673                        Danji   \n",
       "5  X6ZZksefmR_piQj2Gbnduw  0.975525                Paldo Gangsan   \n",
       "6  oQylTvXwGIkKFdCjmafKVg  0.973422        Fire on the East Side   \n",
       "7  WnUttoJffplgWaQGR2J2Xw  0.973141             The Saint Tavern   \n",
       "8  ShUh_MMkaVp_KXCtNjPvXA  0.973117              Universal Grill   \n",
       "9  uChTCA6MsLAciDRklpO-Fw  0.972612                  Makkal Chon   \n",
       "\n",
       "                                          categories  stars  review_count  \\\n",
       "0                              [Restaurants, Korean]    4.0           135   \n",
       "1                              [Korean, Restaurants]    3.5           155   \n",
       "2                              [Restaurants, Korean]    4.0            56   \n",
       "3                              [Korean, Restaurants]    3.5            62   \n",
       "4           [Restaurants, Chinese, Japanese, Korean]    3.5            57   \n",
       "5                              [Restaurants, Korean]    4.0            47   \n",
       "6  [Southern, Restaurants, Breakfast & Brunch, Am...    3.5           119   \n",
       "7         [Restaurants, Bars, Nightlife, Gastropubs]    3.5           121   \n",
       "8  [American (Traditional), Canadian (New), Break...    3.5            45   \n",
       "9                       [Greek, Restaurants, Korean]    4.0           210   \n",
       "\n",
       "    latitude  longitude  \n",
       "0  43.664068 -79.415668  \n",
       "1  43.655256 -79.385475  \n",
       "2  43.664451 -79.413786  \n",
       "3  43.664686 -79.413785  \n",
       "4  43.665300 -79.384899  \n",
       "5  43.663799 -79.417393  \n",
       "6  43.666765 -79.384836  \n",
       "7  43.649062 -79.420478  \n",
       "8  43.670521 -79.426440  \n",
       "9  43.744944 -79.296636  "
      ]
     },
     "execution_count": 27,
     "metadata": {},
     "output_type": "execute_result"
    }
   ],
   "source": [
    "# test recoms for a user\n",
    "\n",
    "u_id = 'Wc5L6iuvSNF5WGBlqIO8nw'\n",
    "\n",
    "content_recom_df = getContentRecoms(u_id)\n",
    "\n",
    "print(\"Businesses recommended to user based on his previously reviewd businesses:\")\n",
    "content_recom_df.toPandas()"
   ]
  },
  {
   "cell_type": "code",
   "execution_count": 28,
   "metadata": {
    "collapsed": false,
    "scrolled": false
   },
   "outputs": [
    {
     "data": {
      "text/html": [
       "<div style=\"width:100%;\"><div style=\"position:relative;width:100%;height:0;padding-bottom:60%;\"><iframe src=\"data:text/html;charset=utf-8;base64,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\" style=\"position:absolute;width:100%;height:100%;left:0;top:0;border:none !important;\" allowfullscreen webkitallowfullscreen mozallowfullscreen></iframe></div></div>"
      ],
      "text/plain": [
       "<folium.folium.Map at 0x7f52e41c6160>"
      ]
     },
     "execution_count": 28,
     "metadata": {},
     "output_type": "execute_result"
    }
   ],
   "source": [
    "showInMap(content_recom_df)"
   ]
  },
  {
   "cell_type": "code",
   "execution_count": 29,
   "metadata": {
    "collapsed": true
   },
   "outputs": [],
   "source": [
    "def getKeyWordsRecoms(key_words, sim_bus_limit):\n",
    "    \n",
    "    print('\\nBusinesses similar to key words: \"' + key_words + '\"')\n",
    "    \n",
    "    input_words_df = sc.parallelize([(0, key_words)]).toDF(['business_id', 'text'])\n",
    "    \n",
    "    # transform the the key words to vectors\n",
    "    input_words_df = pipeline_mdl.transform(input_words_df)\n",
    "    \n",
    "    # choose word2vec vectors\n",
    "    input_key_words_vec = input_words_df.select('word_vec').collect()[0][0]\n",
    "    \n",
    "    # get similarity\n",
    "    sim_bus_byword_rdd = sc.parallelize((i[0], float(CosineSim(input_key_words_vec, i[1]))) for i in all_business_vecs)\n",
    "\n",
    "    sim_bus_byword_df = spark.createDataFrame(sim_bus_byword_rdd) \\\n",
    "         .withColumnRenamed('_1', 'business_id') \\\n",
    "         .withColumnRenamed('_2', 'score') \\\n",
    "         .orderBy(\"score\", ascending = False)\n",
    "    \n",
    "    # return top 10 similar businesses\n",
    "    a = sim_bus_byword_df.limit(sim_bus_limit)\n",
    "    return getBusinessDetails(a)\n"
   ]
  },
  {
   "cell_type": "code",
   "execution_count": 30,
   "metadata": {
    "collapsed": false
   },
   "outputs": [
    {
     "name": "stdout",
     "output_type": "stream",
     "text": [
      "\n",
      "Businesses similar to key words: \"chicken cheese burger\"\n"
     ]
    },
    {
     "data": {
      "text/html": [
       "<div>\n",
       "<table border=\"1\" class=\"dataframe\">\n",
       "  <thead>\n",
       "    <tr style=\"text-align: right;\">\n",
       "      <th></th>\n",
       "      <th>business_id</th>\n",
       "      <th>score</th>\n",
       "      <th>business_name</th>\n",
       "      <th>categories</th>\n",
       "      <th>stars</th>\n",
       "      <th>review_count</th>\n",
       "      <th>latitude</th>\n",
       "      <th>longitude</th>\n",
       "    </tr>\n",
       "  </thead>\n",
       "  <tbody>\n",
       "    <tr>\n",
       "      <th>0</th>\n",
       "      <td>37joQpD9m5AIcrW1c8OBnQ</td>\n",
       "      <td>0.718460</td>\n",
       "      <td>Urban Smoke Fusion BBQ Food Truck</td>\n",
       "      <td>[Desserts, Barbeque, Food, Restaurants, Food T...</td>\n",
       "      <td>4.0</td>\n",
       "      <td>8</td>\n",
       "      <td>43.718711</td>\n",
       "      <td>-79.470037</td>\n",
       "    </tr>\n",
       "    <tr>\n",
       "      <th>1</th>\n",
       "      <td>3Cu-af4en3uWCrAkkqfiHQ</td>\n",
       "      <td>0.697351</td>\n",
       "      <td>Epic Burgers and Waffles</td>\n",
       "      <td>[Burgers, Food, Restaurants]</td>\n",
       "      <td>2.5</td>\n",
       "      <td>5</td>\n",
       "      <td>43.632351</td>\n",
       "      <td>-79.421280</td>\n",
       "    </tr>\n",
       "    <tr>\n",
       "      <th>2</th>\n",
       "      <td>nP87zXxeS-8got7IBvoAuA</td>\n",
       "      <td>0.662935</td>\n",
       "      <td>McCoy Burger Company</td>\n",
       "      <td>[Local Flavor, Sandwiches, Restaurants, Poutin...</td>\n",
       "      <td>4.0</td>\n",
       "      <td>33</td>\n",
       "      <td>43.731511</td>\n",
       "      <td>-79.404081</td>\n",
       "    </tr>\n",
       "    <tr>\n",
       "      <th>3</th>\n",
       "      <td>DiCMYxT69I22-1nfsvYAJQ</td>\n",
       "      <td>0.662169</td>\n",
       "      <td>Gourmet Burger Co</td>\n",
       "      <td>[Burgers, Restaurants]</td>\n",
       "      <td>3.5</td>\n",
       "      <td>37</td>\n",
       "      <td>43.664683</td>\n",
       "      <td>-79.368279</td>\n",
       "    </tr>\n",
       "    <tr>\n",
       "      <th>4</th>\n",
       "      <td>ky9RbwLtChekSrqcYR39kw</td>\n",
       "      <td>0.652767</td>\n",
       "      <td>Big Smoke Burger</td>\n",
       "      <td>[Burgers, Poutineries, Restaurants]</td>\n",
       "      <td>3.0</td>\n",
       "      <td>6</td>\n",
       "      <td>43.611289</td>\n",
       "      <td>-79.556867</td>\n",
       "    </tr>\n",
       "    <tr>\n",
       "      <th>5</th>\n",
       "      <td>ZzF5098L4xg-0COjng2LVA</td>\n",
       "      <td>0.648873</td>\n",
       "      <td>Burgatory</td>\n",
       "      <td>[Pubs, Burgers, Food Trucks, Nightlife, Bars, ...</td>\n",
       "      <td>3.0</td>\n",
       "      <td>9</td>\n",
       "      <td>43.655055</td>\n",
       "      <td>-79.418563</td>\n",
       "    </tr>\n",
       "    <tr>\n",
       "      <th>6</th>\n",
       "      <td>UN0UwUh7jaeX6Jg3lZImCg</td>\n",
       "      <td>0.644995</td>\n",
       "      <td>Holy Chuck</td>\n",
       "      <td>[Food, Restaurants, Desserts, Poutineries, Bur...</td>\n",
       "      <td>3.0</td>\n",
       "      <td>43</td>\n",
       "      <td>43.665211</td>\n",
       "      <td>-79.384925</td>\n",
       "    </tr>\n",
       "    <tr>\n",
       "      <th>7</th>\n",
       "      <td>ycAW6Q5quaCSDX5zwQ3tPg</td>\n",
       "      <td>0.640920</td>\n",
       "      <td>New York Fries</td>\n",
       "      <td>[Canadian (New), Specialty Food, Food, Restaur...</td>\n",
       "      <td>3.5</td>\n",
       "      <td>8</td>\n",
       "      <td>43.776875</td>\n",
       "      <td>-79.256655</td>\n",
       "    </tr>\n",
       "    <tr>\n",
       "      <th>8</th>\n",
       "      <td>PkeaeQS8aJTeS8PS_Hl_-g</td>\n",
       "      <td>0.635419</td>\n",
       "      <td>Steak and Cheese Factory</td>\n",
       "      <td>[Sandwiches, Cheesesteaks, Restaurants]</td>\n",
       "      <td>3.0</td>\n",
       "      <td>3</td>\n",
       "      <td>43.708213</td>\n",
       "      <td>-79.392367</td>\n",
       "    </tr>\n",
       "    <tr>\n",
       "      <th>9</th>\n",
       "      <td>67Pa_CtXthgJzXfY8JzLDQ</td>\n",
       "      <td>0.635081</td>\n",
       "      <td>Holy Chuck</td>\n",
       "      <td>[Burgers, Restaurants]</td>\n",
       "      <td>3.5</td>\n",
       "      <td>263</td>\n",
       "      <td>43.687527</td>\n",
       "      <td>-79.394060</td>\n",
       "    </tr>\n",
       "  </tbody>\n",
       "</table>\n",
       "</div>"
      ],
      "text/plain": [
       "              business_id     score                      business_name  \\\n",
       "0  37joQpD9m5AIcrW1c8OBnQ  0.718460  Urban Smoke Fusion BBQ Food Truck   \n",
       "1  3Cu-af4en3uWCrAkkqfiHQ  0.697351           Epic Burgers and Waffles   \n",
       "2  nP87zXxeS-8got7IBvoAuA  0.662935               McCoy Burger Company   \n",
       "3  DiCMYxT69I22-1nfsvYAJQ  0.662169                  Gourmet Burger Co   \n",
       "4  ky9RbwLtChekSrqcYR39kw  0.652767                   Big Smoke Burger   \n",
       "5  ZzF5098L4xg-0COjng2LVA  0.648873                          Burgatory   \n",
       "6  UN0UwUh7jaeX6Jg3lZImCg  0.644995                         Holy Chuck   \n",
       "7  ycAW6Q5quaCSDX5zwQ3tPg  0.640920                     New York Fries   \n",
       "8  PkeaeQS8aJTeS8PS_Hl_-g  0.635419           Steak and Cheese Factory   \n",
       "9  67Pa_CtXthgJzXfY8JzLDQ  0.635081                         Holy Chuck   \n",
       "\n",
       "                                          categories  stars  review_count  \\\n",
       "0  [Desserts, Barbeque, Food, Restaurants, Food T...    4.0             8   \n",
       "1                       [Burgers, Food, Restaurants]    2.5             5   \n",
       "2  [Local Flavor, Sandwiches, Restaurants, Poutin...    4.0            33   \n",
       "3                             [Burgers, Restaurants]    3.5            37   \n",
       "4                [Burgers, Poutineries, Restaurants]    3.0             6   \n",
       "5  [Pubs, Burgers, Food Trucks, Nightlife, Bars, ...    3.0             9   \n",
       "6  [Food, Restaurants, Desserts, Poutineries, Bur...    3.0            43   \n",
       "7  [Canadian (New), Specialty Food, Food, Restaur...    3.5             8   \n",
       "8            [Sandwiches, Cheesesteaks, Restaurants]    3.0             3   \n",
       "9                             [Burgers, Restaurants]    3.5           263   \n",
       "\n",
       "    latitude  longitude  \n",
       "0  43.718711 -79.470037  \n",
       "1  43.632351 -79.421280  \n",
       "2  43.731511 -79.404081  \n",
       "3  43.664683 -79.368279  \n",
       "4  43.611289 -79.556867  \n",
       "5  43.655055 -79.418563  \n",
       "6  43.665211 -79.384925  \n",
       "7  43.776875 -79.256655  \n",
       "8  43.708213 -79.392367  \n",
       "9  43.687527 -79.394060  "
      ]
     },
     "execution_count": 30,
     "metadata": {},
     "output_type": "execute_result"
    }
   ],
   "source": [
    "# test key word similarity to review text\n",
    "\n",
    "key_words = 'chicken cheese burger'\n",
    "\n",
    "keywords_recom_df = getKeyWordsRecoms(key_words, 10)\n",
    "keywords_recom_df.toPandas()"
   ]
  },
  {
   "cell_type": "code",
   "execution_count": 31,
   "metadata": {
    "collapsed": false
   },
   "outputs": [
    {
     "data": {
      "text/html": [
       "<div style=\"width:100%;\"><div style=\"position:relative;width:100%;height:0;padding-bottom:60%;\"><iframe src=\"data:text/html;charset=utf-8;base64,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\" style=\"position:absolute;width:100%;height:100%;left:0;top:0;border:none !important;\" allowfullscreen webkitallowfullscreen mozallowfullscreen></iframe></div></div>"
      ],
      "text/plain": [
       "<folium.folium.Map at 0x7f52e1dd5f60>"
      ]
     },
     "execution_count": 31,
     "metadata": {},
     "output_type": "execute_result"
    }
   ],
   "source": [
    "showInMap(keywords_recom_df)"
   ]
  }
 ],
 "metadata": {
  "anaconda-cloud": {},
  "kernelspec": {
   "display_name": "Python [conda root]",
   "language": "python",
   "name": "conda-root-py"
  },
  "language_info": {
   "codemirror_mode": {
    "name": "ipython",
    "version": 3
   },
   "file_extension": ".py",
   "mimetype": "text/x-python",
   "name": "python",
   "nbconvert_exporter": "python",
   "pygments_lexer": "ipython3",
   "version": "3.5.2"
  }
 },
 "nbformat": 4,
 "nbformat_minor": 1
}
