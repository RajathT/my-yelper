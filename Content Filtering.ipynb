{
 "cells": [
  {
   "cell_type": "code",
   "execution_count": 1,
   "metadata": {
    "collapsed": true
   },
   "outputs": [],
   "source": [
    "import numpy as np\n",
    "import pandas as pd\n",
    "\n",
    "from operator import add\n",
    "from pyspark.ml.feature import RegexTokenizer\n",
    "from pyspark.ml.feature import StopWordsRemover\n",
    "from pyspark.ml.feature import Word2Vec\n",
    "from pyspark.ml.feature import HashingTF\n",
    "\n",
    "from pyspark.ml import Pipeline\n",
    "\n",
    "from pyspark.sql.functions import *\n",
    "\n",
    "from pyspark.sql.types import *"
   ]
  },
  {
   "cell_type": "code",
   "execution_count": 2,
   "metadata": {
    "collapsed": false
   },
   "outputs": [],
   "source": [
    "business_df = spark.read.parquet('/home/osboxes/yelp-data/dataset/business-small.parquet')"
   ]
  },
  {
   "cell_type": "code",
   "execution_count": 3,
   "metadata": {
    "collapsed": false
   },
   "outputs": [
    {
     "name": "stdout",
     "output_type": "stream",
     "text": [
      "root\n",
      " |-- business_id: string (nullable = true)\n",
      " |-- name: string (nullable = true)\n",
      " |-- neighborhood: string (nullable = true)\n",
      " |-- address: string (nullable = true)\n",
      " |-- city: string (nullable = true)\n",
      " |-- state: string (nullable = true)\n",
      " |-- postal_code: string (nullable = true)\n",
      " |-- latitude: double (nullable = true)\n",
      " |-- longitude: double (nullable = true)\n",
      " |-- stars: double (nullable = true)\n",
      " |-- review_count: long (nullable = true)\n",
      " |-- categories: array (nullable = true)\n",
      " |    |-- element: string (containsNull = true)\n",
      "\n"
     ]
    }
   ],
   "source": [
    "business_df.printSchema()"
   ]
  },
  {
   "cell_type": "code",
   "execution_count": 4,
   "metadata": {
    "collapsed": false
   },
   "outputs": [
    {
     "data": {
      "text/plain": [
       "DataFrame[summary: string, business_id: string, name: string, neighborhood: string, address: string, city: string, state: string, postal_code: string, latitude: string, longitude: string, stars: string, review_count: string]"
      ]
     },
     "execution_count": 4,
     "metadata": {},
     "output_type": "execute_result"
    }
   ],
   "source": [
    "business_df.describe()"
   ]
  },
  {
   "cell_type": "code",
   "execution_count": 5,
   "metadata": {
    "collapsed": false
   },
   "outputs": [
    {
     "name": "stdout",
     "output_type": "stream",
     "text": [
      "+--------------------+--------------------+------------+--------------------+-------+-----+-----------+----------+-----------+-----+------------+--------------------+\n",
      "|         business_id|                name|neighborhood|             address|   city|state|postal_code|  latitude|  longitude|stars|review_count|          categories|\n",
      "+--------------------+--------------------+------------+--------------------+-------+-----+-----------+----------+-----------+-----+------------+--------------------+\n",
      "|qim0lD112TkDhm8Zy...|McCarthy's Irish Pub| Upper Beach|1801 Gerrard Stre...|Toronto|   ON|    M4L 2B5|43.6780488|-79.3147736|  4.0|           5|[Pubs, Restaurant...|\n",
      "|Wf5C8Amv_SlhoYE3_...|         Oishi Sushi|            |    1325 Finch Ave W|Toronto|   ON|    M3J 2G5|43.7635097|-79.4907499|  2.0|          27|[Asian Fusion, Re...|\n",
      "+--------------------+--------------------+------------+--------------------+-------+-----+-----------+----------+-----------+-----+------------+--------------------+\n",
      "only showing top 2 rows\n",
      "\n"
     ]
    }
   ],
   "source": [
    "business_df.show(2)"
   ]
  },
  {
   "cell_type": "code",
   "execution_count": 6,
   "metadata": {
    "collapsed": false
   },
   "outputs": [
    {
     "data": {
      "text/plain": [
       "6750"
      ]
     },
     "execution_count": 6,
     "metadata": {},
     "output_type": "execute_result"
    }
   ],
   "source": [
    "business_df.count()"
   ]
  },
  {
   "cell_type": "code",
   "execution_count": 7,
   "metadata": {
    "collapsed": false
   },
   "outputs": [],
   "source": [
    "business_rdd = business_df.rdd"
   ]
  },
  {
   "cell_type": "code",
   "execution_count": 8,
   "metadata": {
    "collapsed": false
   },
   "outputs": [
    {
     "data": {
      "text/plain": [
       "[Row(business_id='qim0lD112TkDhm8ZyQlRnA', name=\"McCarthy's Irish Pub\", neighborhood='Upper Beach', address='1801 Gerrard Street E', city='Toronto', state='ON', postal_code='M4L 2B5', latitude=43.6780488, longitude=-79.3147736, stars=4.0, review_count=5, categories=['Pubs', 'Restaurants', 'Bars', 'Irish', 'Nightlife']),\n",
       " Row(business_id='Wf5C8Amv_SlhoYE3_W66WQ', name='Oishi Sushi', neighborhood='', address='1325 Finch Ave W', city='Toronto', state='ON', postal_code='M3J 2G5', latitude=43.7635097, longitude=-79.4907499, stars=2.0, review_count=27, categories=['Asian Fusion', 'Restaurants', 'Sushi Bars'])]"
      ]
     },
     "execution_count": 8,
     "metadata": {},
     "output_type": "execute_result"
    }
   ],
   "source": [
    "business_rdd.take(2)"
   ]
  },
  {
   "cell_type": "code",
   "execution_count": 9,
   "metadata": {
    "collapsed": false
   },
   "outputs": [],
   "source": [
    "business_df.createOrReplaceTempView(\"businesses\")"
   ]
  },
  {
   "cell_type": "code",
   "execution_count": 10,
   "metadata": {
    "collapsed": false
   },
   "outputs": [
    {
     "data": {
      "text/html": [
       "<div>\n",
       "<table border=\"1\" class=\"dataframe\">\n",
       "  <thead>\n",
       "    <tr style=\"text-align: right;\">\n",
       "      <th></th>\n",
       "      <th>business_id</th>\n",
       "      <th>name</th>\n",
       "      <th>neighborhood</th>\n",
       "      <th>address</th>\n",
       "      <th>city</th>\n",
       "      <th>state</th>\n",
       "      <th>postal_code</th>\n",
       "      <th>latitude</th>\n",
       "      <th>longitude</th>\n",
       "      <th>stars</th>\n",
       "      <th>review_count</th>\n",
       "      <th>categories</th>\n",
       "    </tr>\n",
       "  </thead>\n",
       "  <tbody>\n",
       "    <tr>\n",
       "      <th>0</th>\n",
       "      <td>kLw_FmSiEqYH-MtFhDIUFQ</td>\n",
       "      <td>Big Daddy's Bourbon Street Bistro &amp; Oyster Bar</td>\n",
       "      <td>Entertainment District</td>\n",
       "      <td>212 King Street W</td>\n",
       "      <td>Toronto</td>\n",
       "      <td>ON</td>\n",
       "      <td>M5H 1K5</td>\n",
       "      <td>43.647499</td>\n",
       "      <td>-79.386471</td>\n",
       "      <td>3.5</td>\n",
       "      <td>132</td>\n",
       "      <td>[Cajun/Creole, Restaurants, Seafood]</td>\n",
       "    </tr>\n",
       "    <tr>\n",
       "      <th>1</th>\n",
       "      <td>rxA9c0_XObabVL1WCTA4FA</td>\n",
       "      <td>Sneaky Dee's</td>\n",
       "      <td>Kensington Market</td>\n",
       "      <td>431 College Street</td>\n",
       "      <td>Toronto</td>\n",
       "      <td>ON</td>\n",
       "      <td>M5T 1T1</td>\n",
       "      <td>43.656333</td>\n",
       "      <td>-79.407487</td>\n",
       "      <td>3.5</td>\n",
       "      <td>362</td>\n",
       "      <td>[Breakfast &amp; Brunch, Nightlife, Dive Bars, Tex...</td>\n",
       "    </tr>\n",
       "    <tr>\n",
       "      <th>2</th>\n",
       "      <td>769NudnrUxWFtJCGU66A_A</td>\n",
       "      <td>Thompson Diner</td>\n",
       "      <td>Niagara</td>\n",
       "      <td>550 Wellington Street W</td>\n",
       "      <td>Toronto</td>\n",
       "      <td>ON</td>\n",
       "      <td>M5V 2V4</td>\n",
       "      <td>43.642914</td>\n",
       "      <td>-79.402046</td>\n",
       "      <td>3.0</td>\n",
       "      <td>207</td>\n",
       "      <td>[American (New), Restaurants, Canadian (New), ...</td>\n",
       "    </tr>\n",
       "    <tr>\n",
       "      <th>3</th>\n",
       "      <td>ofw8aDSEg1HoQdmCgvLtaQ</td>\n",
       "      <td>The Pie Commission</td>\n",
       "      <td>Etobicoke</td>\n",
       "      <td>935 Queensway</td>\n",
       "      <td>Toronto</td>\n",
       "      <td>ON</td>\n",
       "      <td>M8Z 1P4</td>\n",
       "      <td>43.623881</td>\n",
       "      <td>-79.512074</td>\n",
       "      <td>4.5</td>\n",
       "      <td>183</td>\n",
       "      <td>[Canadian (New), Fast Food, Food, Do-It-Yourse...</td>\n",
       "    </tr>\n",
       "    <tr>\n",
       "      <th>4</th>\n",
       "      <td>hDy-uY7Vy_TZdGBzw59lhA</td>\n",
       "      <td>Saku Sushi</td>\n",
       "      <td>Alexandra Park</td>\n",
       "      <td>478 Queen Street W</td>\n",
       "      <td>Toronto</td>\n",
       "      <td>ON</td>\n",
       "      <td>M5V 2B2</td>\n",
       "      <td>43.648071</td>\n",
       "      <td>-79.400286</td>\n",
       "      <td>4.0</td>\n",
       "      <td>261</td>\n",
       "      <td>[Japanese, Breakfast &amp; Brunch, Restaurants, Su...</td>\n",
       "    </tr>\n",
       "    <tr>\n",
       "      <th>5</th>\n",
       "      <td>fK1oj0dk9Bc6KsBk5mMDxg</td>\n",
       "      <td>Playa Cabana Cantina</td>\n",
       "      <td>The Junction</td>\n",
       "      <td>2883 Dundas Street W</td>\n",
       "      <td>Toronto</td>\n",
       "      <td>ON</td>\n",
       "      <td>M6P 1Y9</td>\n",
       "      <td>43.665303</td>\n",
       "      <td>-79.465505</td>\n",
       "      <td>3.5</td>\n",
       "      <td>229</td>\n",
       "      <td>[Restaurants, Mexican]</td>\n",
       "    </tr>\n",
       "    <tr>\n",
       "      <th>6</th>\n",
       "      <td>Vg4N2DsGrzzoam9jS1L3Wg</td>\n",
       "      <td>Johnny's Hamburgers</td>\n",
       "      <td>Scarborough</td>\n",
       "      <td>2595 Victoria Park Avenue</td>\n",
       "      <td>Toronto</td>\n",
       "      <td>ON</td>\n",
       "      <td>M1T 1A4</td>\n",
       "      <td>43.774878</td>\n",
       "      <td>-79.322278</td>\n",
       "      <td>3.5</td>\n",
       "      <td>166</td>\n",
       "      <td>[Burgers, Restaurants]</td>\n",
       "    </tr>\n",
       "    <tr>\n",
       "      <th>7</th>\n",
       "      <td>bz07FlaDmxHV9ER-cF6XuA</td>\n",
       "      <td>Platito Filipino Soul Food</td>\n",
       "      <td>Downtown Core</td>\n",
       "      <td>35 Baldwin Street</td>\n",
       "      <td>Toronto</td>\n",
       "      <td>ON</td>\n",
       "      <td>M5T 1L1</td>\n",
       "      <td>43.655859</td>\n",
       "      <td>-79.393467</td>\n",
       "      <td>3.5</td>\n",
       "      <td>113</td>\n",
       "      <td>[Filipino, Restaurants]</td>\n",
       "    </tr>\n",
       "    <tr>\n",
       "      <th>8</th>\n",
       "      <td>W2NzlS8OJzGfDfr9oRz11Q</td>\n",
       "      <td>Drake One Fifty</td>\n",
       "      <td>Financial District</td>\n",
       "      <td>150 York Street</td>\n",
       "      <td>Toronto</td>\n",
       "      <td>ON</td>\n",
       "      <td>M5H 3S5</td>\n",
       "      <td>43.649354</td>\n",
       "      <td>-79.384684</td>\n",
       "      <td>3.5</td>\n",
       "      <td>168</td>\n",
       "      <td>[Cocktail Bars, Brasseries, Food, Canadian (Ne...</td>\n",
       "    </tr>\n",
       "    <tr>\n",
       "      <th>9</th>\n",
       "      <td>XmgdFa3G_CZVfjtQEJMZfQ</td>\n",
       "      <td>Caplansky's Delicatessen</td>\n",
       "      <td></td>\n",
       "      <td>356 College Street</td>\n",
       "      <td>Toronto</td>\n",
       "      <td>ON</td>\n",
       "      <td>M5T 1S6</td>\n",
       "      <td>43.657207</td>\n",
       "      <td>-79.404248</td>\n",
       "      <td>3.5</td>\n",
       "      <td>390</td>\n",
       "      <td>[Restaurants, Delis, Caterers, Event Planning ...</td>\n",
       "    </tr>\n",
       "  </tbody>\n",
       "</table>\n",
       "</div>"
      ],
      "text/plain": [
       "              business_id                                            name  \\\n",
       "0  kLw_FmSiEqYH-MtFhDIUFQ  Big Daddy's Bourbon Street Bistro & Oyster Bar   \n",
       "1  rxA9c0_XObabVL1WCTA4FA                                    Sneaky Dee's   \n",
       "2  769NudnrUxWFtJCGU66A_A                                  Thompson Diner   \n",
       "3  ofw8aDSEg1HoQdmCgvLtaQ                              The Pie Commission   \n",
       "4  hDy-uY7Vy_TZdGBzw59lhA                                      Saku Sushi   \n",
       "5  fK1oj0dk9Bc6KsBk5mMDxg                            Playa Cabana Cantina   \n",
       "6  Vg4N2DsGrzzoam9jS1L3Wg                             Johnny's Hamburgers   \n",
       "7  bz07FlaDmxHV9ER-cF6XuA                      Platito Filipino Soul Food   \n",
       "8  W2NzlS8OJzGfDfr9oRz11Q                                 Drake One Fifty   \n",
       "9  XmgdFa3G_CZVfjtQEJMZfQ                        Caplansky's Delicatessen   \n",
       "\n",
       "             neighborhood                    address     city state  \\\n",
       "0  Entertainment District          212 King Street W  Toronto    ON   \n",
       "1       Kensington Market         431 College Street  Toronto    ON   \n",
       "2                 Niagara    550 Wellington Street W  Toronto    ON   \n",
       "3               Etobicoke              935 Queensway  Toronto    ON   \n",
       "4          Alexandra Park         478 Queen Street W  Toronto    ON   \n",
       "5            The Junction       2883 Dundas Street W  Toronto    ON   \n",
       "6             Scarborough  2595 Victoria Park Avenue  Toronto    ON   \n",
       "7           Downtown Core          35 Baldwin Street  Toronto    ON   \n",
       "8      Financial District            150 York Street  Toronto    ON   \n",
       "9                                 356 College Street  Toronto    ON   \n",
       "\n",
       "  postal_code   latitude  longitude  stars  review_count  \\\n",
       "0     M5H 1K5  43.647499 -79.386471    3.5           132   \n",
       "1     M5T 1T1  43.656333 -79.407487    3.5           362   \n",
       "2     M5V 2V4  43.642914 -79.402046    3.0           207   \n",
       "3     M8Z 1P4  43.623881 -79.512074    4.5           183   \n",
       "4     M5V 2B2  43.648071 -79.400286    4.0           261   \n",
       "5     M6P 1Y9  43.665303 -79.465505    3.5           229   \n",
       "6     M1T 1A4  43.774878 -79.322278    3.5           166   \n",
       "7     M5T 1L1  43.655859 -79.393467    3.5           113   \n",
       "8     M5H 3S5  43.649354 -79.384684    3.5           168   \n",
       "9     M5T 1S6  43.657207 -79.404248    3.5           390   \n",
       "\n",
       "                                          categories  \n",
       "0               [Cajun/Creole, Restaurants, Seafood]  \n",
       "1  [Breakfast & Brunch, Nightlife, Dive Bars, Tex...  \n",
       "2  [American (New), Restaurants, Canadian (New), ...  \n",
       "3  [Canadian (New), Fast Food, Food, Do-It-Yourse...  \n",
       "4  [Japanese, Breakfast & Brunch, Restaurants, Su...  \n",
       "5                             [Restaurants, Mexican]  \n",
       "6                             [Burgers, Restaurants]  \n",
       "7                            [Filipino, Restaurants]  \n",
       "8  [Cocktail Bars, Brasseries, Food, Canadian (Ne...  \n",
       "9  [Restaurants, Delis, Caterers, Event Planning ...  "
      ]
     },
     "execution_count": 10,
     "metadata": {},
     "output_type": "execute_result"
    }
   ],
   "source": [
    "query = \"\"\"\n",
    "SELECT * FROM businesses where review_count > 100 limit 10\n",
    "\"\"\"\n",
    "\n",
    "sqlContext.sql(query).toPandas()"
   ]
  },
  {
   "cell_type": "code",
   "execution_count": 11,
   "metadata": {
    "collapsed": false
   },
   "outputs": [
    {
     "name": "stdout",
     "output_type": "stream",
     "text": [
      "root\n",
      " |-- user_id: string (nullable = true)\n",
      " |-- name: string (nullable = true)\n",
      " |-- review_count: long (nullable = true)\n",
      " |-- yelping_since: string (nullable = true)\n",
      " |-- useful: long (nullable = true)\n",
      " |-- funny: long (nullable = true)\n",
      " |-- cool: long (nullable = true)\n",
      " |-- fans: long (nullable = true)\n",
      " |-- average_stars: double (nullable = true)\n",
      "\n"
     ]
    }
   ],
   "source": [
    "user_df = spark.read.parquet(\"/home/osboxes/yelp-data/dataset/user-small.parquet\")\n",
    "user_df.printSchema()"
   ]
  },
  {
   "cell_type": "code",
   "execution_count": 12,
   "metadata": {
    "collapsed": false
   },
   "outputs": [
    {
     "data": {
      "text/plain": [
       "66424"
      ]
     },
     "execution_count": 12,
     "metadata": {},
     "output_type": "execute_result"
    }
   ],
   "source": [
    "user_df.count()"
   ]
  },
  {
   "cell_type": "code",
   "execution_count": 13,
   "metadata": {
    "collapsed": true
   },
   "outputs": [],
   "source": [
    "user_df.createOrReplaceTempView(\"users\")"
   ]
  },
  {
   "cell_type": "code",
   "execution_count": 14,
   "metadata": {
    "collapsed": false
   },
   "outputs": [
    {
     "data": {
      "text/html": [
       "<div>\n",
       "<table border=\"1\" class=\"dataframe\">\n",
       "  <thead>\n",
       "    <tr style=\"text-align: right;\">\n",
       "      <th></th>\n",
       "      <th>user_id</th>\n",
       "      <th>name</th>\n",
       "      <th>review_count</th>\n",
       "      <th>yelping_since</th>\n",
       "      <th>useful</th>\n",
       "      <th>funny</th>\n",
       "      <th>cool</th>\n",
       "      <th>fans</th>\n",
       "      <th>average_stars</th>\n",
       "    </tr>\n",
       "  </thead>\n",
       "  <tbody>\n",
       "    <tr>\n",
       "      <th>0</th>\n",
       "      <td>om5ZiponkpRqUNa3pVPiRg</td>\n",
       "      <td>Andrea</td>\n",
       "      <td>2559</td>\n",
       "      <td>2006-01-18</td>\n",
       "      <td>83681</td>\n",
       "      <td>10882</td>\n",
       "      <td>40110</td>\n",
       "      <td>835</td>\n",
       "      <td>3.94</td>\n",
       "    </tr>\n",
       "    <tr>\n",
       "      <th>1</th>\n",
       "      <td>Wc5L6iuvSNF5WGBlqIO8nw</td>\n",
       "      <td>Risa</td>\n",
       "      <td>1122</td>\n",
       "      <td>2011-07-30</td>\n",
       "      <td>26395</td>\n",
       "      <td>4880</td>\n",
       "      <td>19108</td>\n",
       "      <td>435</td>\n",
       "      <td>4.10</td>\n",
       "    </tr>\n",
       "    <tr>\n",
       "      <th>2</th>\n",
       "      <td>uxKSnOVAoEj4I6X9YhLBlg</td>\n",
       "      <td>Vivian</td>\n",
       "      <td>73</td>\n",
       "      <td>2013-03-02</td>\n",
       "      <td>34</td>\n",
       "      <td>5</td>\n",
       "      <td>2</td>\n",
       "      <td>8</td>\n",
       "      <td>3.54</td>\n",
       "    </tr>\n",
       "    <tr>\n",
       "      <th>3</th>\n",
       "      <td>s8bVHRqx6cI8F8HGf3A_og</td>\n",
       "      <td>Colleen</td>\n",
       "      <td>32</td>\n",
       "      <td>2014-12-18</td>\n",
       "      <td>19</td>\n",
       "      <td>3</td>\n",
       "      <td>7</td>\n",
       "      <td>2</td>\n",
       "      <td>4.15</td>\n",
       "    </tr>\n",
       "    <tr>\n",
       "      <th>4</th>\n",
       "      <td>xEajChTkzWIYTMLkYNoIIw</td>\n",
       "      <td>Di</td>\n",
       "      <td>71</td>\n",
       "      <td>2012-09-26</td>\n",
       "      <td>31</td>\n",
       "      <td>8</td>\n",
       "      <td>4</td>\n",
       "      <td>3</td>\n",
       "      <td>3.29</td>\n",
       "    </tr>\n",
       "    <tr>\n",
       "      <th>5</th>\n",
       "      <td>YJLlvBPtvB8iJg8_WKxVzQ</td>\n",
       "      <td>Casey</td>\n",
       "      <td>72</td>\n",
       "      <td>2014-03-01</td>\n",
       "      <td>5</td>\n",
       "      <td>2</td>\n",
       "      <td>3</td>\n",
       "      <td>7</td>\n",
       "      <td>3.95</td>\n",
       "    </tr>\n",
       "    <tr>\n",
       "      <th>6</th>\n",
       "      <td>YTdNcIWAt2nEzZ7NY-fniw</td>\n",
       "      <td>Jeff</td>\n",
       "      <td>754</td>\n",
       "      <td>2011-05-16</td>\n",
       "      <td>151</td>\n",
       "      <td>105</td>\n",
       "      <td>125</td>\n",
       "      <td>68</td>\n",
       "      <td>3.74</td>\n",
       "    </tr>\n",
       "    <tr>\n",
       "      <th>7</th>\n",
       "      <td>ZWD8UH1T7QXQr0Eq-mcWYg</td>\n",
       "      <td>Jason</td>\n",
       "      <td>121</td>\n",
       "      <td>2013-11-13</td>\n",
       "      <td>192</td>\n",
       "      <td>29</td>\n",
       "      <td>54</td>\n",
       "      <td>33</td>\n",
       "      <td>3.91</td>\n",
       "    </tr>\n",
       "    <tr>\n",
       "      <th>8</th>\n",
       "      <td>YSDzb8DnvKozByqBjYiS4w</td>\n",
       "      <td>Jarita</td>\n",
       "      <td>68</td>\n",
       "      <td>2012-03-30</td>\n",
       "      <td>1</td>\n",
       "      <td>1</td>\n",
       "      <td>0</td>\n",
       "      <td>8</td>\n",
       "      <td>3.64</td>\n",
       "    </tr>\n",
       "    <tr>\n",
       "      <th>9</th>\n",
       "      <td>ljdo6-BZlywsF5RiGd5e5A</td>\n",
       "      <td>Justina</td>\n",
       "      <td>75</td>\n",
       "      <td>2014-06-18</td>\n",
       "      <td>7</td>\n",
       "      <td>2</td>\n",
       "      <td>0</td>\n",
       "      <td>5</td>\n",
       "      <td>3.82</td>\n",
       "    </tr>\n",
       "  </tbody>\n",
       "</table>\n",
       "</div>"
      ],
      "text/plain": [
       "                  user_id     name  review_count yelping_since  useful  funny  \\\n",
       "0  om5ZiponkpRqUNa3pVPiRg   Andrea          2559    2006-01-18   83681  10882   \n",
       "1  Wc5L6iuvSNF5WGBlqIO8nw     Risa          1122    2011-07-30   26395   4880   \n",
       "2  uxKSnOVAoEj4I6X9YhLBlg   Vivian            73    2013-03-02      34      5   \n",
       "3  s8bVHRqx6cI8F8HGf3A_og  Colleen            32    2014-12-18      19      3   \n",
       "4  xEajChTkzWIYTMLkYNoIIw       Di            71    2012-09-26      31      8   \n",
       "5  YJLlvBPtvB8iJg8_WKxVzQ    Casey            72    2014-03-01       5      2   \n",
       "6  YTdNcIWAt2nEzZ7NY-fniw     Jeff           754    2011-05-16     151    105   \n",
       "7  ZWD8UH1T7QXQr0Eq-mcWYg    Jason           121    2013-11-13     192     29   \n",
       "8  YSDzb8DnvKozByqBjYiS4w   Jarita            68    2012-03-30       1      1   \n",
       "9  ljdo6-BZlywsF5RiGd5e5A  Justina            75    2014-06-18       7      2   \n",
       "\n",
       "    cool  fans  average_stars  \n",
       "0  40110   835           3.94  \n",
       "1  19108   435           4.10  \n",
       "2      2     8           3.54  \n",
       "3      7     2           4.15  \n",
       "4      4     3           3.29  \n",
       "5      3     7           3.95  \n",
       "6    125    68           3.74  \n",
       "7     54    33           3.91  \n",
       "8      0     8           3.64  \n",
       "9      0     5           3.82  "
      ]
     },
     "execution_count": 14,
     "metadata": {},
     "output_type": "execute_result"
    }
   ],
   "source": [
    "query = \"\"\"\n",
    "SELECT * FROM USERS \n",
    "limit 10\n",
    "\"\"\"\n",
    "\n",
    "sqlContext.sql(query).toPandas()\n"
   ]
  },
  {
   "cell_type": "code",
   "execution_count": 15,
   "metadata": {
    "collapsed": true
   },
   "outputs": [],
   "source": [
    "review_df = spark.read.parquet(\"/home/osboxes/yelp-data/dataset/review-small.parquet\")"
   ]
  },
  {
   "cell_type": "code",
   "execution_count": 16,
   "metadata": {
    "collapsed": false
   },
   "outputs": [
    {
     "name": "stdout",
     "output_type": "stream",
     "text": [
      "root\n",
      " |-- review_id: string (nullable = true)\n",
      " |-- user_id: string (nullable = true)\n",
      " |-- business_id: string (nullable = true)\n",
      " |-- stars: long (nullable = true)\n",
      " |-- review_date: string (nullable = true)\n",
      " |-- review_text: string (nullable = true)\n",
      " |-- useful: long (nullable = true)\n",
      " |-- funny: long (nullable = true)\n",
      " |-- cool: long (nullable = true)\n",
      "\n"
     ]
    }
   ],
   "source": [
    "review_df.printSchema()"
   ]
  },
  {
   "cell_type": "code",
   "execution_count": 17,
   "metadata": {
    "collapsed": false
   },
   "outputs": [
    {
     "data": {
      "text/plain": [
       "276887"
      ]
     },
     "execution_count": 17,
     "metadata": {},
     "output_type": "execute_result"
    }
   ],
   "source": [
    "review_df.count()"
   ]
  },
  {
   "cell_type": "code",
   "execution_count": 18,
   "metadata": {
    "collapsed": false
   },
   "outputs": [
    {
     "name": "stdout",
     "output_type": "stream",
     "text": [
      "+--------------------+--------------------+--------------------+-----+-----------+--------------------+------+-----+----+\n",
      "|           review_id|             user_id|         business_id|stars|review_date|         review_text|useful|funny|cool|\n",
      "+--------------------+--------------------+--------------------+-----+-----------+--------------------+------+-----+----+\n",
      "|Z5l99h18E3_g1GLcD...|djpMXOA1ic5wv3FPt...|mr4FiPaXTWlJ3qGzp...|    3| 2009-07-21|I left Table 17 f...|     3|    0|   0|\n",
      "|Z3Fw292i0Eg8liW0D...|-pXs08gJq9ExIk275...|mr4FiPaXTWlJ3qGzp...|    3| 2008-12-13|for the time bein...|     1|    0|   0|\n",
      "|hsKINx1dIKeFTDe-Z...|PTj29rhujYETuFlAZ...|mr4FiPaXTWlJ3qGzp...|    5| 2013-10-12|Love this place. ...|     1|    0|   1|\n",
      "+--------------------+--------------------+--------------------+-----+-----------+--------------------+------+-----+----+\n",
      "only showing top 3 rows\n",
      "\n"
     ]
    }
   ],
   "source": [
    "review_df.show(3)"
   ]
  },
  {
   "cell_type": "code",
   "execution_count": 19,
   "metadata": {
    "collapsed": true
   },
   "outputs": [],
   "source": [
    "review_df.createOrReplaceTempView(\"reviews\")"
   ]
  },
  {
   "cell_type": "code",
   "execution_count": 20,
   "metadata": {
    "collapsed": false
   },
   "outputs": [
    {
     "data": {
      "text/html": [
       "<div>\n",
       "<table border=\"1\" class=\"dataframe\">\n",
       "  <thead>\n",
       "    <tr style=\"text-align: right;\">\n",
       "      <th></th>\n",
       "      <th>business_id</th>\n",
       "      <th>5_stars_count</th>\n",
       "    </tr>\n",
       "  </thead>\n",
       "  <tbody>\n",
       "    <tr>\n",
       "      <th>0</th>\n",
       "      <td>r_BrIgzYcwo1NAuG9dLbpg</td>\n",
       "      <td>604</td>\n",
       "    </tr>\n",
       "    <tr>\n",
       "      <th>1</th>\n",
       "      <td>aLcFhMe6DDJ430zelCpd2A</td>\n",
       "      <td>462</td>\n",
       "    </tr>\n",
       "    <tr>\n",
       "      <th>2</th>\n",
       "      <td>RtUvSWO_UZ8V3Wpj0n077w</td>\n",
       "      <td>458</td>\n",
       "    </tr>\n",
       "    <tr>\n",
       "      <th>3</th>\n",
       "      <td>iGEvDk6hsizigmXhDKs2Vg</td>\n",
       "      <td>457</td>\n",
       "    </tr>\n",
       "    <tr>\n",
       "      <th>4</th>\n",
       "      <td>N93EYZy9R0sdlEvubu94ig</td>\n",
       "      <td>407</td>\n",
       "    </tr>\n",
       "    <tr>\n",
       "      <th>5</th>\n",
       "      <td>Yl2TN9c23ZGLUBSD9ks5Uw</td>\n",
       "      <td>279</td>\n",
       "    </tr>\n",
       "    <tr>\n",
       "      <th>6</th>\n",
       "      <td>ZumOnWbstgsIE6bJlxw0_Q</td>\n",
       "      <td>267</td>\n",
       "    </tr>\n",
       "    <tr>\n",
       "      <th>7</th>\n",
       "      <td>mZRKH9ngRY92bI_irrHq6w</td>\n",
       "      <td>267</td>\n",
       "    </tr>\n",
       "    <tr>\n",
       "      <th>8</th>\n",
       "      <td>k6zmSLmYAquCpJGKNnTgSQ</td>\n",
       "      <td>259</td>\n",
       "    </tr>\n",
       "    <tr>\n",
       "      <th>9</th>\n",
       "      <td>JMiaNitMzMbJm6Kh0RbT5A</td>\n",
       "      <td>247</td>\n",
       "    </tr>\n",
       "  </tbody>\n",
       "</table>\n",
       "</div>"
      ],
      "text/plain": [
       "              business_id  5_stars_count\n",
       "0  r_BrIgzYcwo1NAuG9dLbpg            604\n",
       "1  aLcFhMe6DDJ430zelCpd2A            462\n",
       "2  RtUvSWO_UZ8V3Wpj0n077w            458\n",
       "3  iGEvDk6hsizigmXhDKs2Vg            457\n",
       "4  N93EYZy9R0sdlEvubu94ig            407\n",
       "5  Yl2TN9c23ZGLUBSD9ks5Uw            279\n",
       "6  ZumOnWbstgsIE6bJlxw0_Q            267\n",
       "7  mZRKH9ngRY92bI_irrHq6w            267\n",
       "8  k6zmSLmYAquCpJGKNnTgSQ            259\n",
       "9  JMiaNitMzMbJm6Kh0RbT5A            247"
      ]
     },
     "execution_count": 20,
     "metadata": {},
     "output_type": "execute_result"
    }
   ],
   "source": [
    "query = \"\"\"\n",
    "SELECT\n",
    "    business_id,\n",
    "    COUNT(*) as 5_stars_count\n",
    "FROM reviews\n",
    "WHERE stars = '5'\n",
    "GROUP BY business_id \n",
    "ORDER BY COUNT(*) DESC\n",
    "limit 10\n",
    "\"\"\"\n",
    "\n",
    "sqlContext.sql(query).toPandas()\n"
   ]
  },
  {
   "cell_type": "code",
   "execution_count": 21,
   "metadata": {
    "collapsed": false
   },
   "outputs": [
    {
     "name": "stdout",
     "output_type": "stream",
     "text": [
      "+--------------------+\n",
      "|         review_text|\n",
      "+--------------------+\n",
      "|They messed up my...|\n",
      "|#detox ...... wil...|\n",
      "+--------------------+\n",
      "only showing top 2 rows\n",
      "\n"
     ]
    }
   ],
   "source": [
    "query = \"\"\"\n",
    "SELECT\n",
    "    review_text\n",
    "FROM reviews\n",
    "WHERE stars = '1'\n",
    "limit 10\n",
    "\"\"\"\n",
    "\n",
    "sqlContext.sql(query).show(2)\n"
   ]
  },
  {
   "cell_type": "code",
   "execution_count": 22,
   "metadata": {
    "collapsed": true
   },
   "outputs": [],
   "source": [
    "reviews_text = spark.sql(\"SELECT business_id, review_text FROM reviews\")"
   ]
  },
  {
   "cell_type": "code",
   "execution_count": 23,
   "metadata": {
    "collapsed": false
   },
   "outputs": [
    {
     "name": "stdout",
     "output_type": "stream",
     "text": [
      "+--------------------+--------------------+\n",
      "|         business_id|         review_text|\n",
      "+--------------------+--------------------+\n",
      "|mr4FiPaXTWlJ3qGzp...|I left Table 17 f...|\n",
      "|mr4FiPaXTWlJ3qGzp...|for the time bein...|\n",
      "|mr4FiPaXTWlJ3qGzp...|Love this place. ...|\n",
      "+--------------------+--------------------+\n",
      "only showing top 3 rows\n",
      "\n"
     ]
    }
   ],
   "source": [
    "reviews_text.show(3)"
   ]
  },
  {
   "cell_type": "code",
   "execution_count": 24,
   "metadata": {
    "collapsed": false
   },
   "outputs": [
    {
     "data": {
      "text/plain": [
       "6750"
      ]
     },
     "execution_count": 24,
     "metadata": {},
     "output_type": "execute_result"
    }
   ],
   "source": [
    "reviews_text_rdd = reviews_text.rdd\n",
    "reviews_by_business_rdd = reviews_text_rdd.map(tuple).reduceByKey(add)  \n",
    "reviews_by_business_df = spark.createDataFrame(reviews_by_business_rdd)\n",
    "reviews_by_business_df = reviews_by_business_df \\\n",
    "                            .withColumnRenamed('_1', 'business_id') \\\n",
    "                            .withColumnRenamed('_2', 'text')\n",
    "reviews_by_business_df.count()   "
   ]
  },
  {
   "cell_type": "code",
   "execution_count": 25,
   "metadata": {
    "collapsed": false
   },
   "outputs": [
    {
     "name": "stdout",
     "output_type": "stream",
     "text": [
      "+--------------------+--------------------+\n",
      "|         business_id|                text|\n",
      "+--------------------+--------------------+\n",
      "|bfR-vJvrjdOJaWsXG...|Attention allergy...|\n",
      "|Dl2vgi5W_nbe-A97D...|I don't understan...|\n",
      "|65ZGMedBm7TBpWv6f...|Food here is alwa...|\n",
      "+--------------------+--------------------+\n",
      "only showing top 3 rows\n",
      "\n"
     ]
    }
   ],
   "source": [
    "reviews_by_business_df.show(3)"
   ]
  },
  {
   "cell_type": "code",
   "execution_count": 26,
   "metadata": {
    "collapsed": false
   },
   "outputs": [
    {
     "name": "stdout",
     "output_type": "stream",
     "text": [
      "+--------------------+--------------------+--------------------+\n",
      "|         business_id|                text|               token|\n",
      "+--------------------+--------------------+--------------------+\n",
      "|bfR-vJvrjdOJaWsXG...|Attention allergy...|[attention, aller...|\n",
      "|Dl2vgi5W_nbe-A97D...|I don't understan...|[i, don, t, under...|\n",
      "|65ZGMedBm7TBpWv6f...|Food here is alwa...|[food, here, is, ...|\n",
      "+--------------------+--------------------+--------------------+\n",
      "only showing top 3 rows\n",
      "\n"
     ]
    }
   ],
   "source": [
    "\n",
    "regexTokenizer = RegexTokenizer(gaps = False, pattern = '\\w+', inputCol = 'text', outputCol = 'token')\n",
    "\n",
    "reviews_by_business_token_df = regexTokenizer.transform(reviews_by_business_df)\n",
    "reviews_by_business_token_df.show(3)\n"
   ]
  },
  {
   "cell_type": "code",
   "execution_count": 27,
   "metadata": {
    "collapsed": false
   },
   "outputs": [
    {
     "name": "stdout",
     "output_type": "stream",
     "text": [
      "+--------------------+--------------------+--------------------+--------------------+\n",
      "|         business_id|                text|               token|           nostopwrd|\n",
      "+--------------------+--------------------+--------------------+--------------------+\n",
      "|bfR-vJvrjdOJaWsXG...|Attention allergy...|[attention, aller...|[attention, aller...|\n",
      "|Dl2vgi5W_nbe-A97D...|I don't understan...|[i, don, t, under...|[understand, prev...|\n",
      "|65ZGMedBm7TBpWv6f...|Food here is alwa...|[food, here, is, ...|[food, always, fr...|\n",
      "+--------------------+--------------------+--------------------+--------------------+\n",
      "only showing top 3 rows\n",
      "\n"
     ]
    }
   ],
   "source": [
    "stopWordsRemover = StopWordsRemover(inputCol = 'token', outputCol = 'nostopwrd')\n",
    "\n",
    "reviews_by_business_token_nostopwrd_df = stopWordsRemover.transform(reviews_by_business_token_df)\n",
    "reviews_by_business_token_nostopwrd_df.show(3)"
   ]
  },
  {
   "cell_type": "code",
   "execution_count": 28,
   "metadata": {
    "collapsed": false
   },
   "outputs": [],
   "source": [
    "word2Vec = Word2Vec(vectorSize = 100, minCount = 5, inputCol = 'nostopwrd', outputCol = 'word_vec')\n",
    "word2Vec_model = word2Vec.fit(reviews_by_business_token_nostopwrd_df)\n"
   ]
  },
  {
   "cell_type": "code",
   "execution_count": 29,
   "metadata": {
    "collapsed": false
   },
   "outputs": [
    {
     "name": "stdout",
     "output_type": "stream",
     "text": [
      "+--------------------+--------------------+--------------------+--------------------+--------------------+\n",
      "|         business_id|                text|               token|           nostopwrd|            word_vec|\n",
      "+--------------------+--------------------+--------------------+--------------------+--------------------+\n",
      "|bfR-vJvrjdOJaWsXG...|Attention allergy...|[attention, aller...|[attention, aller...|[-0.0949216104917...|\n",
      "|Dl2vgi5W_nbe-A97D...|I don't understan...|[i, don, t, under...|[understand, prev...|[-0.0657136221337...|\n",
      "|65ZGMedBm7TBpWv6f...|Food here is alwa...|[food, here, is, ...|[food, always, fr...|[-0.0036732712861...|\n",
      "+--------------------+--------------------+--------------------+--------------------+--------------------+\n",
      "only showing top 3 rows\n",
      "\n",
      "+--------------------+\n",
      "|            word_vec|\n",
      "+--------------------+\n",
      "|[-0.0949216104917...|\n",
      "+--------------------+\n",
      "only showing top 1 row\n",
      "\n"
     ]
    }
   ],
   "source": [
    "reviews_by_business_vec_df = word2Vec_model.transform(reviews_by_business_token_nostopwrd_df)\n",
    "\n",
    "reviews_by_business_vec_df.show(3)\n",
    "\n",
    "reviews_by_business_vec_df.select('word_vec').show(1, truncate = True)"
   ]
  },
  {
   "cell_type": "code",
   "execution_count": 30,
   "metadata": {
    "collapsed": false
   },
   "outputs": [
    {
     "name": "stdout",
     "output_type": "stream",
     "text": [
      "+-------+------------------+\n",
      "|   word|        similarity|\n",
      "+-------+------------------+\n",
      "| decent|0.7664605379104614|\n",
      "|  great|0.6792967319488525|\n",
      "|  tasty| 0.577859103679657|\n",
      "|  solid|0.5670980215072632|\n",
      "|amazing|0.5537719130516052|\n",
      "+-------+------------------+\n",
      "\n"
     ]
    }
   ],
   "source": [
    "word2Vec_model.findSynonyms(\"good\", 5).show()"
   ]
  },
  {
   "cell_type": "code",
   "execution_count": 31,
   "metadata": {
    "collapsed": true
   },
   "outputs": [],
   "source": [
    "word2Vec_model.write().overwrite().save('/home/osboxes/yelp-data/word2Vec')"
   ]
  },
  {
   "cell_type": "code",
   "execution_count": 32,
   "metadata": {
    "collapsed": false
   },
   "outputs": [],
   "source": [
    "w2vw = word2Vec_model.load('/home/osboxes/yelp-data/word2Vec')"
   ]
  },
  {
   "cell_type": "code",
   "execution_count": 33,
   "metadata": {
    "collapsed": false
   },
   "outputs": [
    {
     "name": "stdout",
     "output_type": "stream",
     "text": [
      "+-------+------------------+\n",
      "|   word|        similarity|\n",
      "+-------+------------------+\n",
      "| decent|0.7664605379104614|\n",
      "|  great|0.6792967319488525|\n",
      "|  tasty| 0.577859103679657|\n",
      "|  solid|0.5670980215072632|\n",
      "|amazing|0.5537719130516052|\n",
      "+-------+------------------+\n",
      "\n"
     ]
    }
   ],
   "source": [
    "\n",
    "w2vw.findSynonyms(\"good\", 5).show()"
   ]
  },
  {
   "cell_type": "code",
   "execution_count": 34,
   "metadata": {
    "collapsed": false
   },
   "outputs": [
    {
     "name": "stdout",
     "output_type": "stream",
     "text": [
      "+----------+------------------+\n",
      "|      word|        similarity|\n",
      "+----------+------------------+\n",
      "|     asian|0.8069467544555664|\n",
      "|vietnamese|0.7198611497879028|\n",
      "|  northern|0.7195839881896973|\n",
      "|     hakka|0.7080489993095398|\n",
      "|    korean|0.7080056667327881|\n",
      "+----------+------------------+\n",
      "\n"
     ]
    }
   ],
   "source": [
    "w2vw.findSynonyms(\"chinese\", 5).show() "
   ]
  },
  {
   "cell_type": "code",
   "execution_count": 35,
   "metadata": {
    "collapsed": false
   },
   "outputs": [
    {
     "name": "stdout",
     "output_type": "stream",
     "text": [
      "+------------+------------------+\n",
      "|        word|        similarity|\n",
      "+------------+------------------+\n",
      "|     burgers|0.8352599143981934|\n",
      "|   hamburger|0.7846404910087585|\n",
      "|       patty|0.7472882270812988|\n",
      "|      priest|0.7470744252204895|\n",
      "|cheeseburger|0.7308202981948853|\n",
      "+------------+------------------+\n",
      "\n"
     ]
    }
   ],
   "source": [
    "w2vw.findSynonyms(\"burger\", 5).show()"
   ]
  },
  {
   "cell_type": "code",
   "execution_count": 36,
   "metadata": {
    "collapsed": true
   },
   "outputs": [],
   "source": [
    "def CosineSim(vec1, vec2): \n",
    "    return np.dot(vec1, vec2) / np.sqrt(np.dot(vec1, vec1)) / np.sqrt(np.dot(vec2, vec2)) "
   ]
  },
  {
   "cell_type": "code",
   "execution_count": 37,
   "metadata": {
    "collapsed": true
   },
   "outputs": [],
   "source": [
    "all_vecs = reviews_by_business_vec_df.select('business_id', 'word_vec').rdd.map(lambda x: (x[0], x[1])).collect()"
   ]
  },
  {
   "cell_type": "code",
   "execution_count": 38,
   "metadata": {
    "collapsed": false
   },
   "outputs": [
    {
     "data": {
      "text/plain": [
       "('bfR-vJvrjdOJaWsXGJgzPA',\n",
       " DenseVector([-0.0949, -0.0314, 0.0272, 0.0091, 0.056, -0.0003, 0.0116, 0.02, 0.0641, 0.0029, -0.0145, -0.0746, 0.0152, 0.0599, 0.0564, 0.0002, 0.0737, -0.0414, 0.0264, 0.0784, 0.0352, 0.0016, -0.0452, -0.0517, 0.0131, 0.0295, -0.0073, -0.0313, -0.0145, -0.0208, 0.0482, -0.0188, -0.0831, -0.124, -0.0201, 0.0666, -0.0406, 0.0484, -0.0362, -0.0267, -0.082, -0.0519, -0.011, 0.0132, 0.0178, 0.0408, -0.0015, -0.0176, 0.0003, -0.0212, 0.0747, 0.0396, -0.0601, -0.0949, 0.0083, -0.0494, -0.046, 0.0526, -0.0364, -0.0131, 0.0674, -0.0098, 0.0806, 0.0081, -0.0304, 0.0295, -0.0349, -0.0166, 0.0589, -0.0113, -0.0102, 0.0147, 0.1199, -0.0484, 0.0634, -0.0595, 0.0359, -0.0389, 0.0082, 0.0057, 0.0475, -0.0751, -0.03, -0.0067, 0.0143, -0.013, 0.0334, -0.0109, -0.0418, 0.0716, -0.0147, 0.061, 0.0054, -0.0138, -0.0156, -0.0109, -0.0053, 0.0462, -0.0234, 0.092]))"
      ]
     },
     "execution_count": 38,
     "metadata": {},
     "output_type": "execute_result"
    }
   ],
   "source": [
    "all_vecs[0]"
   ]
  },
  {
   "cell_type": "code",
   "execution_count": 39,
   "metadata": {
    "collapsed": false
   },
   "outputs": [
    {
     "data": {
      "text/plain": [
       "DenseVector([-0.0949, -0.0314, 0.0272, 0.0091, 0.056, -0.0003, 0.0116, 0.02, 0.0641, 0.0029, -0.0145, -0.0746, 0.0152, 0.0599, 0.0564, 0.0002, 0.0737, -0.0414, 0.0264, 0.0784, 0.0352, 0.0016, -0.0452, -0.0517, 0.0131, 0.0295, -0.0073, -0.0313, -0.0145, -0.0208, 0.0482, -0.0188, -0.0831, -0.124, -0.0201, 0.0666, -0.0406, 0.0484, -0.0362, -0.0267, -0.082, -0.0519, -0.011, 0.0132, 0.0178, 0.0408, -0.0015, -0.0176, 0.0003, -0.0212, 0.0747, 0.0396, -0.0601, -0.0949, 0.0083, -0.0494, -0.046, 0.0526, -0.0364, -0.0131, 0.0674, -0.0098, 0.0806, 0.0081, -0.0304, 0.0295, -0.0349, -0.0166, 0.0589, -0.0113, -0.0102, 0.0147, 0.1199, -0.0484, 0.0634, -0.0595, 0.0359, -0.0389, 0.0082, 0.0057, 0.0475, -0.0751, -0.03, -0.0067, 0.0143, -0.013, 0.0334, -0.0109, -0.0418, 0.0716, -0.0147, 0.061, 0.0054, -0.0138, -0.0156, -0.0109, -0.0053, 0.0462, -0.0234, 0.092])"
      ]
     },
     "execution_count": 39,
     "metadata": {},
     "output_type": "execute_result"
    }
   ],
   "source": [
    "all_vecs[0][1]"
   ]
  },
  {
   "cell_type": "code",
   "execution_count": 40,
   "metadata": {
    "collapsed": false
   },
   "outputs": [
    {
     "name": "stdout",
     "output_type": "stream",
     "text": [
      "Buiness details:\n",
      "+----------------------+----------------------+------------------------------------------------------------------------------+\n",
      "|business_id           |name                  |categories                                                                    |\n",
      "+----------------------+----------------------+------------------------------------------------------------------------------+\n",
      "|RtUvSWO_UZ8V3Wpj0n077w|KINKA IZAKAYA ORIGINAL|[Pubs, Japanese, Restaurants, Bars, Nightlife, Tapas Bars, Tapas/Small Plates]|\n",
      "+----------------------+----------------------+------------------------------------------------------------------------------+\n",
      "\n",
      "Top 10 similar businesses:\n"
     ]
    },
    {
     "data": {
      "text/html": [
       "<div>\n",
       "<table border=\"1\" class=\"dataframe\">\n",
       "  <thead>\n",
       "    <tr style=\"text-align: right;\">\n",
       "      <th></th>\n",
       "      <th>business_id</th>\n",
       "      <th>similarity_score</th>\n",
       "      <th>name</th>\n",
       "      <th>categories</th>\n",
       "      <th>stars</th>\n",
       "      <th>review_count</th>\n",
       "      <th>latitude</th>\n",
       "      <th>latitude</th>\n",
       "    </tr>\n",
       "  </thead>\n",
       "  <tbody>\n",
       "    <tr>\n",
       "      <th>0</th>\n",
       "      <td>CN5nuUQod0f8g3oh99qq0w</td>\n",
       "      <td>0.993978</td>\n",
       "      <td>KINKA IZAKAYA BLOOR</td>\n",
       "      <td>[Nightlife, Restaurants, Pubs, Japanese, Tapas...</td>\n",
       "      <td>4.0</td>\n",
       "      <td>351</td>\n",
       "      <td>43.665157</td>\n",
       "      <td>43.665157</td>\n",
       "    </tr>\n",
       "    <tr>\n",
       "      <th>1</th>\n",
       "      <td>CfxVkwEJk1NAqgqMSesLzA</td>\n",
       "      <td>0.980039</td>\n",
       "      <td>KINKA IZAKAYA NORTH YORK</td>\n",
       "      <td>[Bars, Nightlife, Restaurants, Tapas/Small Pla...</td>\n",
       "      <td>3.5</td>\n",
       "      <td>209</td>\n",
       "      <td>43.760190</td>\n",
       "      <td>43.760190</td>\n",
       "    </tr>\n",
       "    <tr>\n",
       "      <th>2</th>\n",
       "      <td>wpQsmMvdhefqIlxvRt_Jbg</td>\n",
       "      <td>0.974047</td>\n",
       "      <td>DonDon Izakaya</td>\n",
       "      <td>[Restaurants, Japanese, Tapas/Small Plates, Ta...</td>\n",
       "      <td>3.0</td>\n",
       "      <td>225</td>\n",
       "      <td>43.655741</td>\n",
       "      <td>43.655741</td>\n",
       "    </tr>\n",
       "    <tr>\n",
       "      <th>3</th>\n",
       "      <td>L82O1ZFFQfjJxF0_PYWPnA</td>\n",
       "      <td>0.970267</td>\n",
       "      <td>Guu Izakaya Toronto</td>\n",
       "      <td>[Tapas Bars, Izakaya, Japanese, Restaurants]</td>\n",
       "      <td>4.0</td>\n",
       "      <td>50</td>\n",
       "      <td>43.641867</td>\n",
       "      <td>43.641867</td>\n",
       "    </tr>\n",
       "    <tr>\n",
       "      <th>4</th>\n",
       "      <td>sYKB4nITCLLFcCZPn3QECQ</td>\n",
       "      <td>0.961989</td>\n",
       "      <td>Teppan Kenta</td>\n",
       "      <td>[Japanese, Restaurants, Food]</td>\n",
       "      <td>3.5</td>\n",
       "      <td>58</td>\n",
       "      <td>43.665279</td>\n",
       "      <td>43.665279</td>\n",
       "    </tr>\n",
       "    <tr>\n",
       "      <th>5</th>\n",
       "      <td>g6GXqg-QdDiQGLYMVqNOUw</td>\n",
       "      <td>0.948832</td>\n",
       "      <td>Hapa Izakaya</td>\n",
       "      <td>[Japanese, Restaurants]</td>\n",
       "      <td>3.5</td>\n",
       "      <td>148</td>\n",
       "      <td>43.655264</td>\n",
       "      <td>43.655264</td>\n",
       "    </tr>\n",
       "    <tr>\n",
       "      <th>6</th>\n",
       "      <td>478TIlfHXfT3wvww54QsPg</td>\n",
       "      <td>0.942653</td>\n",
       "      <td>Ki Modern Japanese + Bar</td>\n",
       "      <td>[Sushi Bars, Restaurants, Japanese]</td>\n",
       "      <td>3.5</td>\n",
       "      <td>169</td>\n",
       "      <td>43.647208</td>\n",
       "      <td>43.647208</td>\n",
       "    </tr>\n",
       "    <tr>\n",
       "      <th>7</th>\n",
       "      <td>SjgeuBlgKER9yegpoxT99w</td>\n",
       "      <td>0.941614</td>\n",
       "      <td>Nomé Izakaya</td>\n",
       "      <td>[Bars, Nightlife, Restaurants, Lounges, Tapas ...</td>\n",
       "      <td>4.0</td>\n",
       "      <td>374</td>\n",
       "      <td>43.762650</td>\n",
       "      <td>43.762650</td>\n",
       "    </tr>\n",
       "    <tr>\n",
       "      <th>8</th>\n",
       "      <td>KxcQs2Lkm3FJiltVWXOz_Q</td>\n",
       "      <td>0.938435</td>\n",
       "      <td>Hashi Izakaya</td>\n",
       "      <td>[Tapas Bars, Nightlife, Japanese, Restaurants,...</td>\n",
       "      <td>3.5</td>\n",
       "      <td>37</td>\n",
       "      <td>43.779256</td>\n",
       "      <td>43.779256</td>\n",
       "    </tr>\n",
       "    <tr>\n",
       "      <th>9</th>\n",
       "      <td>8J0NuWmoFfSGe5LuaiMfpg</td>\n",
       "      <td>0.937600</td>\n",
       "      <td>Sake Bar Kushi</td>\n",
       "      <td>[Sushi Bars, Japanese, Restaurants, Tapas Bars]</td>\n",
       "      <td>4.0</td>\n",
       "      <td>67</td>\n",
       "      <td>43.704833</td>\n",
       "      <td>43.704833</td>\n",
       "    </tr>\n",
       "  </tbody>\n",
       "</table>\n",
       "</div>"
      ],
      "text/plain": [
       "              business_id  similarity_score                      name  \\\n",
       "0  CN5nuUQod0f8g3oh99qq0w          0.993978       KINKA IZAKAYA BLOOR   \n",
       "1  CfxVkwEJk1NAqgqMSesLzA          0.980039  KINKA IZAKAYA NORTH YORK   \n",
       "2  wpQsmMvdhefqIlxvRt_Jbg          0.974047            DonDon Izakaya   \n",
       "3  L82O1ZFFQfjJxF0_PYWPnA          0.970267       Guu Izakaya Toronto   \n",
       "4  sYKB4nITCLLFcCZPn3QECQ          0.961989              Teppan Kenta   \n",
       "5  g6GXqg-QdDiQGLYMVqNOUw          0.948832              Hapa Izakaya   \n",
       "6  478TIlfHXfT3wvww54QsPg          0.942653  Ki Modern Japanese + Bar   \n",
       "7  SjgeuBlgKER9yegpoxT99w          0.941614              Nomé Izakaya   \n",
       "8  KxcQs2Lkm3FJiltVWXOz_Q          0.938435             Hashi Izakaya   \n",
       "9  8J0NuWmoFfSGe5LuaiMfpg          0.937600            Sake Bar Kushi   \n",
       "\n",
       "                                          categories  stars  review_count  \\\n",
       "0  [Nightlife, Restaurants, Pubs, Japanese, Tapas...    4.0           351   \n",
       "1  [Bars, Nightlife, Restaurants, Tapas/Small Pla...    3.5           209   \n",
       "2  [Restaurants, Japanese, Tapas/Small Plates, Ta...    3.0           225   \n",
       "3       [Tapas Bars, Izakaya, Japanese, Restaurants]    4.0            50   \n",
       "4                      [Japanese, Restaurants, Food]    3.5            58   \n",
       "5                            [Japanese, Restaurants]    3.5           148   \n",
       "6                [Sushi Bars, Restaurants, Japanese]    3.5           169   \n",
       "7  [Bars, Nightlife, Restaurants, Lounges, Tapas ...    4.0           374   \n",
       "8  [Tapas Bars, Nightlife, Japanese, Restaurants,...    3.5            37   \n",
       "9    [Sushi Bars, Japanese, Restaurants, Tapas Bars]    4.0            67   \n",
       "\n",
       "    latitude   latitude  \n",
       "0  43.665157  43.665157  \n",
       "1  43.760190  43.760190  \n",
       "2  43.655741  43.655741  \n",
       "3  43.641867  43.641867  \n",
       "4  43.665279  43.665279  \n",
       "5  43.655264  43.655264  \n",
       "6  43.647208  43.647208  \n",
       "7  43.762650  43.762650  \n",
       "8  43.779256  43.779256  \n",
       "9  43.704833  43.704833  "
      ]
     },
     "execution_count": 40,
     "metadata": {},
     "output_type": "execute_result"
    }
   ],
   "source": [
    "# test similarity by Business\n",
    "\n",
    "b_id = 'RtUvSWO_UZ8V3Wpj0n077w'\n",
    "\n",
    "bus_details_df = business_df.filter(col(\"business_id\") == b_id) \\\n",
    "                            .select(['business_id', 'name', 'categories'])\n",
    "print('Buiness details:')           \n",
    "bus_details_df.show(truncate = False) \n",
    "\n",
    "input_vec = reviews_by_business_vec_df.select('word_vec')\\\n",
    "            .filter(reviews_by_business_vec_df['business_id'] == b_id)\\\n",
    "            .collect()[0][0]\n",
    "        \n",
    "#all_vecs = reviews_by_business_vec_df.select('business_id', 'word_vec').rdd.map(lambda x: (x[0], x[1])).collect()\n",
    "\n",
    "similar_business_rdd = sc.parallelize((i[0], float(CosineSim(input_vec, i[1]))) for i in all_vecs)\n",
    "\n",
    "similar_business_df = spark.createDataFrame(similar_business_rdd).\\\n",
    "    withColumnRenamed('_1', 'business_id').\\\n",
    "    withColumnRenamed('_2', 'similarity_score').\\\n",
    "    orderBy(\"similarity_score\", ascending = False)\n",
    "\n",
    "a = similar_business_df.filter(col(\"business_id\") != b_id).limit(10).alias(\"a\")\n",
    "\n",
    "b = business_df.alias(\"b\")\n",
    "j = a.join(b, col(\"a.business_id\") == col(\"b.business_id\"), 'inner')\\\n",
    "     .select([col('a.'+xx) for xx in a.columns] + [col('b.name'),col('b.categories'),\n",
    "                                                   col('b.stars'),col('b.review_count'),\n",
    "                                                   col('b.latitude'),col('b.latitude')])\n",
    "print('Top 10 similar businesses:')\n",
    "j.toPandas()"
   ]
  },
  {
   "cell_type": "code",
   "execution_count": 41,
   "metadata": {
    "collapsed": true
   },
   "outputs": [],
   "source": [
    "def getBusinessDetails(in_bus):\n",
    "    \n",
    "    a = in_bus.alias(\"a\")\n",
    "    b = business_df.alias(\"b\")\n",
    "    \n",
    "    return a.join(b, col(\"a.business_id\") == col(\"b.business_id\"), 'inner') \\\n",
    "             .select([col('a.'+xx) for xx in a.columns] + [col('b.name'),col('b.categories'),\n",
    "                                                           col('b.stars'),col('b.review_count'),\n",
    "                                                           col('b.latitude'),col('b.latitude')])\n",
    "    "
   ]
  },
  {
   "cell_type": "code",
   "execution_count": 42,
   "metadata": {
    "collapsed": true
   },
   "outputs": [],
   "source": [
    "def getKeyWordsRecoms(key_words, sim_bus_count):\n",
    "    \n",
    "    print('Businesses similar to key words: \"' + key_words + '\"')\n",
    "    \n",
    "    input_words_df = sc.parallelize([(0, key_words)]).toDF(['business_id', 'key_words'])\n",
    "\n",
    "    regexToken = RegexTokenizer(gaps = False, pattern = '\\w+', inputCol = 'key_words', outputCol = 'token')\n",
    "    stopWrdRem = StopWordsRemover(inputCol = 'token', outputCol = 'nostopwrd')\n",
    "\n",
    "\n",
    "    # Build the pipeline\n",
    "    pipeline = Pipeline(stages=[regexToken, stopWrdRem])\n",
    "\n",
    "\n",
    "    mdl = pipeline.fit(input_words_df)\n",
    "    input_words_token_nostopwrd_df = mdl.transform(input_words_df)\n",
    "\n",
    "    input_vec_df = word2Vec_model.transform(input_words_token_nostopwrd_df)\n",
    "\n",
    "    input_key_words_vec = input_vec_df.select('word_vec').collect()[0][0]\n",
    "\n",
    "    #all_vecs = reviews_by_business_vec_df.select('business_id', 'word_vec').rdd.map(lambda x: (x[0], x[1])).collect()\n",
    "\n",
    "    similar_business_by_key_word_rdd = sc.parallelize((i[0], float(CosineSim(input_key_words_vec, i[1]))) \\\n",
    "                                                                                      for i in all_vecs)\n",
    "\n",
    "    similar_business_by_key_word_df = spark.createDataFrame(similar_business_by_key_word_rdd).\\\n",
    "        withColumnRenamed('_1', 'business_id').\\\n",
    "        withColumnRenamed('_2', 'similarity_score').\\\n",
    "        orderBy(\"similarity_score\", ascending = False)\n",
    "\n",
    "    a = similar_business_by_key_word_df.limit(sim_bus_count)\n",
    "    return getBusinessDetails(a)\n"
   ]
  },
  {
   "cell_type": "code",
   "execution_count": 43,
   "metadata": {
    "collapsed": false
   },
   "outputs": [
    {
     "name": "stdout",
     "output_type": "stream",
     "text": [
      "Businesses similar to key words: \"chicken cheese burger\"\n"
     ]
    },
    {
     "data": {
      "text/html": [
       "<div>\n",
       "<table border=\"1\" class=\"dataframe\">\n",
       "  <thead>\n",
       "    <tr style=\"text-align: right;\">\n",
       "      <th></th>\n",
       "      <th>business_id</th>\n",
       "      <th>similarity_score</th>\n",
       "      <th>name</th>\n",
       "      <th>categories</th>\n",
       "      <th>stars</th>\n",
       "      <th>review_count</th>\n",
       "      <th>latitude</th>\n",
       "      <th>latitude</th>\n",
       "    </tr>\n",
       "  </thead>\n",
       "  <tbody>\n",
       "    <tr>\n",
       "      <th>0</th>\n",
       "      <td>37joQpD9m5AIcrW1c8OBnQ</td>\n",
       "      <td>0.706561</td>\n",
       "      <td>Urban Smoke Fusion BBQ Food Truck</td>\n",
       "      <td>[Desserts, Barbeque, Food, Restaurants, Food T...</td>\n",
       "      <td>4.0</td>\n",
       "      <td>8</td>\n",
       "      <td>43.718711</td>\n",
       "      <td>43.718711</td>\n",
       "    </tr>\n",
       "    <tr>\n",
       "      <th>1</th>\n",
       "      <td>3Cu-af4en3uWCrAkkqfiHQ</td>\n",
       "      <td>0.698635</td>\n",
       "      <td>Epic Burgers and Waffles</td>\n",
       "      <td>[Burgers, Food, Restaurants]</td>\n",
       "      <td>2.5</td>\n",
       "      <td>5</td>\n",
       "      <td>43.632351</td>\n",
       "      <td>43.632351</td>\n",
       "    </tr>\n",
       "    <tr>\n",
       "      <th>2</th>\n",
       "      <td>nP87zXxeS-8got7IBvoAuA</td>\n",
       "      <td>0.657255</td>\n",
       "      <td>McCoy Burger Company</td>\n",
       "      <td>[Local Flavor, Sandwiches, Restaurants, Poutin...</td>\n",
       "      <td>4.0</td>\n",
       "      <td>33</td>\n",
       "      <td>43.731511</td>\n",
       "      <td>43.731511</td>\n",
       "    </tr>\n",
       "    <tr>\n",
       "      <th>3</th>\n",
       "      <td>DiCMYxT69I22-1nfsvYAJQ</td>\n",
       "      <td>0.651565</td>\n",
       "      <td>Gourmet Burger Co</td>\n",
       "      <td>[Burgers, Restaurants]</td>\n",
       "      <td>3.5</td>\n",
       "      <td>37</td>\n",
       "      <td>43.664683</td>\n",
       "      <td>43.664683</td>\n",
       "    </tr>\n",
       "    <tr>\n",
       "      <th>4</th>\n",
       "      <td>UN0UwUh7jaeX6Jg3lZImCg</td>\n",
       "      <td>0.638442</td>\n",
       "      <td>Holy Chuck</td>\n",
       "      <td>[Food, Restaurants, Desserts, Poutineries, Bur...</td>\n",
       "      <td>3.0</td>\n",
       "      <td>43</td>\n",
       "      <td>43.665211</td>\n",
       "      <td>43.665211</td>\n",
       "    </tr>\n",
       "    <tr>\n",
       "      <th>5</th>\n",
       "      <td>ZzF5098L4xg-0COjng2LVA</td>\n",
       "      <td>0.638042</td>\n",
       "      <td>Burgatory</td>\n",
       "      <td>[Pubs, Burgers, Food Trucks, Nightlife, Bars, ...</td>\n",
       "      <td>3.0</td>\n",
       "      <td>9</td>\n",
       "      <td>43.655055</td>\n",
       "      <td>43.655055</td>\n",
       "    </tr>\n",
       "    <tr>\n",
       "      <th>6</th>\n",
       "      <td>PkeaeQS8aJTeS8PS_Hl_-g</td>\n",
       "      <td>0.637751</td>\n",
       "      <td>Steak and Cheese Factory</td>\n",
       "      <td>[Sandwiches, Cheesesteaks, Restaurants]</td>\n",
       "      <td>3.0</td>\n",
       "      <td>3</td>\n",
       "      <td>43.708213</td>\n",
       "      <td>43.708213</td>\n",
       "    </tr>\n",
       "    <tr>\n",
       "      <th>7</th>\n",
       "      <td>ky9RbwLtChekSrqcYR39kw</td>\n",
       "      <td>0.635411</td>\n",
       "      <td>Big Smoke Burger</td>\n",
       "      <td>[Burgers, Poutineries, Restaurants]</td>\n",
       "      <td>3.0</td>\n",
       "      <td>6</td>\n",
       "      <td>43.611289</td>\n",
       "      <td>43.611289</td>\n",
       "    </tr>\n",
       "    <tr>\n",
       "      <th>8</th>\n",
       "      <td>ycAW6Q5quaCSDX5zwQ3tPg</td>\n",
       "      <td>0.630411</td>\n",
       "      <td>New York Fries</td>\n",
       "      <td>[Canadian (New), Specialty Food, Food, Restaur...</td>\n",
       "      <td>3.5</td>\n",
       "      <td>8</td>\n",
       "      <td>43.776875</td>\n",
       "      <td>43.776875</td>\n",
       "    </tr>\n",
       "    <tr>\n",
       "      <th>9</th>\n",
       "      <td>7UPTUpex3O1Gav3td7GOEw</td>\n",
       "      <td>0.625449</td>\n",
       "      <td>South St Burger Co</td>\n",
       "      <td>[Burgers, Restaurants]</td>\n",
       "      <td>3.0</td>\n",
       "      <td>6</td>\n",
       "      <td>43.736442</td>\n",
       "      <td>43.736442</td>\n",
       "    </tr>\n",
       "  </tbody>\n",
       "</table>\n",
       "</div>"
      ],
      "text/plain": [
       "              business_id  similarity_score  \\\n",
       "0  37joQpD9m5AIcrW1c8OBnQ          0.706561   \n",
       "1  3Cu-af4en3uWCrAkkqfiHQ          0.698635   \n",
       "2  nP87zXxeS-8got7IBvoAuA          0.657255   \n",
       "3  DiCMYxT69I22-1nfsvYAJQ          0.651565   \n",
       "4  UN0UwUh7jaeX6Jg3lZImCg          0.638442   \n",
       "5  ZzF5098L4xg-0COjng2LVA          0.638042   \n",
       "6  PkeaeQS8aJTeS8PS_Hl_-g          0.637751   \n",
       "7  ky9RbwLtChekSrqcYR39kw          0.635411   \n",
       "8  ycAW6Q5quaCSDX5zwQ3tPg          0.630411   \n",
       "9  7UPTUpex3O1Gav3td7GOEw          0.625449   \n",
       "\n",
       "                                name  \\\n",
       "0  Urban Smoke Fusion BBQ Food Truck   \n",
       "1           Epic Burgers and Waffles   \n",
       "2               McCoy Burger Company   \n",
       "3                  Gourmet Burger Co   \n",
       "4                         Holy Chuck   \n",
       "5                          Burgatory   \n",
       "6           Steak and Cheese Factory   \n",
       "7                   Big Smoke Burger   \n",
       "8                     New York Fries   \n",
       "9                 South St Burger Co   \n",
       "\n",
       "                                          categories  stars  review_count  \\\n",
       "0  [Desserts, Barbeque, Food, Restaurants, Food T...    4.0             8   \n",
       "1                       [Burgers, Food, Restaurants]    2.5             5   \n",
       "2  [Local Flavor, Sandwiches, Restaurants, Poutin...    4.0            33   \n",
       "3                             [Burgers, Restaurants]    3.5            37   \n",
       "4  [Food, Restaurants, Desserts, Poutineries, Bur...    3.0            43   \n",
       "5  [Pubs, Burgers, Food Trucks, Nightlife, Bars, ...    3.0             9   \n",
       "6            [Sandwiches, Cheesesteaks, Restaurants]    3.0             3   \n",
       "7                [Burgers, Poutineries, Restaurants]    3.0             6   \n",
       "8  [Canadian (New), Specialty Food, Food, Restaur...    3.5             8   \n",
       "9                             [Burgers, Restaurants]    3.0             6   \n",
       "\n",
       "    latitude   latitude  \n",
       "0  43.718711  43.718711  \n",
       "1  43.632351  43.632351  \n",
       "2  43.731511  43.731511  \n",
       "3  43.664683  43.664683  \n",
       "4  43.665211  43.665211  \n",
       "5  43.655055  43.655055  \n",
       "6  43.708213  43.708213  \n",
       "7  43.611289  43.611289  \n",
       "8  43.776875  43.776875  \n",
       "9  43.736442  43.736442  "
      ]
     },
     "execution_count": 43,
     "metadata": {},
     "output_type": "execute_result"
    }
   ],
   "source": [
    "key_words = 'chicken cheese burger'\n",
    "\n",
    "keywords_recom_df = getKeyWordsRecoms(key_words, 10)\n",
    "keywords_recom_df.toPandas()"
   ]
  },
  {
   "cell_type": "code",
   "execution_count": 48,
   "metadata": {
    "collapsed": false
   },
   "outputs": [
    {
     "data": {
      "text/plain": [
       "<bound method DataFrame.printSchema of DataFrame[business_id: string, similarity_score: double]>"
      ]
     },
     "execution_count": 48,
     "metadata": {},
     "output_type": "execute_result"
    }
   ],
   "source": [
    "similar_business_df.printSchema\n"
   ]
  },
  {
   "cell_type": "code",
   "execution_count": 57,
   "metadata": {
    "collapsed": true
   },
   "outputs": [],
   "source": [
    "def getSimilarBusinesses(b_ids, sim_bus_count):\n",
    "    \n",
    "    schema = StructType([\n",
    "                            StructField(\"business_id\", StringType(), True), \n",
    "                            StructField(\"similarity_score\", IntegerType(), True)\n",
    "                        ])\n",
    "    \n",
    "    similar_businesses_df = spark.createDataFrame([], schema)\n",
    "    \n",
    "    for b_id in b_ids:\n",
    "        \n",
    "        print('Businesses similar to: ' + b_id)\n",
    "        \n",
    "        input_vec = reviews_by_business_vec_df.select('word_vec')\\\n",
    "                    .filter(reviews_by_business_vec_df['business_id'] == b_id)\\\n",
    "                    .collect()[0][0]\n",
    "\n",
    "        #all_vecs = reviews_by_business_vec_df.select('business_id', 'word_vec').rdd.map(lambda x: (x[0], x[1])).collect()\n",
    "\n",
    "        similar_business_rdd = sc.parallelize((i[0], float(CosineSim(input_vec, i[1]))) for i in all_vecs)\n",
    "\n",
    "        similar_business_df = spark.createDataFrame(similar_business_rdd) \\\n",
    "            .withColumnRenamed('_1', 'business_id') \\\n",
    "            .withColumnRenamed('_2', 'similarity_score') \\\n",
    "            .orderBy(\"similarity_score\", ascending = False)\n",
    "            \n",
    "        similar_business_df = similar_business_df.filter(col(\"business_id\") != b_id).limit(10)\n",
    "        similar_business_df.show()\n",
    "        \n",
    "        similar_businesses_df = similar_businesses_df.union(similar_business_df)\n",
    "    \n",
    "    return similar_businesses_df\n",
    "    "
   ]
  },
  {
   "cell_type": "code",
   "execution_count": 58,
   "metadata": {
    "collapsed": true
   },
   "outputs": [],
   "source": [
    "def getContentRecoms(u_id, sim_bus_count=10):\n",
    "    \n",
    "    query = \"\"\"\n",
    "    SELECT distinct business_id FROM reviews  \n",
    "    where stars >= 3.0 \n",
    "    and user_id = \"{}\"\n",
    "    \"\"\".format(u_id)\n",
    "\n",
    "    usr_rev_bus = sqlContext.sql(query)\n",
    "\n",
    "    usr_rev_bus = usr_rev_bus.sample(False, 0.5).limit(5)\n",
    "\n",
    "    usr_rev_bus_det = getBusinessDetails(usr_rev_bus)\n",
    "\n",
    "    print('Businesses previously reviewed by user:')\n",
    "    usr_rev_bus_det.select(['business_id', 'name', 'categories']).show(truncate = False)\n",
    "\n",
    "    bus_list = [i.business_id for i in usr_rev_bus.collect()]\n",
    "\n",
    "    sim_bus_df = getSimilarBusinesses(bus_list, sim_bus_count)\n",
    "\n",
    "    s = sim_bus_df.alias(\"s\")\n",
    "    r = usr_rev_bus.alias(\"r\")\n",
    "    j = s.join(r, col(\"s.business_id\") == col(\"r.business_id\"), 'left_outer') \\\n",
    "         .where(col(\"r.business_id\").isNull()) \\\n",
    "         .select([col('s.business_id'),col('s.similarity_score')])\n",
    "\n",
    "    a = j.orderBy(\"similarity_score\", ascending = False).limit(sim_bus_count)\n",
    "\n",
    "    return getBusinessDetails(a)\n",
    "\n",
    "     "
   ]
  },
  {
   "cell_type": "code",
   "execution_count": 59,
   "metadata": {
    "collapsed": false
   },
   "outputs": [
    {
     "name": "stdout",
     "output_type": "stream",
     "text": [
      "Businesses previously reviewed by user:\n",
      "+----------------------+-----------------------+-----------------------------------+\n",
      "|business_id           |name                   |categories                         |\n",
      "+----------------------+-----------------------+-----------------------------------+\n",
      "|Jo3Cpvf8fpfcAIFG3TagbQ|Pantheon Restaurant    |[Mediterranean, Greek, Restaurants]|\n",
      "|ZumOnWbstgsIE6bJlxw0_Q|Jacobs & Co. Steakhouse|[Restaurants, Steakhouses]         |\n",
      "|JJ8ypBu3b--fy4HA5RB1gg|Morton's The Steakhouse|[Steakhouses, Restaurants]         |\n",
      "+----------------------+-----------------------+-----------------------------------+\n",
      "\n",
      "Businesses similar to: Jo3Cpvf8fpfcAIFG3TagbQ\n",
      "+--------------------+------------------+\n",
      "|         business_id|  similarity_score|\n",
      "+--------------------+------------------+\n",
      "|nDn2h-_c7Xk4UwM0a...|0.9812778665324616|\n",
      "|DuzxF9yWIxYqt4jDK...|0.9714170272798817|\n",
      "|aKESUG6MntqZNvC0D...|0.9694920916328215|\n",
      "|aO94Wsh2VzrgdCXu2...|0.9681354898988823|\n",
      "|bGoGHSWHvhftHMWWx...|0.9671143393712848|\n",
      "|DKZN5IjHEE_BCDCRL...|0.9652434299726295|\n",
      "|v2o2rsEDfXVCtmMGa...| 0.963826430958884|\n",
      "|x6fYvse8sBOZf9y8B...|0.9606496384460464|\n",
      "|6u-x45q0ETB7SQTAA...| 0.959050260897039|\n",
      "|p0CsAuiW9KCW_ySDN...|0.9545930502693004|\n",
      "+--------------------+------------------+\n",
      "\n",
      "Businesses similar to: ZumOnWbstgsIE6bJlxw0_Q\n",
      "+--------------------+------------------+\n",
      "|         business_id|  similarity_score|\n",
      "+--------------------+------------------+\n",
      "|JJ8ypBu3b--fy4HA5...|0.9802752551279837|\n",
      "|Q2ZNaN3p8s_-XXjBW...|0.9787696365006927|\n",
      "|7ODXq--HE7QpzvWwg...|0.9689864919158175|\n",
      "|tzl4KHt6ZAwyUJIEy...| 0.966675756398676|\n",
      "|0BW6h-igJinzbqc-p...|0.9599829968994058|\n",
      "|1pttL4MkpxOL6Mj2a...|0.9570715603950629|\n",
      "|4POPYEONJpkfhWOMx...|0.9559650903757989|\n",
      "|Vf_RHj0f1VViEF6OY...| 0.950554122540527|\n",
      "|9Oc8UhYNarSisYM9S...|0.9490678326630525|\n",
      "|bDtsc7WTwEJZFuvjX...| 0.948615178333736|\n",
      "+--------------------+------------------+\n",
      "\n",
      "Businesses similar to: JJ8ypBu3b--fy4HA5RB1gg\n",
      "+--------------------+------------------+\n",
      "|         business_id|  similarity_score|\n",
      "+--------------------+------------------+\n",
      "|Q2ZNaN3p8s_-XXjBW...|0.9884099206753838|\n",
      "|7ODXq--HE7QpzvWwg...|0.9810364452637719|\n",
      "|ZumOnWbstgsIE6bJl...|0.9802752551279839|\n",
      "|0BW6h-igJinzbqc-p...|0.9754396966553637|\n",
      "|4POPYEONJpkfhWOMx...|0.9730188898642288|\n",
      "|Vf_RHj0f1VViEF6OY...|0.9708742537452414|\n",
      "|tzl4KHt6ZAwyUJIEy...|0.9702687647731078|\n",
      "|9Oc8UhYNarSisYM9S...|0.9609976394441282|\n",
      "|Qzbcq82RJKIcAl0HS...|0.9607572457169152|\n",
      "|R4jhm7FFQw0i1GpO4...|0.9601666062266586|\n",
      "+--------------------+------------------+\n",
      "\n",
      "Businesses recommended to user based on his previously reviewd businesses:\n"
     ]
    },
    {
     "data": {
      "text/html": [
       "<div>\n",
       "<table border=\"1\" class=\"dataframe\">\n",
       "  <thead>\n",
       "    <tr style=\"text-align: right;\">\n",
       "      <th></th>\n",
       "      <th>business_id</th>\n",
       "      <th>similarity_score</th>\n",
       "      <th>name</th>\n",
       "      <th>categories</th>\n",
       "      <th>stars</th>\n",
       "      <th>review_count</th>\n",
       "      <th>latitude</th>\n",
       "      <th>latitude</th>\n",
       "    </tr>\n",
       "  </thead>\n",
       "  <tbody>\n",
       "    <tr>\n",
       "      <th>0</th>\n",
       "      <td>Q2ZNaN3p8s_-XXjBWyY2qA</td>\n",
       "      <td>0.988410</td>\n",
       "      <td>Ruth's Chris Steak House</td>\n",
       "      <td>[Restaurants, Steakhouses, Party &amp; Event Plann...</td>\n",
       "      <td>3.5</td>\n",
       "      <td>172</td>\n",
       "      <td>43.649612</td>\n",
       "      <td>43.649612</td>\n",
       "    </tr>\n",
       "    <tr>\n",
       "      <th>1</th>\n",
       "      <td>nDn2h-_c7Xk4UwM0aiXZlw</td>\n",
       "      <td>0.981278</td>\n",
       "      <td>Mezes</td>\n",
       "      <td>[Mediterranean, Greek, Restaurants]</td>\n",
       "      <td>4.0</td>\n",
       "      <td>145</td>\n",
       "      <td>43.678004</td>\n",
       "      <td>43.678004</td>\n",
       "    </tr>\n",
       "    <tr>\n",
       "      <th>2</th>\n",
       "      <td>7ODXq--HE7QpzvWwgk5rMA</td>\n",
       "      <td>0.981036</td>\n",
       "      <td>Barberian's Steak House</td>\n",
       "      <td>[Steakhouses, Restaurants]</td>\n",
       "      <td>4.0</td>\n",
       "      <td>195</td>\n",
       "      <td>43.657592</td>\n",
       "      <td>43.657592</td>\n",
       "    </tr>\n",
       "    <tr>\n",
       "      <th>3</th>\n",
       "      <td>Q2ZNaN3p8s_-XXjBWyY2qA</td>\n",
       "      <td>0.978770</td>\n",
       "      <td>Ruth's Chris Steak House</td>\n",
       "      <td>[Restaurants, Steakhouses, Party &amp; Event Plann...</td>\n",
       "      <td>3.5</td>\n",
       "      <td>172</td>\n",
       "      <td>43.649612</td>\n",
       "      <td>43.649612</td>\n",
       "    </tr>\n",
       "    <tr>\n",
       "      <th>4</th>\n",
       "      <td>0BW6h-igJinzbqc-prYUaQ</td>\n",
       "      <td>0.975440</td>\n",
       "      <td>Hy's Steakhouse &amp; Cocktail Bar</td>\n",
       "      <td>[Seafood, Nightlife, Bars, Steakhouses, Restau...</td>\n",
       "      <td>3.5</td>\n",
       "      <td>84</td>\n",
       "      <td>43.649731</td>\n",
       "      <td>43.649731</td>\n",
       "    </tr>\n",
       "    <tr>\n",
       "      <th>5</th>\n",
       "      <td>4POPYEONJpkfhWOMx_PyGg</td>\n",
       "      <td>0.973019</td>\n",
       "      <td>Harbour Sixty</td>\n",
       "      <td>[Seafood, Steakhouses, Restaurants]</td>\n",
       "      <td>3.5</td>\n",
       "      <td>170</td>\n",
       "      <td>43.642064</td>\n",
       "      <td>43.642064</td>\n",
       "    </tr>\n",
       "    <tr>\n",
       "      <th>6</th>\n",
       "      <td>DuzxF9yWIxYqt4jDKw_bbA</td>\n",
       "      <td>0.971417</td>\n",
       "      <td>Pan On the Danforth</td>\n",
       "      <td>[Restaurants, Mediterranean, Greek]</td>\n",
       "      <td>3.5</td>\n",
       "      <td>122</td>\n",
       "      <td>43.678359</td>\n",
       "      <td>43.678359</td>\n",
       "    </tr>\n",
       "    <tr>\n",
       "      <th>7</th>\n",
       "      <td>Vf_RHj0f1VViEF6OYnEfUA</td>\n",
       "      <td>0.970874</td>\n",
       "      <td>Quinn's Steakhouse &amp; Irish Bar</td>\n",
       "      <td>[Restaurants, Steakhouses, Irish]</td>\n",
       "      <td>3.5</td>\n",
       "      <td>84</td>\n",
       "      <td>43.651089</td>\n",
       "      <td>43.651089</td>\n",
       "    </tr>\n",
       "    <tr>\n",
       "      <th>8</th>\n",
       "      <td>tzl4KHt6ZAwyUJIEyemrtQ</td>\n",
       "      <td>0.970269</td>\n",
       "      <td>Smith Bros.</td>\n",
       "      <td>[Steakhouses, Restaurants, Nightlife, Bars]</td>\n",
       "      <td>4.0</td>\n",
       "      <td>214</td>\n",
       "      <td>43.728887</td>\n",
       "      <td>43.728887</td>\n",
       "    </tr>\n",
       "    <tr>\n",
       "      <th>9</th>\n",
       "      <td>aKESUG6MntqZNvC0DiFcJg</td>\n",
       "      <td>0.969492</td>\n",
       "      <td>Penelope Restaurant</td>\n",
       "      <td>[Greek, Mediterranean, Restaurants]</td>\n",
       "      <td>3.0</td>\n",
       "      <td>54</td>\n",
       "      <td>43.646655</td>\n",
       "      <td>43.646655</td>\n",
       "    </tr>\n",
       "  </tbody>\n",
       "</table>\n",
       "</div>"
      ],
      "text/plain": [
       "              business_id  similarity_score                            name  \\\n",
       "0  Q2ZNaN3p8s_-XXjBWyY2qA          0.988410        Ruth's Chris Steak House   \n",
       "1  nDn2h-_c7Xk4UwM0aiXZlw          0.981278                           Mezes   \n",
       "2  7ODXq--HE7QpzvWwgk5rMA          0.981036         Barberian's Steak House   \n",
       "3  Q2ZNaN3p8s_-XXjBWyY2qA          0.978770        Ruth's Chris Steak House   \n",
       "4  0BW6h-igJinzbqc-prYUaQ          0.975440  Hy's Steakhouse & Cocktail Bar   \n",
       "5  4POPYEONJpkfhWOMx_PyGg          0.973019                   Harbour Sixty   \n",
       "6  DuzxF9yWIxYqt4jDKw_bbA          0.971417             Pan On the Danforth   \n",
       "7  Vf_RHj0f1VViEF6OYnEfUA          0.970874  Quinn's Steakhouse & Irish Bar   \n",
       "8  tzl4KHt6ZAwyUJIEyemrtQ          0.970269                     Smith Bros.   \n",
       "9  aKESUG6MntqZNvC0DiFcJg          0.969492             Penelope Restaurant   \n",
       "\n",
       "                                          categories  stars  review_count  \\\n",
       "0  [Restaurants, Steakhouses, Party & Event Plann...    3.5           172   \n",
       "1                [Mediterranean, Greek, Restaurants]    4.0           145   \n",
       "2                         [Steakhouses, Restaurants]    4.0           195   \n",
       "3  [Restaurants, Steakhouses, Party & Event Plann...    3.5           172   \n",
       "4  [Seafood, Nightlife, Bars, Steakhouses, Restau...    3.5            84   \n",
       "5                [Seafood, Steakhouses, Restaurants]    3.5           170   \n",
       "6                [Restaurants, Mediterranean, Greek]    3.5           122   \n",
       "7                  [Restaurants, Steakhouses, Irish]    3.5            84   \n",
       "8        [Steakhouses, Restaurants, Nightlife, Bars]    4.0           214   \n",
       "9                [Greek, Mediterranean, Restaurants]    3.0            54   \n",
       "\n",
       "    latitude   latitude  \n",
       "0  43.649612  43.649612  \n",
       "1  43.678004  43.678004  \n",
       "2  43.657592  43.657592  \n",
       "3  43.649612  43.649612  \n",
       "4  43.649731  43.649731  \n",
       "5  43.642064  43.642064  \n",
       "6  43.678359  43.678359  \n",
       "7  43.651089  43.651089  \n",
       "8  43.728887  43.728887  \n",
       "9  43.646655  43.646655  "
      ]
     },
     "execution_count": 59,
     "metadata": {},
     "output_type": "execute_result"
    }
   ],
   "source": [
    "u_id = 'ZWD8UH1T7QXQr0Eq-mcWYg'\n",
    "\n",
    "content_recom_df = getContentRecoms(u_id)\n",
    "\n",
    "print(\"Businesses recommended to user based on his previously reviewd businesses:\")\n",
    "content_recom_df.toPandas()"
   ]
  },
  {
   "cell_type": "code",
   "execution_count": 60,
   "metadata": {
    "collapsed": false
   },
   "outputs": [
    {
     "name": "stdout",
     "output_type": "stream",
     "text": [
      "Businesses previously reviewed by user:\n",
      "+----------------------+----------------------------+-------------------------------------------------------------------------------------------+\n",
      "|business_id           |name                        |categories                                                                                 |\n",
      "+----------------------+----------------------------+-------------------------------------------------------------------------------------------+\n",
      "|F_oPMHJrH42R67xp5eKtQA|Yummy Korean Food Restaurant|[Korean, Restaurants]                                                                      |\n",
      "|JmZj7wzAJ7_4ksjG9WXdqw|Gladstone Hotel             |[Hotels & Travel, Lounges, Restaurants, Bars, Nightlife, Event Planning & Services, Hotels]|\n",
      "|c78Pat78fVUBFPXYeVvbaQ|Odd Seoul                   |[Restaurants, Bars, Korean, Dive Bars, Asian Fusion, Nightlife]                            |\n",
      "|9jYnZymuaW-XpMIS75YxgQ|The Beaver                  |[Canadian (New), Nightlife, Cafes, Bars, Restaurants, Gay Bars, American (New)]            |\n",
      "|_HqZL3gK98-Q4ObAoyM1aw|Rose and Sons Swan          |[Breakfast & Brunch, American (Traditional), Restaurants]                                  |\n",
      "+----------------------+----------------------------+-------------------------------------------------------------------------------------------+\n",
      "\n",
      "Businesses similar to: F_oPMHJrH42R67xp5eKtQA\n",
      "+--------------------+------------------+\n",
      "|         business_id|  similarity_score|\n",
      "+--------------------+------------------+\n",
      "|rO3lZpVSoRMhhd0AE...|0.9866277240703815|\n",
      "|rhyjGfqYlCJoi8Zeu...|0.9855229601464368|\n",
      "|j-Z_HAev26ZftdErM...|0.9815570714877364|\n",
      "|_MA98TVmvVIy-XdI0...|0.9808846663905134|\n",
      "|SNkkuchbVtUzCwyEN...|0.9806368301536131|\n",
      "|X6ZZksefmR_piQj2G...|0.9759062252759181|\n",
      "|uChTCA6MsLAciDRkl...|0.9736427978649329|\n",
      "|ZCrK07xb6w5Vi1vat...|0.9734784075853358|\n",
      "|l5VG7_TWg4JGljx3U...|0.9730182498619699|\n",
      "|NC-i4xLdgVAjnvL8Y...|0.9728746504418039|\n",
      "+--------------------+------------------+\n",
      "\n",
      "Businesses similar to: JmZj7wzAJ7_4ksjG9WXdqw\n",
      "+--------------------+------------------+\n",
      "|         business_id|  similarity_score|\n",
      "+--------------------+------------------+\n",
      "|dc3uoAmNo5STqKV6m...| 0.966685360768615|\n",
      "|lqagldgZR_GSZejz7...|0.9621591376425395|\n",
      "|y-sRypoTK2L6Euozh...|0.9444147303288392|\n",
      "|_niSQeYPBawz3rubX...|0.9424051765715421|\n",
      "|2zzRaxhpouEjGaDh9...|0.9385827913762591|\n",
      "|sGAbBm8eX6DY5R5S2...| 0.937994632458623|\n",
      "|D55S2yK1sheOVQwZy...|0.9365021970692131|\n",
      "|FrJX4ifJsTAXAJJq0...|0.9346501429484315|\n",
      "|m-cg3stOStMAFEV9-...|0.9339164849271379|\n",
      "|l57pPj8XxRxmzsplM...|0.9332306828981816|\n",
      "+--------------------+------------------+\n",
      "\n",
      "Businesses similar to: c78Pat78fVUBFPXYeVvbaQ\n",
      "+--------------------+------------------+\n",
      "|         business_id|  similarity_score|\n",
      "+--------------------+------------------+\n",
      "|Yv4P4qUwd7F-qQ4Y4...|0.9706694278616202|\n",
      "|zC-RnKVTlGEBmzCng...|0.9596639144731247|\n",
      "|FML0YqZ7dLBBC3Sua...|0.9569446555028452|\n",
      "|nWMMI1z73AZOCRMSw...| 0.953638876088924|\n",
      "|mQuDZwxxPe54MY4TT...| 0.952599241647393|\n",
      "|5ISHmxr0ZC_4xYEqg...|0.9519618205616219|\n",
      "|D9bf5U0y_0MnL9wMF...|0.9485633039601908|\n",
      "|3RlylOY452bA8rwli...|0.9445091866788726|\n",
      "|fQwB9Z98YEhkJit7c...|0.9435628883521864|\n",
      "|wpQsmMvdhefqIlxvR...|0.9428134573886832|\n",
      "+--------------------+------------------+\n",
      "\n",
      "Businesses similar to: 9jYnZymuaW-XpMIS75YxgQ\n",
      "+--------------------+------------------+\n",
      "|         business_id|  similarity_score|\n",
      "+--------------------+------------------+\n",
      "|wMr1NZCfOp8rgDe6g...|0.9619371688596854|\n",
      "|v8Y1Cpdya8H_3noy2...|0.9580017478522176|\n",
      "|J9SdJg4aYz9-aRksS...|0.9578283654430186|\n",
      "|WHfgo788tdCywQbgG...|0.9548019343614998|\n",
      "|D4mjIxNRmC7ZTlLFV...| 0.949550230925409|\n",
      "|Eox_Qq74oaFZ-Yjth...|0.9482923966766136|\n",
      "|nu-DHeDtxnOW5vYj9...|0.9471909942675177|\n",
      "|f51YniULra1Fz01jw...|0.9464936311950034|\n",
      "|hITV6BrT2ak7nFHhJ...|0.9463518932743442|\n",
      "|Ow9LZC3YZs9O6OSDa...|0.9460067839659693|\n",
      "+--------------------+------------------+\n",
      "\n",
      "Businesses similar to: _HqZL3gK98-Q4ObAoyM1aw\n",
      "+--------------------+------------------+\n",
      "|         business_id|  similarity_score|\n",
      "+--------------------+------------------+\n",
      "|ShUh_MMkaVp_KXCtN...|0.9764324447048408|\n",
      "|oQylTvXwGIkKFdCjm...|0.9730241196293238|\n",
      "|WnUttoJffplgWaQGR...|0.9724678596599293|\n",
      "|ck-5NFpK8CQsUMD4L...|0.9681863866360555|\n",
      "|TgcjQfl1E9DE-SjDV...|0.9656768845492629|\n",
      "|BxCzy1WOVxOrr_G7V...| 0.963770456544211|\n",
      "|7v91woy8IpLrqXsRv...|0.9636109615420798|\n",
      "|YHubCF0Ua0uC6HC2t...|0.9632141045650342|\n",
      "|mBOIef7a4hONEbSi_...|0.9617300061556339|\n",
      "|aRqxT28Tdz2aDiZ7V...|0.9597628824081963|\n",
      "+--------------------+------------------+\n",
      "\n",
      "Businesses recommended to user based on his previously reviewd businesses:\n"
     ]
    },
    {
     "data": {
      "text/html": [
       "<div>\n",
       "<table border=\"1\" class=\"dataframe\">\n",
       "  <thead>\n",
       "    <tr style=\"text-align: right;\">\n",
       "      <th></th>\n",
       "      <th>business_id</th>\n",
       "      <th>similarity_score</th>\n",
       "      <th>name</th>\n",
       "      <th>categories</th>\n",
       "      <th>stars</th>\n",
       "      <th>review_count</th>\n",
       "      <th>latitude</th>\n",
       "      <th>latitude</th>\n",
       "    </tr>\n",
       "  </thead>\n",
       "  <tbody>\n",
       "    <tr>\n",
       "      <th>0</th>\n",
       "      <td>rO3lZpVSoRMhhd0AEJBjlg</td>\n",
       "      <td>0.986628</td>\n",
       "      <td>Sunrise House</td>\n",
       "      <td>[Restaurants, Korean]</td>\n",
       "      <td>4.0</td>\n",
       "      <td>135</td>\n",
       "      <td>43.664068</td>\n",
       "      <td>43.664068</td>\n",
       "    </tr>\n",
       "    <tr>\n",
       "      <th>1</th>\n",
       "      <td>rhyjGfqYlCJoi8Zeulg6QA</td>\n",
       "      <td>0.985523</td>\n",
       "      <td>Kimchi Korea House</td>\n",
       "      <td>[Korean, Restaurants]</td>\n",
       "      <td>3.5</td>\n",
       "      <td>155</td>\n",
       "      <td>43.655256</td>\n",
       "      <td>43.655256</td>\n",
       "    </tr>\n",
       "    <tr>\n",
       "      <th>2</th>\n",
       "      <td>j-Z_HAev26ZftdErMhIBuA</td>\n",
       "      <td>0.981557</td>\n",
       "      <td>Thumbs Up Korean Restaurant</td>\n",
       "      <td>[Restaurants, Korean]</td>\n",
       "      <td>4.0</td>\n",
       "      <td>56</td>\n",
       "      <td>43.664451</td>\n",
       "      <td>43.664451</td>\n",
       "    </tr>\n",
       "    <tr>\n",
       "      <th>3</th>\n",
       "      <td>_MA98TVmvVIy-XdI0poc7w</td>\n",
       "      <td>0.980885</td>\n",
       "      <td>Mom's Korean Food</td>\n",
       "      <td>[Korean, Restaurants]</td>\n",
       "      <td>3.5</td>\n",
       "      <td>62</td>\n",
       "      <td>43.664686</td>\n",
       "      <td>43.664686</td>\n",
       "    </tr>\n",
       "    <tr>\n",
       "      <th>4</th>\n",
       "      <td>SNkkuchbVtUzCwyENcai_g</td>\n",
       "      <td>0.980637</td>\n",
       "      <td>Danji</td>\n",
       "      <td>[Restaurants, Chinese, Japanese, Korean]</td>\n",
       "      <td>3.5</td>\n",
       "      <td>57</td>\n",
       "      <td>43.665300</td>\n",
       "      <td>43.665300</td>\n",
       "    </tr>\n",
       "    <tr>\n",
       "      <th>5</th>\n",
       "      <td>ShUh_MMkaVp_KXCtNjPvXA</td>\n",
       "      <td>0.976432</td>\n",
       "      <td>Universal Grill</td>\n",
       "      <td>[American (Traditional), Canadian (New), Break...</td>\n",
       "      <td>3.5</td>\n",
       "      <td>45</td>\n",
       "      <td>43.670521</td>\n",
       "      <td>43.670521</td>\n",
       "    </tr>\n",
       "    <tr>\n",
       "      <th>6</th>\n",
       "      <td>X6ZZksefmR_piQj2Gbnduw</td>\n",
       "      <td>0.975906</td>\n",
       "      <td>Paldo Gangsan</td>\n",
       "      <td>[Restaurants, Korean]</td>\n",
       "      <td>4.0</td>\n",
       "      <td>47</td>\n",
       "      <td>43.663799</td>\n",
       "      <td>43.663799</td>\n",
       "    </tr>\n",
       "    <tr>\n",
       "      <th>7</th>\n",
       "      <td>uChTCA6MsLAciDRklpO-Fw</td>\n",
       "      <td>0.973643</td>\n",
       "      <td>Makkal Chon</td>\n",
       "      <td>[Greek, Restaurants, Korean]</td>\n",
       "      <td>4.0</td>\n",
       "      <td>210</td>\n",
       "      <td>43.744944</td>\n",
       "      <td>43.744944</td>\n",
       "    </tr>\n",
       "    <tr>\n",
       "      <th>8</th>\n",
       "      <td>ZCrK07xb6w5Vi1vathV0NQ</td>\n",
       "      <td>0.973478</td>\n",
       "      <td>Bapbo Korean Restaurant</td>\n",
       "      <td>[Korean, Japanese, Restaurants]</td>\n",
       "      <td>3.0</td>\n",
       "      <td>86</td>\n",
       "      <td>43.655606</td>\n",
       "      <td>43.655606</td>\n",
       "    </tr>\n",
       "    <tr>\n",
       "      <th>9</th>\n",
       "      <td>oQylTvXwGIkKFdCjmafKVg</td>\n",
       "      <td>0.973024</td>\n",
       "      <td>Fire on the East Side</td>\n",
       "      <td>[Southern, Restaurants, Breakfast &amp; Brunch, Am...</td>\n",
       "      <td>3.5</td>\n",
       "      <td>119</td>\n",
       "      <td>43.666765</td>\n",
       "      <td>43.666765</td>\n",
       "    </tr>\n",
       "  </tbody>\n",
       "</table>\n",
       "</div>"
      ],
      "text/plain": [
       "              business_id  similarity_score                         name  \\\n",
       "0  rO3lZpVSoRMhhd0AEJBjlg          0.986628                Sunrise House   \n",
       "1  rhyjGfqYlCJoi8Zeulg6QA          0.985523           Kimchi Korea House   \n",
       "2  j-Z_HAev26ZftdErMhIBuA          0.981557  Thumbs Up Korean Restaurant   \n",
       "3  _MA98TVmvVIy-XdI0poc7w          0.980885            Mom's Korean Food   \n",
       "4  SNkkuchbVtUzCwyENcai_g          0.980637                        Danji   \n",
       "5  ShUh_MMkaVp_KXCtNjPvXA          0.976432              Universal Grill   \n",
       "6  X6ZZksefmR_piQj2Gbnduw          0.975906                Paldo Gangsan   \n",
       "7  uChTCA6MsLAciDRklpO-Fw          0.973643                  Makkal Chon   \n",
       "8  ZCrK07xb6w5Vi1vathV0NQ          0.973478      Bapbo Korean Restaurant   \n",
       "9  oQylTvXwGIkKFdCjmafKVg          0.973024        Fire on the East Side   \n",
       "\n",
       "                                          categories  stars  review_count  \\\n",
       "0                              [Restaurants, Korean]    4.0           135   \n",
       "1                              [Korean, Restaurants]    3.5           155   \n",
       "2                              [Restaurants, Korean]    4.0            56   \n",
       "3                              [Korean, Restaurants]    3.5            62   \n",
       "4           [Restaurants, Chinese, Japanese, Korean]    3.5            57   \n",
       "5  [American (Traditional), Canadian (New), Break...    3.5            45   \n",
       "6                              [Restaurants, Korean]    4.0            47   \n",
       "7                       [Greek, Restaurants, Korean]    4.0           210   \n",
       "8                    [Korean, Japanese, Restaurants]    3.0            86   \n",
       "9  [Southern, Restaurants, Breakfast & Brunch, Am...    3.5           119   \n",
       "\n",
       "    latitude   latitude  \n",
       "0  43.664068  43.664068  \n",
       "1  43.655256  43.655256  \n",
       "2  43.664451  43.664451  \n",
       "3  43.664686  43.664686  \n",
       "4  43.665300  43.665300  \n",
       "5  43.670521  43.670521  \n",
       "6  43.663799  43.663799  \n",
       "7  43.744944  43.744944  \n",
       "8  43.655606  43.655606  \n",
       "9  43.666765  43.666765  "
      ]
     },
     "execution_count": 60,
     "metadata": {},
     "output_type": "execute_result"
    }
   ],
   "source": [
    "u_id = 'Wc5L6iuvSNF5WGBlqIO8nw'\n",
    "\n",
    "content_recom_df = getContentRecoms(u_id)\n",
    "\n",
    "print(\"Businesses recommended to user based on his previously reviewd businesses:\")\n",
    "content_recom_df.toPandas()"
   ]
  },
  {
   "cell_type": "code",
   "execution_count": null,
   "metadata": {
    "collapsed": true
   },
   "outputs": [],
   "source": []
  }
 ],
 "metadata": {
  "anaconda-cloud": {},
  "kernelspec": {
   "display_name": "Python [conda root]",
   "language": "python",
   "name": "conda-root-py"
  },
  "language_info": {
   "codemirror_mode": {
    "name": "ipython",
    "version": 3
   },
   "file_extension": ".py",
   "mimetype": "text/x-python",
   "name": "python",
   "nbconvert_exporter": "python",
   "pygments_lexer": "ipython3",
   "version": "3.5.2"
  }
 },
 "nbformat": 4,
 "nbformat_minor": 1
}
