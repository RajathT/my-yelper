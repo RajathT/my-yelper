{
 "cells": [
  {
   "cell_type": "code",
   "execution_count": 1,
   "metadata": {
    "collapsed": true
   },
   "outputs": [],
   "source": [
    "import numpy as np\n",
    "import pandas as pd\n",
    "\n",
    "from operator import add\n",
    "from pyspark.ml.feature import RegexTokenizer\n",
    "from pyspark.ml.feature import StopWordsRemover\n",
    "from pyspark.ml.feature import Word2Vec, Word2VecModel\n",
    "from pyspark.ml.feature import HashingTF\n",
    "\n",
    "from pyspark.ml import Pipeline\n",
    "\n",
    "from pyspark.sql.functions import *\n",
    "\n",
    "from pyspark.sql.types import *\n",
    "\n",
    "import folium\n",
    "import html"
   ]
  },
  {
   "cell_type": "code",
   "execution_count": 2,
   "metadata": {
    "collapsed": true
   },
   "outputs": [],
   "source": [
    "data_path = '/home/osboxes/yelp-data/dataset/'\n",
    "model_path = '/home/osboxes/yelp-data/'"
   ]
  },
  {
   "cell_type": "code",
   "execution_count": 3,
   "metadata": {
    "collapsed": false
   },
   "outputs": [],
   "source": [
    "business_df = spark.read.parquet(data_path + 'business-small.parquet')"
   ]
  },
  {
   "cell_type": "code",
   "execution_count": 4,
   "metadata": {
    "collapsed": false
   },
   "outputs": [
    {
     "name": "stdout",
     "output_type": "stream",
     "text": [
      "root\n",
      " |-- business_id: string (nullable = true)\n",
      " |-- business_name: string (nullable = true)\n",
      " |-- neighborhood: string (nullable = true)\n",
      " |-- address: string (nullable = true)\n",
      " |-- city: string (nullable = true)\n",
      " |-- state: string (nullable = true)\n",
      " |-- postal_code: string (nullable = true)\n",
      " |-- latitude: double (nullable = true)\n",
      " |-- longitude: double (nullable = true)\n",
      " |-- stars: double (nullable = true)\n",
      " |-- review_count: long (nullable = true)\n",
      " |-- categories: array (nullable = true)\n",
      " |    |-- element: string (containsNull = true)\n",
      " |-- businessId: long (nullable = true)\n",
      "\n"
     ]
    }
   ],
   "source": [
    "business_df.printSchema()"
   ]
  },
  {
   "cell_type": "code",
   "execution_count": 8,
   "metadata": {
    "collapsed": false
   },
   "outputs": [],
   "source": [
    "business_df.createOrReplaceTempView(\"businesses\")"
   ]
  },
  {
   "cell_type": "code",
   "execution_count": 9,
   "metadata": {
    "collapsed": false
   },
   "outputs": [
    {
     "name": "stdout",
     "output_type": "stream",
     "text": [
      "root\n",
      " |-- user_id: string (nullable = true)\n",
      " |-- name: string (nullable = true)\n",
      " |-- review_count: long (nullable = true)\n",
      " |-- yelping_since: string (nullable = true)\n",
      " |-- useful: long (nullable = true)\n",
      " |-- funny: long (nullable = true)\n",
      " |-- cool: long (nullable = true)\n",
      " |-- fans: long (nullable = true)\n",
      " |-- average_stars: double (nullable = true)\n",
      " |-- $9: long (nullable = true)\n",
      "\n"
     ]
    }
   ],
   "source": [
    "user_df = spark.read.parquet(data_path + 'user-small.parquet')\n",
    "user_df.printSchema()"
   ]
  },
  {
   "cell_type": "code",
   "execution_count": 10,
   "metadata": {
    "collapsed": false
   },
   "outputs": [
    {
     "data": {
      "text/plain": [
       "66424"
      ]
     },
     "execution_count": 10,
     "metadata": {},
     "output_type": "execute_result"
    }
   ],
   "source": [
    "user_df.count()"
   ]
  },
  {
   "cell_type": "code",
   "execution_count": 13,
   "metadata": {
    "collapsed": true
   },
   "outputs": [],
   "source": [
    "user_df = user_df.withColumnRenamed('name', 'user_name')"
   ]
  },
  {
   "cell_type": "code",
   "execution_count": 14,
   "metadata": {
    "collapsed": true
   },
   "outputs": [],
   "source": [
    "user_df.createOrReplaceTempView(\"users\")"
   ]
  },
  {
   "cell_type": "code",
   "execution_count": 15,
   "metadata": {
    "collapsed": false
   },
   "outputs": [
    {
     "data": {
      "text/html": [
       "<div>\n",
       "<table border=\"1\" class=\"dataframe\">\n",
       "  <thead>\n",
       "    <tr style=\"text-align: right;\">\n",
       "      <th></th>\n",
       "      <th>user_id</th>\n",
       "      <th>user_name</th>\n",
       "      <th>review_count</th>\n",
       "      <th>yelping_since</th>\n",
       "      <th>useful</th>\n",
       "      <th>funny</th>\n",
       "      <th>cool</th>\n",
       "      <th>fans</th>\n",
       "      <th>average_stars</th>\n",
       "      <th>$9</th>\n",
       "    </tr>\n",
       "  </thead>\n",
       "  <tbody>\n",
       "    <tr>\n",
       "      <th>0</th>\n",
       "      <td>--7gjElmOrthETJ8XqzMBw</td>\n",
       "      <td>Elizabeth</td>\n",
       "      <td>17</td>\n",
       "      <td>2014-11-16</td>\n",
       "      <td>14</td>\n",
       "      <td>0</td>\n",
       "      <td>0</td>\n",
       "      <td>0</td>\n",
       "      <td>3.88</td>\n",
       "      <td>1</td>\n",
       "    </tr>\n",
       "    <tr>\n",
       "      <th>1</th>\n",
       "      <td>--Br-QsbO9ad5GbZxVGxaw</td>\n",
       "      <td>Melanie</td>\n",
       "      <td>12</td>\n",
       "      <td>2015-06-10</td>\n",
       "      <td>0</td>\n",
       "      <td>0</td>\n",
       "      <td>0</td>\n",
       "      <td>0</td>\n",
       "      <td>3.25</td>\n",
       "      <td>2</td>\n",
       "    </tr>\n",
       "    <tr>\n",
       "      <th>2</th>\n",
       "      <td>--BumyUHiO_7YsHurb9Hkw</td>\n",
       "      <td>Sapna</td>\n",
       "      <td>38</td>\n",
       "      <td>2017-01-13</td>\n",
       "      <td>0</td>\n",
       "      <td>0</td>\n",
       "      <td>0</td>\n",
       "      <td>1</td>\n",
       "      <td>3.87</td>\n",
       "      <td>3</td>\n",
       "    </tr>\n",
       "    <tr>\n",
       "      <th>3</th>\n",
       "      <td>--DKDJlRHfsvufdGSk_Sdw</td>\n",
       "      <td>Tony</td>\n",
       "      <td>1</td>\n",
       "      <td>2016-07-25</td>\n",
       "      <td>0</td>\n",
       "      <td>0</td>\n",
       "      <td>0</td>\n",
       "      <td>0</td>\n",
       "      <td>1.00</td>\n",
       "      <td>4</td>\n",
       "    </tr>\n",
       "    <tr>\n",
       "      <th>4</th>\n",
       "      <td>--EVSb3jbKVL3WJ5NUCuCA</td>\n",
       "      <td>Janet</td>\n",
       "      <td>26</td>\n",
       "      <td>2012-03-15</td>\n",
       "      <td>0</td>\n",
       "      <td>0</td>\n",
       "      <td>0</td>\n",
       "      <td>1</td>\n",
       "      <td>4.65</td>\n",
       "      <td>5</td>\n",
       "    </tr>\n",
       "    <tr>\n",
       "      <th>5</th>\n",
       "      <td>--KQJPdrU0Md97DiOliDzw</td>\n",
       "      <td>Steve</td>\n",
       "      <td>166</td>\n",
       "      <td>2006-01-17</td>\n",
       "      <td>211</td>\n",
       "      <td>185</td>\n",
       "      <td>179</td>\n",
       "      <td>6</td>\n",
       "      <td>3.42</td>\n",
       "      <td>6</td>\n",
       "    </tr>\n",
       "    <tr>\n",
       "      <th>6</th>\n",
       "      <td>--Qh8yKWAvIP4V4K8ZPfHA</td>\n",
       "      <td>Dixie</td>\n",
       "      <td>503</td>\n",
       "      <td>2011-01-19</td>\n",
       "      <td>21</td>\n",
       "      <td>32</td>\n",
       "      <td>23</td>\n",
       "      <td>41</td>\n",
       "      <td>3.19</td>\n",
       "      <td>7</td>\n",
       "    </tr>\n",
       "    <tr>\n",
       "      <th>7</th>\n",
       "      <td>--RYvmB6UYRyZQqXkBv4eQ</td>\n",
       "      <td>James</td>\n",
       "      <td>4</td>\n",
       "      <td>2011-01-19</td>\n",
       "      <td>0</td>\n",
       "      <td>0</td>\n",
       "      <td>0</td>\n",
       "      <td>0</td>\n",
       "      <td>1.75</td>\n",
       "      <td>8</td>\n",
       "    </tr>\n",
       "    <tr>\n",
       "      <th>8</th>\n",
       "      <td>--UOvCH5qEgdNQ8lzR8QYQ</td>\n",
       "      <td>Chuan</td>\n",
       "      <td>13</td>\n",
       "      <td>2013-09-09</td>\n",
       "      <td>8</td>\n",
       "      <td>0</td>\n",
       "      <td>1</td>\n",
       "      <td>0</td>\n",
       "      <td>3.86</td>\n",
       "      <td>9</td>\n",
       "    </tr>\n",
       "    <tr>\n",
       "      <th>9</th>\n",
       "      <td>--WhK4MJx0fKvg64LqwStg</td>\n",
       "      <td>Rachel</td>\n",
       "      <td>10</td>\n",
       "      <td>2014-11-10</td>\n",
       "      <td>0</td>\n",
       "      <td>0</td>\n",
       "      <td>0</td>\n",
       "      <td>0</td>\n",
       "      <td>4.60</td>\n",
       "      <td>10</td>\n",
       "    </tr>\n",
       "  </tbody>\n",
       "</table>\n",
       "</div>"
      ],
      "text/plain": [
       "                  user_id  user_name  review_count yelping_since  useful  \\\n",
       "0  --7gjElmOrthETJ8XqzMBw  Elizabeth            17    2014-11-16      14   \n",
       "1  --Br-QsbO9ad5GbZxVGxaw    Melanie            12    2015-06-10       0   \n",
       "2  --BumyUHiO_7YsHurb9Hkw      Sapna            38    2017-01-13       0   \n",
       "3  --DKDJlRHfsvufdGSk_Sdw       Tony             1    2016-07-25       0   \n",
       "4  --EVSb3jbKVL3WJ5NUCuCA      Janet            26    2012-03-15       0   \n",
       "5  --KQJPdrU0Md97DiOliDzw      Steve           166    2006-01-17     211   \n",
       "6  --Qh8yKWAvIP4V4K8ZPfHA      Dixie           503    2011-01-19      21   \n",
       "7  --RYvmB6UYRyZQqXkBv4eQ      James             4    2011-01-19       0   \n",
       "8  --UOvCH5qEgdNQ8lzR8QYQ      Chuan            13    2013-09-09       8   \n",
       "9  --WhK4MJx0fKvg64LqwStg     Rachel            10    2014-11-10       0   \n",
       "\n",
       "   funny  cool  fans  average_stars  $9  \n",
       "0      0     0     0           3.88   1  \n",
       "1      0     0     0           3.25   2  \n",
       "2      0     0     1           3.87   3  \n",
       "3      0     0     0           1.00   4  \n",
       "4      0     0     1           4.65   5  \n",
       "5    185   179     6           3.42   6  \n",
       "6     32    23    41           3.19   7  \n",
       "7      0     0     0           1.75   8  \n",
       "8      0     1     0           3.86   9  \n",
       "9      0     0     0           4.60  10  "
      ]
     },
     "execution_count": 15,
     "metadata": {},
     "output_type": "execute_result"
    }
   ],
   "source": [
    "query = \"\"\"\n",
    "SELECT * FROM USERS \n",
    "limit 10\n",
    "\"\"\"\n",
    "\n",
    "sqlContext.sql(query).toPandas()\n"
   ]
  },
  {
   "cell_type": "code",
   "execution_count": 16,
   "metadata": {
    "collapsed": true
   },
   "outputs": [],
   "source": [
    "review_df = spark.read.parquet(data_path + 'review-small.parquet')"
   ]
  },
  {
   "cell_type": "code",
   "execution_count": 17,
   "metadata": {
    "collapsed": false
   },
   "outputs": [
    {
     "name": "stdout",
     "output_type": "stream",
     "text": [
      "root\n",
      " |-- review_id: string (nullable = true)\n",
      " |-- user_id: string (nullable = true)\n",
      " |-- business_id: string (nullable = true)\n",
      " |-- stars: long (nullable = true)\n",
      " |-- review_date: string (nullable = true)\n",
      " |-- review_text: string (nullable = true)\n",
      " |-- useful: long (nullable = true)\n",
      " |-- funny: long (nullable = true)\n",
      " |-- cool: long (nullable = true)\n",
      "\n"
     ]
    }
   ],
   "source": [
    "review_df.printSchema()"
   ]
  },
  {
   "cell_type": "code",
   "execution_count": 18,
   "metadata": {
    "collapsed": false
   },
   "outputs": [
    {
     "data": {
      "text/plain": [
       "276887"
      ]
     },
     "execution_count": 18,
     "metadata": {},
     "output_type": "execute_result"
    }
   ],
   "source": [
    "review_df.count()"
   ]
  },
  {
   "cell_type": "code",
   "execution_count": 19,
   "metadata": {
    "collapsed": false
   },
   "outputs": [
    {
     "name": "stdout",
     "output_type": "stream",
     "text": [
      "+--------------------+--------------------+--------------------+-----+-----------+--------------------+------+-----+----+\n",
      "|           review_id|             user_id|         business_id|stars|review_date|         review_text|useful|funny|cool|\n",
      "+--------------------+--------------------+--------------------+-----+-----------+--------------------+------+-----+----+\n",
      "|Z5l99h18E3_g1GLcD...|djpMXOA1ic5wv3FPt...|mr4FiPaXTWlJ3qGzp...|    3| 2009-07-21|I left Table 17 f...|     3|    0|   0|\n",
      "|Z3Fw292i0Eg8liW0D...|-pXs08gJq9ExIk275...|mr4FiPaXTWlJ3qGzp...|    3| 2008-12-13|for the time bein...|     1|    0|   0|\n",
      "|hsKINx1dIKeFTDe-Z...|PTj29rhujYETuFlAZ...|mr4FiPaXTWlJ3qGzp...|    5| 2013-10-12|Love this place. ...|     1|    0|   1|\n",
      "+--------------------+--------------------+--------------------+-----+-----------+--------------------+------+-----+----+\n",
      "only showing top 3 rows\n",
      "\n"
     ]
    }
   ],
   "source": [
    "review_df.show(3)"
   ]
  },
  {
   "cell_type": "code",
   "execution_count": 20,
   "metadata": {
    "collapsed": true
   },
   "outputs": [],
   "source": [
    "review_df.createOrReplaceTempView(\"reviews\")"
   ]
  },
  {
   "cell_type": "code",
   "execution_count": 22,
   "metadata": {
    "collapsed": false
   },
   "outputs": [
    {
     "data": {
      "text/html": [
       "<div>\n",
       "<table border=\"1\" class=\"dataframe\">\n",
       "  <thead>\n",
       "    <tr style=\"text-align: right;\">\n",
       "      <th></th>\n",
       "      <th>business_id</th>\n",
       "      <th>5_stars_count</th>\n",
       "    </tr>\n",
       "  </thead>\n",
       "  <tbody>\n",
       "    <tr>\n",
       "      <th>0</th>\n",
       "      <td>r_BrIgzYcwo1NAuG9dLbpg</td>\n",
       "      <td>604</td>\n",
       "    </tr>\n",
       "    <tr>\n",
       "      <th>1</th>\n",
       "      <td>aLcFhMe6DDJ430zelCpd2A</td>\n",
       "      <td>462</td>\n",
       "    </tr>\n",
       "    <tr>\n",
       "      <th>2</th>\n",
       "      <td>RtUvSWO_UZ8V3Wpj0n077w</td>\n",
       "      <td>458</td>\n",
       "    </tr>\n",
       "    <tr>\n",
       "      <th>3</th>\n",
       "      <td>iGEvDk6hsizigmXhDKs2Vg</td>\n",
       "      <td>457</td>\n",
       "    </tr>\n",
       "    <tr>\n",
       "      <th>4</th>\n",
       "      <td>N93EYZy9R0sdlEvubu94ig</td>\n",
       "      <td>407</td>\n",
       "    </tr>\n",
       "    <tr>\n",
       "      <th>5</th>\n",
       "      <td>Yl2TN9c23ZGLUBSD9ks5Uw</td>\n",
       "      <td>279</td>\n",
       "    </tr>\n",
       "    <tr>\n",
       "      <th>6</th>\n",
       "      <td>ZumOnWbstgsIE6bJlxw0_Q</td>\n",
       "      <td>267</td>\n",
       "    </tr>\n",
       "    <tr>\n",
       "      <th>7</th>\n",
       "      <td>mZRKH9ngRY92bI_irrHq6w</td>\n",
       "      <td>267</td>\n",
       "    </tr>\n",
       "    <tr>\n",
       "      <th>8</th>\n",
       "      <td>k6zmSLmYAquCpJGKNnTgSQ</td>\n",
       "      <td>259</td>\n",
       "    </tr>\n",
       "    <tr>\n",
       "      <th>9</th>\n",
       "      <td>JMiaNitMzMbJm6Kh0RbT5A</td>\n",
       "      <td>247</td>\n",
       "    </tr>\n",
       "  </tbody>\n",
       "</table>\n",
       "</div>"
      ],
      "text/plain": [
       "              business_id  5_stars_count\n",
       "0  r_BrIgzYcwo1NAuG9dLbpg            604\n",
       "1  aLcFhMe6DDJ430zelCpd2A            462\n",
       "2  RtUvSWO_UZ8V3Wpj0n077w            458\n",
       "3  iGEvDk6hsizigmXhDKs2Vg            457\n",
       "4  N93EYZy9R0sdlEvubu94ig            407\n",
       "5  Yl2TN9c23ZGLUBSD9ks5Uw            279\n",
       "6  ZumOnWbstgsIE6bJlxw0_Q            267\n",
       "7  mZRKH9ngRY92bI_irrHq6w            267\n",
       "8  k6zmSLmYAquCpJGKNnTgSQ            259\n",
       "9  JMiaNitMzMbJm6Kh0RbT5A            247"
      ]
     },
     "execution_count": 22,
     "metadata": {},
     "output_type": "execute_result"
    }
   ],
   "source": [
    "query = \"\"\"\n",
    "SELECT\n",
    "    business_id,\n",
    "    COUNT(*) as 5_stars_count\n",
    "FROM reviews\n",
    "WHERE stars = '5'\n",
    "GROUP BY business_id \n",
    "ORDER BY COUNT(*) DESC\n",
    "limit 10\n",
    "\"\"\"\n",
    "\n",
    "sqlContext.sql(query).toPandas()\n"
   ]
  },
  {
   "cell_type": "code",
   "execution_count": 23,
   "metadata": {
    "collapsed": true
   },
   "outputs": [],
   "source": [
    "reviews_text = spark.sql(\"SELECT business_id, review_text FROM reviews\")"
   ]
  },
  {
   "cell_type": "code",
   "execution_count": 24,
   "metadata": {
    "collapsed": false
   },
   "outputs": [
    {
     "name": "stdout",
     "output_type": "stream",
     "text": [
      "+--------------------+--------------------+\n",
      "|         business_id|         review_text|\n",
      "+--------------------+--------------------+\n",
      "|mr4FiPaXTWlJ3qGzp...|I left Table 17 f...|\n",
      "|mr4FiPaXTWlJ3qGzp...|for the time bein...|\n",
      "|mr4FiPaXTWlJ3qGzp...|Love this place. ...|\n",
      "+--------------------+--------------------+\n",
      "only showing top 3 rows\n",
      "\n"
     ]
    }
   ],
   "source": [
    "reviews_text.show(3)"
   ]
  },
  {
   "cell_type": "code",
   "execution_count": 25,
   "metadata": {
    "collapsed": false
   },
   "outputs": [
    {
     "data": {
      "text/plain": [
       "6750"
      ]
     },
     "execution_count": 25,
     "metadata": {},
     "output_type": "execute_result"
    }
   ],
   "source": [
    "reviews_text_rdd = reviews_text.rdd\n",
    "reviews_by_business_rdd = reviews_text_rdd.map(tuple).reduceByKey(add)  \n",
    "reviews_by_business_df = spark.createDataFrame(reviews_by_business_rdd)\n",
    "reviews_by_business_df = reviews_by_business_df \\\n",
    "                            .withColumnRenamed('_1', 'business_id') \\\n",
    "                            .withColumnRenamed('_2', 'text')\n",
    "reviews_by_business_df.count()   "
   ]
  },
  {
   "cell_type": "code",
   "execution_count": 26,
   "metadata": {
    "collapsed": false
   },
   "outputs": [
    {
     "name": "stdout",
     "output_type": "stream",
     "text": [
      "+--------------------+--------------------+\n",
      "|         business_id|                text|\n",
      "+--------------------+--------------------+\n",
      "|bfR-vJvrjdOJaWsXG...|Attention allergy...|\n",
      "|Dl2vgi5W_nbe-A97D...|I don't understan...|\n",
      "|65ZGMedBm7TBpWv6f...|Food here is alwa...|\n",
      "+--------------------+--------------------+\n",
      "only showing top 3 rows\n",
      "\n"
     ]
    }
   ],
   "source": [
    "reviews_by_business_df.show(3)"
   ]
  },
  {
   "cell_type": "code",
   "execution_count": 27,
   "metadata": {
    "collapsed": false
   },
   "outputs": [
    {
     "name": "stdout",
     "output_type": "stream",
     "text": [
      "+--------------------+--------------------+--------------------+\n",
      "|         business_id|                text|               token|\n",
      "+--------------------+--------------------+--------------------+\n",
      "|bfR-vJvrjdOJaWsXG...|Attention allergy...|[attention, aller...|\n",
      "|Dl2vgi5W_nbe-A97D...|I don't understan...|[i, don, t, under...|\n",
      "|65ZGMedBm7TBpWv6f...|Food here is alwa...|[food, here, is, ...|\n",
      "+--------------------+--------------------+--------------------+\n",
      "only showing top 3 rows\n",
      "\n"
     ]
    }
   ],
   "source": [
    "\n",
    "regexTokenizer = RegexTokenizer(gaps = False, pattern = '\\w+', inputCol = 'text', outputCol = 'token')\n",
    "\n",
    "reviews_by_business_token_df = regexTokenizer.transform(reviews_by_business_df)\n",
    "reviews_by_business_token_df.show(3)\n"
   ]
  },
  {
   "cell_type": "code",
   "execution_count": 28,
   "metadata": {
    "collapsed": false
   },
   "outputs": [
    {
     "name": "stdout",
     "output_type": "stream",
     "text": [
      "+--------------------+--------------------+--------------------+--------------------+\n",
      "|         business_id|                text|               token|           nostopwrd|\n",
      "+--------------------+--------------------+--------------------+--------------------+\n",
      "|bfR-vJvrjdOJaWsXG...|Attention allergy...|[attention, aller...|[attention, aller...|\n",
      "|Dl2vgi5W_nbe-A97D...|I don't understan...|[i, don, t, under...|[understand, prev...|\n",
      "|65ZGMedBm7TBpWv6f...|Food here is alwa...|[food, here, is, ...|[food, always, fr...|\n",
      "+--------------------+--------------------+--------------------+--------------------+\n",
      "only showing top 3 rows\n",
      "\n"
     ]
    }
   ],
   "source": [
    "stopWordsRemover = StopWordsRemover(inputCol = 'token', outputCol = 'nostopwrd')\n",
    "\n",
    "reviews_by_business_token_nostopwrd_df = stopWordsRemover.transform(reviews_by_business_token_df)\n",
    "reviews_by_business_token_nostopwrd_df.show(3)"
   ]
  },
  {
   "cell_type": "markdown",
   "metadata": {},
   "source": [
    "#### The follwoing step of creating wordevec model is resource intensive and time consuming.  \n",
    "#### Just load the previusly trained model unless you need to rerun / refresh the existing model"
   ]
  },
  {
   "cell_type": "code",
   "execution_count": 33,
   "metadata": {
    "collapsed": false
   },
   "outputs": [],
   "source": [
    "#word2Vec = Word2Vec(vectorSize = 100, minCount = 5, inputCol = 'nostopwrd', outputCol = 'word_vec')\n",
    "#word2Vec_model = word2Vec.fit(reviews_by_business_token_nostopwrd_df)\n",
    "\n",
    "# save the word2vec model\n",
    "#word2Vec_model.write().overwrite().save(model_path + 'word2Vec')"
   ]
  },
  {
   "cell_type": "code",
   "execution_count": 34,
   "metadata": {
    "collapsed": false
   },
   "outputs": [],
   "source": [
    "# load the word2vec trained model\n",
    "\n",
    "word2Vec_mdl = Word2VecModel.load(model_path + 'word2Vec')"
   ]
  },
  {
   "cell_type": "code",
   "execution_count": 35,
   "metadata": {
    "collapsed": false
   },
   "outputs": [
    {
     "name": "stdout",
     "output_type": "stream",
     "text": [
      "+--------------------+--------------------+--------------------+--------------------+--------------------+\n",
      "|         business_id|                text|               token|           nostopwrd|            word_vec|\n",
      "+--------------------+--------------------+--------------------+--------------------+--------------------+\n",
      "|bfR-vJvrjdOJaWsXG...|Attention allergy...|[attention, aller...|[attention, aller...|[-0.0949216104917...|\n",
      "|Dl2vgi5W_nbe-A97D...|I don't understan...|[i, don, t, under...|[understand, prev...|[-0.0657136221337...|\n",
      "|65ZGMedBm7TBpWv6f...|Food here is alwa...|[food, here, is, ...|[food, always, fr...|[-0.0036732712861...|\n",
      "+--------------------+--------------------+--------------------+--------------------+--------------------+\n",
      "only showing top 3 rows\n",
      "\n",
      "+--------------------+\n",
      "|            word_vec|\n",
      "+--------------------+\n",
      "|[-0.0949216104917...|\n",
      "+--------------------+\n",
      "only showing top 1 row\n",
      "\n"
     ]
    }
   ],
   "source": [
    "reviews_by_business_vec_df = word2Vec_mdl.transform(reviews_by_business_token_nostopwrd_df)\n",
    "\n",
    "reviews_by_business_vec_df.show(3)\n",
    "\n",
    "reviews_by_business_vec_df.select('word_vec').show(1, truncate = True)"
   ]
  },
  {
   "cell_type": "code",
   "execution_count": 36,
   "metadata": {
    "collapsed": false
   },
   "outputs": [
    {
     "name": "stdout",
     "output_type": "stream",
     "text": [
      "+-------+------------------+\n",
      "|   word|        similarity|\n",
      "+-------+------------------+\n",
      "| decent|0.7664605379104614|\n",
      "|  great|0.6792967319488525|\n",
      "|  tasty| 0.577859103679657|\n",
      "|  solid|0.5670980215072632|\n",
      "|amazing|0.5537719130516052|\n",
      "+-------+------------------+\n",
      "\n"
     ]
    }
   ],
   "source": [
    "word2Vec_mdl.findSynonyms(\"good\", 5).show()"
   ]
  },
  {
   "cell_type": "code",
   "execution_count": 37,
   "metadata": {
    "collapsed": false
   },
   "outputs": [
    {
     "name": "stdout",
     "output_type": "stream",
     "text": [
      "+----------+------------------+\n",
      "|      word|        similarity|\n",
      "+----------+------------------+\n",
      "|     asian|0.8069467544555664|\n",
      "|vietnamese|0.7198611497879028|\n",
      "|  northern|0.7195839881896973|\n",
      "|     hakka|0.7080489993095398|\n",
      "|    korean|0.7080056667327881|\n",
      "+----------+------------------+\n",
      "\n"
     ]
    }
   ],
   "source": [
    "word2Vec_mdl.findSynonyms(\"chinese\", 5).show() "
   ]
  },
  {
   "cell_type": "code",
   "execution_count": 38,
   "metadata": {
    "collapsed": false
   },
   "outputs": [
    {
     "name": "stdout",
     "output_type": "stream",
     "text": [
      "+------------+------------------+\n",
      "|        word|        similarity|\n",
      "+------------+------------------+\n",
      "|     burgers|0.8352599143981934|\n",
      "|   hamburger|0.7846404910087585|\n",
      "|       patty|0.7472882270812988|\n",
      "|      priest|0.7470744252204895|\n",
      "|cheeseburger|0.7308202981948853|\n",
      "+------------+------------------+\n",
      "\n"
     ]
    }
   ],
   "source": [
    "word2Vec_mdl.findSynonyms(\"burger\", 5).show()"
   ]
  },
  {
   "cell_type": "code",
   "execution_count": 39,
   "metadata": {
    "collapsed": true
   },
   "outputs": [],
   "source": [
    "def CosineSim(vec1, vec2): \n",
    "    return np.dot(vec1, vec2) / np.sqrt(np.dot(vec1, vec1)) / np.sqrt(np.dot(vec2, vec2)) "
   ]
  },
  {
   "cell_type": "code",
   "execution_count": 40,
   "metadata": {
    "collapsed": true
   },
   "outputs": [],
   "source": [
    "all_vecs = reviews_by_business_vec_df.select('business_id', 'word_vec').rdd.map(lambda x: (x[0], x[1])).collect()"
   ]
  },
  {
   "cell_type": "code",
   "execution_count": 41,
   "metadata": {
    "collapsed": false
   },
   "outputs": [
    {
     "data": {
      "text/plain": [
       "('bfR-vJvrjdOJaWsXGJgzPA',\n",
       " DenseVector([-0.0949, -0.0314, 0.0272, 0.0091, 0.056, -0.0003, 0.0116, 0.02, 0.0641, 0.0029, -0.0145, -0.0746, 0.0152, 0.0599, 0.0564, 0.0002, 0.0737, -0.0414, 0.0264, 0.0784, 0.0352, 0.0016, -0.0452, -0.0517, 0.0131, 0.0295, -0.0073, -0.0313, -0.0145, -0.0208, 0.0482, -0.0188, -0.0831, -0.124, -0.0201, 0.0666, -0.0406, 0.0484, -0.0362, -0.0267, -0.082, -0.0519, -0.011, 0.0132, 0.0178, 0.0408, -0.0015, -0.0176, 0.0003, -0.0212, 0.0747, 0.0396, -0.0601, -0.0949, 0.0083, -0.0494, -0.046, 0.0526, -0.0364, -0.0131, 0.0674, -0.0098, 0.0806, 0.0081, -0.0304, 0.0295, -0.0349, -0.0166, 0.0589, -0.0113, -0.0102, 0.0147, 0.1199, -0.0484, 0.0634, -0.0595, 0.0359, -0.0389, 0.0082, 0.0057, 0.0475, -0.0751, -0.03, -0.0067, 0.0143, -0.013, 0.0334, -0.0109, -0.0418, 0.0716, -0.0147, 0.061, 0.0054, -0.0138, -0.0156, -0.0109, -0.0053, 0.0462, -0.0234, 0.092]))"
      ]
     },
     "execution_count": 41,
     "metadata": {},
     "output_type": "execute_result"
    }
   ],
   "source": [
    "all_vecs[0]"
   ]
  },
  {
   "cell_type": "code",
   "execution_count": 42,
   "metadata": {
    "collapsed": false
   },
   "outputs": [
    {
     "data": {
      "text/plain": [
       "DenseVector([-0.0949, -0.0314, 0.0272, 0.0091, 0.056, -0.0003, 0.0116, 0.02, 0.0641, 0.0029, -0.0145, -0.0746, 0.0152, 0.0599, 0.0564, 0.0002, 0.0737, -0.0414, 0.0264, 0.0784, 0.0352, 0.0016, -0.0452, -0.0517, 0.0131, 0.0295, -0.0073, -0.0313, -0.0145, -0.0208, 0.0482, -0.0188, -0.0831, -0.124, -0.0201, 0.0666, -0.0406, 0.0484, -0.0362, -0.0267, -0.082, -0.0519, -0.011, 0.0132, 0.0178, 0.0408, -0.0015, -0.0176, 0.0003, -0.0212, 0.0747, 0.0396, -0.0601, -0.0949, 0.0083, -0.0494, -0.046, 0.0526, -0.0364, -0.0131, 0.0674, -0.0098, 0.0806, 0.0081, -0.0304, 0.0295, -0.0349, -0.0166, 0.0589, -0.0113, -0.0102, 0.0147, 0.1199, -0.0484, 0.0634, -0.0595, 0.0359, -0.0389, 0.0082, 0.0057, 0.0475, -0.0751, -0.03, -0.0067, 0.0143, -0.013, 0.0334, -0.0109, -0.0418, 0.0716, -0.0147, 0.061, 0.0054, -0.0138, -0.0156, -0.0109, -0.0053, 0.0462, -0.0234, 0.092])"
      ]
     },
     "execution_count": 42,
     "metadata": {},
     "output_type": "execute_result"
    }
   ],
   "source": [
    "all_vecs[0][1]"
   ]
  },
  {
   "cell_type": "code",
   "execution_count": 43,
   "metadata": {
    "collapsed": false
   },
   "outputs": [
    {
     "name": "stdout",
     "output_type": "stream",
     "text": [
      "Buiness details:\n",
      "+----------------------+----------------------+------------------------------------------------------------------------------+\n",
      "|business_id           |name                  |categories                                                                    |\n",
      "+----------------------+----------------------+------------------------------------------------------------------------------+\n",
      "|RtUvSWO_UZ8V3Wpj0n077w|KINKA IZAKAYA ORIGINAL|[Pubs, Japanese, Restaurants, Bars, Nightlife, Tapas Bars, Tapas/Small Plates]|\n",
      "+----------------------+----------------------+------------------------------------------------------------------------------+\n",
      "\n",
      "Top 10 similar businesses:\n"
     ]
    },
    {
     "data": {
      "text/html": [
       "<div>\n",
       "<table border=\"1\" class=\"dataframe\">\n",
       "  <thead>\n",
       "    <tr style=\"text-align: right;\">\n",
       "      <th></th>\n",
       "      <th>business_id</th>\n",
       "      <th>similarity_score</th>\n",
       "      <th>name</th>\n",
       "      <th>categories</th>\n",
       "      <th>stars</th>\n",
       "      <th>review_count</th>\n",
       "      <th>latitude</th>\n",
       "      <th>longitude</th>\n",
       "    </tr>\n",
       "  </thead>\n",
       "  <tbody>\n",
       "    <tr>\n",
       "      <th>0</th>\n",
       "      <td>CN5nuUQod0f8g3oh99qq0w</td>\n",
       "      <td>0.993978</td>\n",
       "      <td>KINKA IZAKAYA BLOOR</td>\n",
       "      <td>[Nightlife, Restaurants, Pubs, Japanese, Tapas...</td>\n",
       "      <td>4.0</td>\n",
       "      <td>351</td>\n",
       "      <td>43.665157</td>\n",
       "      <td>-79.410658</td>\n",
       "    </tr>\n",
       "    <tr>\n",
       "      <th>1</th>\n",
       "      <td>CfxVkwEJk1NAqgqMSesLzA</td>\n",
       "      <td>0.980039</td>\n",
       "      <td>KINKA IZAKAYA NORTH YORK</td>\n",
       "      <td>[Bars, Nightlife, Restaurants, Tapas/Small Pla...</td>\n",
       "      <td>3.5</td>\n",
       "      <td>209</td>\n",
       "      <td>43.760190</td>\n",
       "      <td>-79.410112</td>\n",
       "    </tr>\n",
       "    <tr>\n",
       "      <th>2</th>\n",
       "      <td>wpQsmMvdhefqIlxvRt_Jbg</td>\n",
       "      <td>0.974047</td>\n",
       "      <td>DonDon Izakaya</td>\n",
       "      <td>[Restaurants, Japanese, Tapas/Small Plates, Ta...</td>\n",
       "      <td>3.0</td>\n",
       "      <td>225</td>\n",
       "      <td>43.655741</td>\n",
       "      <td>-79.384625</td>\n",
       "    </tr>\n",
       "    <tr>\n",
       "      <th>3</th>\n",
       "      <td>L82O1ZFFQfjJxF0_PYWPnA</td>\n",
       "      <td>0.970267</td>\n",
       "      <td>Guu Izakaya Toronto</td>\n",
       "      <td>[Tapas Bars, Izakaya, Japanese, Restaurants]</td>\n",
       "      <td>4.0</td>\n",
       "      <td>50</td>\n",
       "      <td>43.641867</td>\n",
       "      <td>-79.431090</td>\n",
       "    </tr>\n",
       "    <tr>\n",
       "      <th>4</th>\n",
       "      <td>sYKB4nITCLLFcCZPn3QECQ</td>\n",
       "      <td>0.961989</td>\n",
       "      <td>Teppan Kenta</td>\n",
       "      <td>[Japanese, Restaurants, Food]</td>\n",
       "      <td>3.5</td>\n",
       "      <td>58</td>\n",
       "      <td>43.665279</td>\n",
       "      <td>-79.385945</td>\n",
       "    </tr>\n",
       "    <tr>\n",
       "      <th>5</th>\n",
       "      <td>g6GXqg-QdDiQGLYMVqNOUw</td>\n",
       "      <td>0.948832</td>\n",
       "      <td>Hapa Izakaya</td>\n",
       "      <td>[Japanese, Restaurants]</td>\n",
       "      <td>3.5</td>\n",
       "      <td>148</td>\n",
       "      <td>43.655264</td>\n",
       "      <td>-79.414242</td>\n",
       "    </tr>\n",
       "    <tr>\n",
       "      <th>6</th>\n",
       "      <td>478TIlfHXfT3wvww54QsPg</td>\n",
       "      <td>0.942653</td>\n",
       "      <td>Ki Modern Japanese + Bar</td>\n",
       "      <td>[Sushi Bars, Restaurants, Japanese]</td>\n",
       "      <td>3.5</td>\n",
       "      <td>169</td>\n",
       "      <td>43.647208</td>\n",
       "      <td>-79.379381</td>\n",
       "    </tr>\n",
       "    <tr>\n",
       "      <th>7</th>\n",
       "      <td>SjgeuBlgKER9yegpoxT99w</td>\n",
       "      <td>0.941614</td>\n",
       "      <td>Nomé Izakaya</td>\n",
       "      <td>[Bars, Nightlife, Restaurants, Lounges, Tapas ...</td>\n",
       "      <td>4.0</td>\n",
       "      <td>374</td>\n",
       "      <td>43.762650</td>\n",
       "      <td>-79.411469</td>\n",
       "    </tr>\n",
       "    <tr>\n",
       "      <th>8</th>\n",
       "      <td>KxcQs2Lkm3FJiltVWXOz_Q</td>\n",
       "      <td>0.938435</td>\n",
       "      <td>Hashi Izakaya</td>\n",
       "      <td>[Tapas Bars, Nightlife, Japanese, Restaurants,...</td>\n",
       "      <td>3.5</td>\n",
       "      <td>37</td>\n",
       "      <td>43.779256</td>\n",
       "      <td>-79.415713</td>\n",
       "    </tr>\n",
       "    <tr>\n",
       "      <th>9</th>\n",
       "      <td>8J0NuWmoFfSGe5LuaiMfpg</td>\n",
       "      <td>0.937600</td>\n",
       "      <td>Sake Bar Kushi</td>\n",
       "      <td>[Sushi Bars, Japanese, Restaurants, Tapas Bars]</td>\n",
       "      <td>4.0</td>\n",
       "      <td>67</td>\n",
       "      <td>43.704833</td>\n",
       "      <td>-79.406917</td>\n",
       "    </tr>\n",
       "  </tbody>\n",
       "</table>\n",
       "</div>"
      ],
      "text/plain": [
       "              business_id  similarity_score                      name  \\\n",
       "0  CN5nuUQod0f8g3oh99qq0w          0.993978       KINKA IZAKAYA BLOOR   \n",
       "1  CfxVkwEJk1NAqgqMSesLzA          0.980039  KINKA IZAKAYA NORTH YORK   \n",
       "2  wpQsmMvdhefqIlxvRt_Jbg          0.974047            DonDon Izakaya   \n",
       "3  L82O1ZFFQfjJxF0_PYWPnA          0.970267       Guu Izakaya Toronto   \n",
       "4  sYKB4nITCLLFcCZPn3QECQ          0.961989              Teppan Kenta   \n",
       "5  g6GXqg-QdDiQGLYMVqNOUw          0.948832              Hapa Izakaya   \n",
       "6  478TIlfHXfT3wvww54QsPg          0.942653  Ki Modern Japanese + Bar   \n",
       "7  SjgeuBlgKER9yegpoxT99w          0.941614              Nomé Izakaya   \n",
       "8  KxcQs2Lkm3FJiltVWXOz_Q          0.938435             Hashi Izakaya   \n",
       "9  8J0NuWmoFfSGe5LuaiMfpg          0.937600            Sake Bar Kushi   \n",
       "\n",
       "                                          categories  stars  review_count  \\\n",
       "0  [Nightlife, Restaurants, Pubs, Japanese, Tapas...    4.0           351   \n",
       "1  [Bars, Nightlife, Restaurants, Tapas/Small Pla...    3.5           209   \n",
       "2  [Restaurants, Japanese, Tapas/Small Plates, Ta...    3.0           225   \n",
       "3       [Tapas Bars, Izakaya, Japanese, Restaurants]    4.0            50   \n",
       "4                      [Japanese, Restaurants, Food]    3.5            58   \n",
       "5                            [Japanese, Restaurants]    3.5           148   \n",
       "6                [Sushi Bars, Restaurants, Japanese]    3.5           169   \n",
       "7  [Bars, Nightlife, Restaurants, Lounges, Tapas ...    4.0           374   \n",
       "8  [Tapas Bars, Nightlife, Japanese, Restaurants,...    3.5            37   \n",
       "9    [Sushi Bars, Japanese, Restaurants, Tapas Bars]    4.0            67   \n",
       "\n",
       "    latitude  longitude  \n",
       "0  43.665157 -79.410658  \n",
       "1  43.760190 -79.410112  \n",
       "2  43.655741 -79.384625  \n",
       "3  43.641867 -79.431090  \n",
       "4  43.665279 -79.385945  \n",
       "5  43.655264 -79.414242  \n",
       "6  43.647208 -79.379381  \n",
       "7  43.762650 -79.411469  \n",
       "8  43.779256 -79.415713  \n",
       "9  43.704833 -79.406917  "
      ]
     },
     "execution_count": 43,
     "metadata": {},
     "output_type": "execute_result"
    }
   ],
   "source": [
    "# test similarity by Business\n",
    "\n",
    "b_id = 'RtUvSWO_UZ8V3Wpj0n077w'\n",
    "\n",
    "bus_details_df = business_df.filter(col(\"business_id\") == b_id) \\\n",
    "                            .select(['business_id', 'name', 'categories'])\n",
    "print('Buiness details:')           \n",
    "bus_details_df.show(truncate = False) \n",
    "\n",
    "input_vec = reviews_by_business_vec_df.select('word_vec')\\\n",
    "            .filter(reviews_by_business_vec_df['business_id'] == b_id)\\\n",
    "            .collect()[0][0]\n",
    "        \n",
    "#all_vecs = reviews_by_business_vec_df.select('business_id', 'word_vec').rdd.map(lambda x: (x[0], x[1])).collect()\n",
    "\n",
    "similar_business_rdd = sc.parallelize((i[0], float(CosineSim(input_vec, i[1]))) for i in all_vecs)\n",
    "\n",
    "similar_business_df = spark.createDataFrame(similar_business_rdd).\\\n",
    "    withColumnRenamed('_1', 'business_id').\\\n",
    "    withColumnRenamed('_2', 'similarity_score').\\\n",
    "    orderBy(\"similarity_score\", ascending = False)\n",
    "\n",
    "a = similar_business_df.filter(col(\"business_id\") != b_id).limit(10).alias(\"a\")\n",
    "\n",
    "b = business_df.alias(\"b\")\n",
    "j = a.join(b, col(\"a.business_id\") == col(\"b.business_id\"), 'inner')\\\n",
    "     .select([col('a.'+xx) for xx in a.columns] + [col('b.name'),col('b.categories'),\n",
    "                                                   col('b.stars'),col('b.review_count'),\n",
    "                                                   col('b.latitude'),col('b.longitude')])\n",
    "print('Top 10 similar businesses:')\n",
    "j.toPandas()"
   ]
  },
  {
   "cell_type": "code",
   "execution_count": 44,
   "metadata": {
    "collapsed": true
   },
   "outputs": [],
   "source": [
    "def getBusinessDetails(in_bus):\n",
    "    \n",
    "    a = in_bus.alias(\"a\")\n",
    "    b = business_df.alias(\"b\")\n",
    "    \n",
    "    return a.join(b, col(\"a.business_id\") == col(\"b.business_id\"), 'inner') \\\n",
    "             .select([col('a.'+xx) for xx in a.columns] + [col('b.name'),col('b.categories'),\n",
    "                                                           col('b.stars'),col('b.review_count'),\n",
    "                                                           col('b.latitude'),col('b.longitude')])\n",
    "    "
   ]
  },
  {
   "cell_type": "code",
   "execution_count": 58,
   "metadata": {
    "collapsed": false
   },
   "outputs": [],
   "source": [
    "def showInMap(df):\n",
    "    \n",
    "    mp = folium.Map(location=[43.70011, -79.4163], zoom_start=12)\n",
    "\n",
    "    for i, r in df.toPandas().iterrows():\n",
    "        folium.Marker(\n",
    "                    location =[r.latitude, r.longitude], \n",
    "                    popup = html.escape(r[\"name\"]) + '<br>' + 'Stars: ' + str(r.stars) + '<br>' + 'Reviews: ' + str(r.review_count),    \n",
    "                    icon = folium.Icon(color='green')).add_to(mp)\n",
    "    mp.\n",
    "    return mp"
   ]
  },
  {
   "cell_type": "code",
   "execution_count": 45,
   "metadata": {
    "collapsed": true
   },
   "outputs": [],
   "source": [
    "def getKeyWordsRecoms(key_words, sim_bus_count):\n",
    "    \n",
    "    print('Businesses similar to key words: \"' + key_words + '\"')\n",
    "    \n",
    "    input_words_df = sc.parallelize([(0, key_words)]).toDF(['business_id', 'key_words'])\n",
    "\n",
    "    regexToken = RegexTokenizer(gaps = False, pattern = '\\w+', inputCol = 'key_words', outputCol = 'token')\n",
    "    stopWrdRem = StopWordsRemover(inputCol = 'token', outputCol = 'nostopwrd')\n",
    "\n",
    "\n",
    "    # Build the pipeline\n",
    "    pipeline = Pipeline(stages=[regexToken, stopWrdRem])\n",
    "\n",
    "\n",
    "    mdl = pipeline.fit(input_words_df)\n",
    "    input_words_token_nostopwrd_df = mdl.transform(input_words_df)\n",
    "\n",
    "    input_vec_df = word2Vec_mdl.transform(input_words_token_nostopwrd_df)\n",
    "\n",
    "    input_key_words_vec = input_vec_df.select('word_vec').collect()[0][0]\n",
    "\n",
    "    #all_vecs = reviews_by_business_vec_df.select('business_id', 'word_vec').rdd.map(lambda x: (x[0], x[1])).collect()\n",
    "\n",
    "    similar_business_by_key_word_rdd = sc.parallelize((i[0], float(CosineSim(input_key_words_vec, i[1]))) \\\n",
    "                                                                                      for i in all_vecs)\n",
    "\n",
    "    similar_business_by_key_word_df = spark.createDataFrame(similar_business_by_key_word_rdd).\\\n",
    "        withColumnRenamed('_1', 'business_id').\\\n",
    "        withColumnRenamed('_2', 'similarity_score').\\\n",
    "        orderBy(\"similarity_score\", ascending = False)\n",
    "\n",
    "    a = similar_business_by_key_word_df.limit(sim_bus_count)\n",
    "    return getBusinessDetails(a)\n"
   ]
  },
  {
   "cell_type": "code",
   "execution_count": 46,
   "metadata": {
    "collapsed": false
   },
   "outputs": [
    {
     "name": "stdout",
     "output_type": "stream",
     "text": [
      "Businesses similar to key words: \"chicken cheese burger\"\n"
     ]
    },
    {
     "data": {
      "text/html": [
       "<div>\n",
       "<table border=\"1\" class=\"dataframe\">\n",
       "  <thead>\n",
       "    <tr style=\"text-align: right;\">\n",
       "      <th></th>\n",
       "      <th>business_id</th>\n",
       "      <th>similarity_score</th>\n",
       "      <th>name</th>\n",
       "      <th>categories</th>\n",
       "      <th>stars</th>\n",
       "      <th>review_count</th>\n",
       "      <th>latitude</th>\n",
       "      <th>longitude</th>\n",
       "    </tr>\n",
       "  </thead>\n",
       "  <tbody>\n",
       "    <tr>\n",
       "      <th>0</th>\n",
       "      <td>37joQpD9m5AIcrW1c8OBnQ</td>\n",
       "      <td>0.706561</td>\n",
       "      <td>Urban Smoke Fusion BBQ Food Truck</td>\n",
       "      <td>[Desserts, Barbeque, Food, Restaurants, Food T...</td>\n",
       "      <td>4.0</td>\n",
       "      <td>8</td>\n",
       "      <td>43.718711</td>\n",
       "      <td>-79.470037</td>\n",
       "    </tr>\n",
       "    <tr>\n",
       "      <th>1</th>\n",
       "      <td>3Cu-af4en3uWCrAkkqfiHQ</td>\n",
       "      <td>0.698635</td>\n",
       "      <td>Epic Burgers and Waffles</td>\n",
       "      <td>[Burgers, Food, Restaurants]</td>\n",
       "      <td>2.5</td>\n",
       "      <td>5</td>\n",
       "      <td>43.632351</td>\n",
       "      <td>-79.421280</td>\n",
       "    </tr>\n",
       "    <tr>\n",
       "      <th>2</th>\n",
       "      <td>nP87zXxeS-8got7IBvoAuA</td>\n",
       "      <td>0.657255</td>\n",
       "      <td>McCoy Burger Company</td>\n",
       "      <td>[Local Flavor, Sandwiches, Restaurants, Poutin...</td>\n",
       "      <td>4.0</td>\n",
       "      <td>33</td>\n",
       "      <td>43.731511</td>\n",
       "      <td>-79.404081</td>\n",
       "    </tr>\n",
       "    <tr>\n",
       "      <th>3</th>\n",
       "      <td>DiCMYxT69I22-1nfsvYAJQ</td>\n",
       "      <td>0.651565</td>\n",
       "      <td>Gourmet Burger Co</td>\n",
       "      <td>[Burgers, Restaurants]</td>\n",
       "      <td>3.5</td>\n",
       "      <td>37</td>\n",
       "      <td>43.664683</td>\n",
       "      <td>-79.368279</td>\n",
       "    </tr>\n",
       "    <tr>\n",
       "      <th>4</th>\n",
       "      <td>UN0UwUh7jaeX6Jg3lZImCg</td>\n",
       "      <td>0.638442</td>\n",
       "      <td>Holy Chuck</td>\n",
       "      <td>[Food, Restaurants, Desserts, Poutineries, Bur...</td>\n",
       "      <td>3.0</td>\n",
       "      <td>43</td>\n",
       "      <td>43.665211</td>\n",
       "      <td>-79.384925</td>\n",
       "    </tr>\n",
       "    <tr>\n",
       "      <th>5</th>\n",
       "      <td>ZzF5098L4xg-0COjng2LVA</td>\n",
       "      <td>0.638042</td>\n",
       "      <td>Burgatory</td>\n",
       "      <td>[Pubs, Burgers, Food Trucks, Nightlife, Bars, ...</td>\n",
       "      <td>3.0</td>\n",
       "      <td>9</td>\n",
       "      <td>43.655055</td>\n",
       "      <td>-79.418563</td>\n",
       "    </tr>\n",
       "    <tr>\n",
       "      <th>6</th>\n",
       "      <td>PkeaeQS8aJTeS8PS_Hl_-g</td>\n",
       "      <td>0.637751</td>\n",
       "      <td>Steak and Cheese Factory</td>\n",
       "      <td>[Sandwiches, Cheesesteaks, Restaurants]</td>\n",
       "      <td>3.0</td>\n",
       "      <td>3</td>\n",
       "      <td>43.708213</td>\n",
       "      <td>-79.392367</td>\n",
       "    </tr>\n",
       "    <tr>\n",
       "      <th>7</th>\n",
       "      <td>ky9RbwLtChekSrqcYR39kw</td>\n",
       "      <td>0.635411</td>\n",
       "      <td>Big Smoke Burger</td>\n",
       "      <td>[Burgers, Poutineries, Restaurants]</td>\n",
       "      <td>3.0</td>\n",
       "      <td>6</td>\n",
       "      <td>43.611289</td>\n",
       "      <td>-79.556867</td>\n",
       "    </tr>\n",
       "    <tr>\n",
       "      <th>8</th>\n",
       "      <td>ycAW6Q5quaCSDX5zwQ3tPg</td>\n",
       "      <td>0.630411</td>\n",
       "      <td>New York Fries</td>\n",
       "      <td>[Canadian (New), Specialty Food, Food, Restaur...</td>\n",
       "      <td>3.5</td>\n",
       "      <td>8</td>\n",
       "      <td>43.776875</td>\n",
       "      <td>-79.256655</td>\n",
       "    </tr>\n",
       "    <tr>\n",
       "      <th>9</th>\n",
       "      <td>7UPTUpex3O1Gav3td7GOEw</td>\n",
       "      <td>0.625449</td>\n",
       "      <td>South St Burger Co</td>\n",
       "      <td>[Burgers, Restaurants]</td>\n",
       "      <td>3.0</td>\n",
       "      <td>6</td>\n",
       "      <td>43.736442</td>\n",
       "      <td>-79.344201</td>\n",
       "    </tr>\n",
       "  </tbody>\n",
       "</table>\n",
       "</div>"
      ],
      "text/plain": [
       "              business_id  similarity_score  \\\n",
       "0  37joQpD9m5AIcrW1c8OBnQ          0.706561   \n",
       "1  3Cu-af4en3uWCrAkkqfiHQ          0.698635   \n",
       "2  nP87zXxeS-8got7IBvoAuA          0.657255   \n",
       "3  DiCMYxT69I22-1nfsvYAJQ          0.651565   \n",
       "4  UN0UwUh7jaeX6Jg3lZImCg          0.638442   \n",
       "5  ZzF5098L4xg-0COjng2LVA          0.638042   \n",
       "6  PkeaeQS8aJTeS8PS_Hl_-g          0.637751   \n",
       "7  ky9RbwLtChekSrqcYR39kw          0.635411   \n",
       "8  ycAW6Q5quaCSDX5zwQ3tPg          0.630411   \n",
       "9  7UPTUpex3O1Gav3td7GOEw          0.625449   \n",
       "\n",
       "                                name  \\\n",
       "0  Urban Smoke Fusion BBQ Food Truck   \n",
       "1           Epic Burgers and Waffles   \n",
       "2               McCoy Burger Company   \n",
       "3                  Gourmet Burger Co   \n",
       "4                         Holy Chuck   \n",
       "5                          Burgatory   \n",
       "6           Steak and Cheese Factory   \n",
       "7                   Big Smoke Burger   \n",
       "8                     New York Fries   \n",
       "9                 South St Burger Co   \n",
       "\n",
       "                                          categories  stars  review_count  \\\n",
       "0  [Desserts, Barbeque, Food, Restaurants, Food T...    4.0             8   \n",
       "1                       [Burgers, Food, Restaurants]    2.5             5   \n",
       "2  [Local Flavor, Sandwiches, Restaurants, Poutin...    4.0            33   \n",
       "3                             [Burgers, Restaurants]    3.5            37   \n",
       "4  [Food, Restaurants, Desserts, Poutineries, Bur...    3.0            43   \n",
       "5  [Pubs, Burgers, Food Trucks, Nightlife, Bars, ...    3.0             9   \n",
       "6            [Sandwiches, Cheesesteaks, Restaurants]    3.0             3   \n",
       "7                [Burgers, Poutineries, Restaurants]    3.0             6   \n",
       "8  [Canadian (New), Specialty Food, Food, Restaur...    3.5             8   \n",
       "9                             [Burgers, Restaurants]    3.0             6   \n",
       "\n",
       "    latitude  longitude  \n",
       "0  43.718711 -79.470037  \n",
       "1  43.632351 -79.421280  \n",
       "2  43.731511 -79.404081  \n",
       "3  43.664683 -79.368279  \n",
       "4  43.665211 -79.384925  \n",
       "5  43.655055 -79.418563  \n",
       "6  43.708213 -79.392367  \n",
       "7  43.611289 -79.556867  \n",
       "8  43.776875 -79.256655  \n",
       "9  43.736442 -79.344201  "
      ]
     },
     "execution_count": 46,
     "metadata": {},
     "output_type": "execute_result"
    }
   ],
   "source": [
    "key_words = 'chicken cheese burger'\n",
    "\n",
    "keywords_recom_df = getKeyWordsRecoms(key_words, 10)\n",
    "keywords_recom_df.toPandas()"
   ]
  },
  {
   "cell_type": "code",
   "execution_count": 47,
   "metadata": {
    "collapsed": true
   },
   "outputs": [],
   "source": [
    "def getSimilarBusinesses(b_ids, sim_bus_count):\n",
    "    \n",
    "    schema = StructType([\n",
    "                            StructField(\"business_id\", StringType(), True), \n",
    "                            StructField(\"similarity_score\", IntegerType(), True)\n",
    "                        ])\n",
    "    \n",
    "    similar_businesses_df = spark.createDataFrame([], schema)\n",
    "    \n",
    "    for b_id in b_ids:\n",
    "        \n",
    "        print('Businesses similar to: ' + b_id)\n",
    "        \n",
    "        input_vec = reviews_by_business_vec_df.select('word_vec')\\\n",
    "                    .filter(reviews_by_business_vec_df['business_id'] == b_id)\\\n",
    "                    .collect()[0][0]\n",
    "\n",
    "        #all_vecs = reviews_by_business_vec_df.select('business_id', 'word_vec').rdd.map(lambda x: (x[0], x[1])).collect()\n",
    "\n",
    "        similar_business_rdd = sc.parallelize((i[0], float(CosineSim(input_vec, i[1]))) for i in all_vecs)\n",
    "\n",
    "        similar_business_df = spark.createDataFrame(similar_business_rdd) \\\n",
    "            .withColumnRenamed('_1', 'business_id') \\\n",
    "            .withColumnRenamed('_2', 'similarity_score') \\\n",
    "            .orderBy(\"similarity_score\", ascending = False)\n",
    "            \n",
    "        similar_business_df = similar_business_df.filter(col(\"business_id\") != b_id).limit(10)\n",
    "        similar_business_df.show()\n",
    "        \n",
    "        similar_businesses_df = similar_businesses_df.union(similar_business_df)\n",
    "    \n",
    "    return similar_businesses_df\n",
    "    "
   ]
  },
  {
   "cell_type": "code",
   "execution_count": 48,
   "metadata": {
    "collapsed": true
   },
   "outputs": [],
   "source": [
    "def getContentRecoms(u_id, sim_bus_count=10):\n",
    "    \n",
    "    query = \"\"\"\n",
    "    SELECT distinct business_id FROM reviews  \n",
    "    where stars >= 3.0 \n",
    "    and user_id = \"{}\"\n",
    "    \"\"\".format(u_id)\n",
    "\n",
    "    usr_rev_bus = sqlContext.sql(query)\n",
    "\n",
    "    usr_rev_bus = usr_rev_bus.sample(False, 0.5).limit(5)\n",
    "\n",
    "    usr_rev_bus_det = getBusinessDetails(usr_rev_bus)\n",
    "\n",
    "    print('Businesses previously reviewed by user:')\n",
    "    usr_rev_bus_det.select(['business_id', 'name', 'categories']).show(truncate = False)\n",
    "\n",
    "    bus_list = [i.business_id for i in usr_rev_bus.collect()]\n",
    "\n",
    "    sim_bus_df = getSimilarBusinesses(bus_list, sim_bus_count)\n",
    "\n",
    "    s = sim_bus_df.alias(\"s\")\n",
    "    r = usr_rev_bus.alias(\"r\")\n",
    "    j = s.join(r, col(\"s.business_id\") == col(\"r.business_id\"), 'left_outer') \\\n",
    "         .where(col(\"r.business_id\").isNull()) \\\n",
    "         .select([col('s.business_id'),col('s.similarity_score')])\n",
    "\n",
    "    a = j.orderBy(\"similarity_score\", ascending = False).limit(sim_bus_count)\n",
    "\n",
    "    return getBusinessDetails(a)\n",
    "\n",
    "     "
   ]
  },
  {
   "cell_type": "code",
   "execution_count": 66,
   "metadata": {
    "collapsed": false
   },
   "outputs": [
    {
     "name": "stdout",
     "output_type": "stream",
     "text": [
      "Businesses previously reviewed by user:\n",
      "+----------------------+--------------------------------+-------------------------------------------------------------+\n",
      "|business_id           |name                            |categories                                                   |\n",
      "+----------------------+--------------------------------+-------------------------------------------------------------+\n",
      "|wv0qXO8gg71HwIWOun_Mbw|Red Rock Restaurant             |[Mediterranean, Canadian (New), Restaurants]                 |\n",
      "|6oq1tUbRkfC7Qye2SrdxMw|Tucker's Marketplace Restaurants|[Buffets, Restaurants]                                       |\n",
      "|9Oc8UhYNarSisYM9SEBsKQ|Chop Steakhouse & Bar           |[Seafood, Steakhouses, Nightlife, Restaurants, Lounges, Bars]|\n",
      "|Jo3Cpvf8fpfcAIFG3TagbQ|Pantheon Restaurant             |[Mediterranean, Greek, Restaurants]                          |\n",
      "|ZumOnWbstgsIE6bJlxw0_Q|Jacobs & Co. Steakhouse         |[Restaurants, Steakhouses]                                   |\n",
      "+----------------------+--------------------------------+-------------------------------------------------------------+\n",
      "\n",
      "Businesses similar to: wv0qXO8gg71HwIWOun_Mbw\n",
      "+--------------------+------------------+\n",
      "|         business_id|  similarity_score|\n",
      "+--------------------+------------------+\n",
      "|-hAFDLTPzrPA8zVqD...|0.9369894587627323|\n",
      "|Ymy91k8r312xvxzC4...|0.9191870821094532|\n",
      "|3JJWG-Eyj-czxaXaE...|0.9189052078267832|\n",
      "|wfodQFCUYXaeVRG34...|0.9172533401549484|\n",
      "|j4htyBDNBzrog6A_b...| 0.916903637314075|\n",
      "|PKCWEVPO0riXQC6to...|0.9144946920167999|\n",
      "|QxSFIWk_hhSloUS6-...|0.9134798934805497|\n",
      "|SeRG0f7jIS2Jq-CTZ...|0.9131134078754842|\n",
      "|XDO88u3vWV64uekyH...|0.9129601661320054|\n",
      "|0VmSXsq7i-0F0eCwN...|0.9093030829188282|\n",
      "+--------------------+------------------+\n",
      "\n",
      "Businesses similar to: 6oq1tUbRkfC7Qye2SrdxMw\n",
      "+--------------------+------------------+\n",
      "|         business_id|  similarity_score|\n",
      "+--------------------+------------------+\n",
      "|Orgm9nmcClxnAUva4...|0.9554372207981292|\n",
      "|UpbTdzW9OoVrnbpHy...|0.9499660584232407|\n",
      "|ssUwsahbtpqHcGfAL...|0.9431219518456688|\n",
      "|2auigv5pF08RjJ8CL...|0.9430380285838964|\n",
      "|Ybre7g_LHQk5004VS...|0.9415834579004672|\n",
      "|O5_CKNQOmtRHY_CjO...| 0.938701143574059|\n",
      "|5Qoq8cif3nMCQUN-u...|0.9384097901563072|\n",
      "|WeKF3N1MK0eJQmZdx...|0.9380646030576171|\n",
      "|wRKYLXr9z--kt96EL...|0.9364895476255868|\n",
      "|ByrCDfyklGGk0D9O9...|0.9355799352118455|\n",
      "+--------------------+------------------+\n",
      "\n",
      "Businesses similar to: 9Oc8UhYNarSisYM9SEBsKQ\n",
      "+--------------------+------------------+\n",
      "|         business_id|  similarity_score|\n",
      "+--------------------+------------------+\n",
      "|Qzbcq82RJKIcAl0HS...|0.9828193337026198|\n",
      "|Vf_RHj0f1VViEF6OY...| 0.978865981496384|\n",
      "|fLxn7nVQzESaIqrFL...|0.9732779693693697|\n",
      "|usGow17X8F4qER7kN...|0.9714499001657596|\n",
      "|dulgBrNtDCGjYcbQa...|0.9706168732190253|\n",
      "|ivbMuKOwwX2B70gFg...|0.9676037984643956|\n",
      "|Q2ZNaN3p8s_-XXjBW...|0.9663970913579414|\n",
      "|gy5pr5bFAjOL5rERS...| 0.965211616654984|\n",
      "|NCgcMdtJxtFVv2Vrl...|0.9638653660307258|\n",
      "|tzl4KHt6ZAwyUJIEy...|0.9622416749999219|\n",
      "+--------------------+------------------+\n",
      "\n",
      "Businesses similar to: Jo3Cpvf8fpfcAIFG3TagbQ\n",
      "+--------------------+------------------+\n",
      "|         business_id|  similarity_score|\n",
      "+--------------------+------------------+\n",
      "|nDn2h-_c7Xk4UwM0a...|0.9812778665324616|\n",
      "|DuzxF9yWIxYqt4jDK...|0.9714170272798817|\n",
      "|aKESUG6MntqZNvC0D...|0.9694920916328215|\n",
      "|aO94Wsh2VzrgdCXu2...|0.9681354898988823|\n",
      "|bGoGHSWHvhftHMWWx...|0.9671143393712848|\n",
      "|DKZN5IjHEE_BCDCRL...|0.9652434299726295|\n",
      "|v2o2rsEDfXVCtmMGa...| 0.963826430958884|\n",
      "|x6fYvse8sBOZf9y8B...|0.9606496384460464|\n",
      "|6u-x45q0ETB7SQTAA...| 0.959050260897039|\n",
      "|p0CsAuiW9KCW_ySDN...|0.9545930502693004|\n",
      "+--------------------+------------------+\n",
      "\n",
      "Businesses similar to: ZumOnWbstgsIE6bJlxw0_Q\n",
      "+--------------------+------------------+\n",
      "|         business_id|  similarity_score|\n",
      "+--------------------+------------------+\n",
      "|JJ8ypBu3b--fy4HA5...|0.9802752551279837|\n",
      "|Q2ZNaN3p8s_-XXjBW...|0.9787696365006927|\n",
      "|7ODXq--HE7QpzvWwg...|0.9689864919158175|\n",
      "|tzl4KHt6ZAwyUJIEy...| 0.966675756398676|\n",
      "|0BW6h-igJinzbqc-p...|0.9599829968994058|\n",
      "|1pttL4MkpxOL6Mj2a...|0.9570715603950629|\n",
      "|4POPYEONJpkfhWOMx...|0.9559650903757989|\n",
      "|Vf_RHj0f1VViEF6OY...| 0.950554122540527|\n",
      "|9Oc8UhYNarSisYM9S...|0.9490678326630525|\n",
      "|bDtsc7WTwEJZFuvjX...| 0.948615178333736|\n",
      "+--------------------+------------------+\n",
      "\n",
      "Businesses recommended to user based on his previously reviewd businesses:\n"
     ]
    },
    {
     "data": {
      "text/html": [
       "<div>\n",
       "<table border=\"1\" class=\"dataframe\">\n",
       "  <thead>\n",
       "    <tr style=\"text-align: right;\">\n",
       "      <th></th>\n",
       "      <th>business_id</th>\n",
       "      <th>similarity_score</th>\n",
       "      <th>name</th>\n",
       "      <th>categories</th>\n",
       "      <th>stars</th>\n",
       "      <th>review_count</th>\n",
       "      <th>latitude</th>\n",
       "      <th>longitude</th>\n",
       "    </tr>\n",
       "  </thead>\n",
       "  <tbody>\n",
       "    <tr>\n",
       "      <th>0</th>\n",
       "      <td>Qzbcq82RJKIcAl0HSoSBJQ</td>\n",
       "      <td>0.982819</td>\n",
       "      <td>Wildfire Steakhouse &amp; Wine Bar</td>\n",
       "      <td>[Steakhouses, Desserts, Nightlife, Bars, Resta...</td>\n",
       "      <td>3.0</td>\n",
       "      <td>106</td>\n",
       "      <td>43.733672</td>\n",
       "      <td>-79.404448</td>\n",
       "    </tr>\n",
       "    <tr>\n",
       "      <th>1</th>\n",
       "      <td>nDn2h-_c7Xk4UwM0aiXZlw</td>\n",
       "      <td>0.981278</td>\n",
       "      <td>Mezes</td>\n",
       "      <td>[Mediterranean, Greek, Restaurants]</td>\n",
       "      <td>4.0</td>\n",
       "      <td>145</td>\n",
       "      <td>43.678004</td>\n",
       "      <td>-79.350213</td>\n",
       "    </tr>\n",
       "    <tr>\n",
       "      <th>2</th>\n",
       "      <td>JJ8ypBu3b--fy4HA5RB1gg</td>\n",
       "      <td>0.980275</td>\n",
       "      <td>Morton's The Steakhouse</td>\n",
       "      <td>[Steakhouses, Restaurants]</td>\n",
       "      <td>4.0</td>\n",
       "      <td>85</td>\n",
       "      <td>43.669713</td>\n",
       "      <td>-79.394975</td>\n",
       "    </tr>\n",
       "    <tr>\n",
       "      <th>3</th>\n",
       "      <td>Vf_RHj0f1VViEF6OYnEfUA</td>\n",
       "      <td>0.978866</td>\n",
       "      <td>Quinn's Steakhouse &amp; Irish Bar</td>\n",
       "      <td>[Restaurants, Steakhouses, Irish]</td>\n",
       "      <td>3.5</td>\n",
       "      <td>84</td>\n",
       "      <td>43.651089</td>\n",
       "      <td>-79.382919</td>\n",
       "    </tr>\n",
       "    <tr>\n",
       "      <th>4</th>\n",
       "      <td>Q2ZNaN3p8s_-XXjBWyY2qA</td>\n",
       "      <td>0.978770</td>\n",
       "      <td>Ruth's Chris Steak House</td>\n",
       "      <td>[Restaurants, Steakhouses, Party &amp; Event Plann...</td>\n",
       "      <td>3.5</td>\n",
       "      <td>172</td>\n",
       "      <td>43.649612</td>\n",
       "      <td>-79.385306</td>\n",
       "    </tr>\n",
       "    <tr>\n",
       "      <th>5</th>\n",
       "      <td>fLxn7nVQzESaIqrFLsjEbQ</td>\n",
       "      <td>0.973278</td>\n",
       "      <td>Canyon Creek</td>\n",
       "      <td>[Seafood, Steakhouses, Restaurants]</td>\n",
       "      <td>3.5</td>\n",
       "      <td>48</td>\n",
       "      <td>43.689328</td>\n",
       "      <td>-79.584311</td>\n",
       "    </tr>\n",
       "    <tr>\n",
       "      <th>6</th>\n",
       "      <td>usGow17X8F4qER7kNPBXzg</td>\n",
       "      <td>0.971450</td>\n",
       "      <td>Bâton Rouge Steakhouse &amp; Bar</td>\n",
       "      <td>[American (Traditional), Canadian (New), Glute...</td>\n",
       "      <td>3.0</td>\n",
       "      <td>39</td>\n",
       "      <td>43.778928</td>\n",
       "      <td>-79.257318</td>\n",
       "    </tr>\n",
       "    <tr>\n",
       "      <th>7</th>\n",
       "      <td>DuzxF9yWIxYqt4jDKw_bbA</td>\n",
       "      <td>0.971417</td>\n",
       "      <td>Pan On the Danforth</td>\n",
       "      <td>[Restaurants, Mediterranean, Greek]</td>\n",
       "      <td>3.5</td>\n",
       "      <td>122</td>\n",
       "      <td>43.678359</td>\n",
       "      <td>-79.348685</td>\n",
       "    </tr>\n",
       "    <tr>\n",
       "      <th>8</th>\n",
       "      <td>dulgBrNtDCGjYcbQa2E6uA</td>\n",
       "      <td>0.970617</td>\n",
       "      <td>Michael's on Simcoe</td>\n",
       "      <td>[Steakhouses, Restaurants, Italian, Seafood]</td>\n",
       "      <td>3.5</td>\n",
       "      <td>73</td>\n",
       "      <td>43.648092</td>\n",
       "      <td>-79.386363</td>\n",
       "    </tr>\n",
       "    <tr>\n",
       "      <th>9</th>\n",
       "      <td>aKESUG6MntqZNvC0DiFcJg</td>\n",
       "      <td>0.969492</td>\n",
       "      <td>Penelope Restaurant</td>\n",
       "      <td>[Greek, Mediterranean, Restaurants]</td>\n",
       "      <td>3.0</td>\n",
       "      <td>54</td>\n",
       "      <td>43.646655</td>\n",
       "      <td>-79.388236</td>\n",
       "    </tr>\n",
       "  </tbody>\n",
       "</table>\n",
       "</div>"
      ],
      "text/plain": [
       "              business_id  similarity_score                            name  \\\n",
       "0  Qzbcq82RJKIcAl0HSoSBJQ          0.982819  Wildfire Steakhouse & Wine Bar   \n",
       "1  nDn2h-_c7Xk4UwM0aiXZlw          0.981278                           Mezes   \n",
       "2  JJ8ypBu3b--fy4HA5RB1gg          0.980275         Morton's The Steakhouse   \n",
       "3  Vf_RHj0f1VViEF6OYnEfUA          0.978866  Quinn's Steakhouse & Irish Bar   \n",
       "4  Q2ZNaN3p8s_-XXjBWyY2qA          0.978770        Ruth's Chris Steak House   \n",
       "5  fLxn7nVQzESaIqrFLsjEbQ          0.973278                    Canyon Creek   \n",
       "6  usGow17X8F4qER7kNPBXzg          0.971450    Bâton Rouge Steakhouse & Bar   \n",
       "7  DuzxF9yWIxYqt4jDKw_bbA          0.971417             Pan On the Danforth   \n",
       "8  dulgBrNtDCGjYcbQa2E6uA          0.970617             Michael's on Simcoe   \n",
       "9  aKESUG6MntqZNvC0DiFcJg          0.969492             Penelope Restaurant   \n",
       "\n",
       "                                          categories  stars  review_count  \\\n",
       "0  [Steakhouses, Desserts, Nightlife, Bars, Resta...    3.0           106   \n",
       "1                [Mediterranean, Greek, Restaurants]    4.0           145   \n",
       "2                         [Steakhouses, Restaurants]    4.0            85   \n",
       "3                  [Restaurants, Steakhouses, Irish]    3.5            84   \n",
       "4  [Restaurants, Steakhouses, Party & Event Plann...    3.5           172   \n",
       "5                [Seafood, Steakhouses, Restaurants]    3.5            48   \n",
       "6  [American (Traditional), Canadian (New), Glute...    3.0            39   \n",
       "7                [Restaurants, Mediterranean, Greek]    3.5           122   \n",
       "8       [Steakhouses, Restaurants, Italian, Seafood]    3.5            73   \n",
       "9                [Greek, Mediterranean, Restaurants]    3.0            54   \n",
       "\n",
       "    latitude  longitude  \n",
       "0  43.733672 -79.404448  \n",
       "1  43.678004 -79.350213  \n",
       "2  43.669713 -79.394975  \n",
       "3  43.651089 -79.382919  \n",
       "4  43.649612 -79.385306  \n",
       "5  43.689328 -79.584311  \n",
       "6  43.778928 -79.257318  \n",
       "7  43.678359 -79.348685  \n",
       "8  43.648092 -79.386363  \n",
       "9  43.646655 -79.388236  "
      ]
     },
     "execution_count": 66,
     "metadata": {},
     "output_type": "execute_result"
    }
   ],
   "source": [
    "u_id = 'ZWD8UH1T7QXQr0Eq-mcWYg'\n",
    "\n",
    "content_recom_df = getContentRecoms(u_id)\n",
    "\n",
    "print(\"Businesses recommended to user based on his previously reviewd businesses:\")\n",
    "content_recom_df.toPandas()"
   ]
  },
  {
   "cell_type": "code",
   "execution_count": 67,
   "metadata": {
    "collapsed": false
   },
   "outputs": [
    {
     "data": {
      "text/html": [
       "<div style=\"width:100%;\"><div style=\"position:relative;width:100%;height:0;padding-bottom:60%;\"><iframe src=\"data:text/html;charset=utf-8;base64,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\" style=\"position:absolute;width:100%;height:100%;left:0;top:0;border:none !important;\" allowfullscreen webkitallowfullscreen mozallowfullscreen></iframe></div></div>"
      ],
      "text/plain": [
       "<folium.folium.Map at 0x7f51ae06e470>"
      ]
     },
     "execution_count": 67,
     "metadata": {},
     "output_type": "execute_result"
    }
   ],
   "source": [
    "showInMap(content_recom_df)"
   ]
  },
  {
   "cell_type": "code",
   "execution_count": 68,
   "metadata": {
    "collapsed": false
   },
   "outputs": [
    {
     "name": "stdout",
     "output_type": "stream",
     "text": [
      "Businesses previously reviewed by user:\n",
      "+----------------------+----------------------------+-------------------------------------------------------------------------------------------+\n",
      "|business_id           |name                        |categories                                                                                 |\n",
      "+----------------------+----------------------------+-------------------------------------------------------------------------------------------+\n",
      "|F_oPMHJrH42R67xp5eKtQA|Yummy Korean Food Restaurant|[Korean, Restaurants]                                                                      |\n",
      "|JmZj7wzAJ7_4ksjG9WXdqw|Gladstone Hotel             |[Hotels & Travel, Lounges, Restaurants, Bars, Nightlife, Event Planning & Services, Hotels]|\n",
      "|c78Pat78fVUBFPXYeVvbaQ|Odd Seoul                   |[Restaurants, Bars, Korean, Dive Bars, Asian Fusion, Nightlife]                            |\n",
      "|9jYnZymuaW-XpMIS75YxgQ|The Beaver                  |[Canadian (New), Nightlife, Cafes, Bars, Restaurants, Gay Bars, American (New)]            |\n",
      "|oc8204pyvf9ixdA4JzzaLA|The Good Son                |[Canadian (New), Restaurants]                                                              |\n",
      "+----------------------+----------------------------+-------------------------------------------------------------------------------------------+\n",
      "\n",
      "Businesses similar to: F_oPMHJrH42R67xp5eKtQA\n",
      "+--------------------+------------------+\n",
      "|         business_id|  similarity_score|\n",
      "+--------------------+------------------+\n",
      "|rO3lZpVSoRMhhd0AE...|0.9866277240703815|\n",
      "|rhyjGfqYlCJoi8Zeu...|0.9855229601464368|\n",
      "|j-Z_HAev26ZftdErM...|0.9815570714877364|\n",
      "|_MA98TVmvVIy-XdI0...|0.9808846663905134|\n",
      "|SNkkuchbVtUzCwyEN...|0.9806368301536131|\n",
      "|X6ZZksefmR_piQj2G...|0.9759062252759181|\n",
      "|uChTCA6MsLAciDRkl...|0.9736427978649329|\n",
      "|ZCrK07xb6w5Vi1vat...|0.9734784075853358|\n",
      "|l5VG7_TWg4JGljx3U...|0.9730182498619699|\n",
      "|NC-i4xLdgVAjnvL8Y...|0.9728746504418039|\n",
      "+--------------------+------------------+\n",
      "\n",
      "Businesses similar to: JmZj7wzAJ7_4ksjG9WXdqw\n",
      "+--------------------+------------------+\n",
      "|         business_id|  similarity_score|\n",
      "+--------------------+------------------+\n",
      "|dc3uoAmNo5STqKV6m...| 0.966685360768615|\n",
      "|lqagldgZR_GSZejz7...|0.9621591376425395|\n",
      "|y-sRypoTK2L6Euozh...|0.9444147303288392|\n",
      "|_niSQeYPBawz3rubX...|0.9424051765715421|\n",
      "|2zzRaxhpouEjGaDh9...|0.9385827913762591|\n",
      "|sGAbBm8eX6DY5R5S2...| 0.937994632458623|\n",
      "|D55S2yK1sheOVQwZy...|0.9365021970692131|\n",
      "|FrJX4ifJsTAXAJJq0...|0.9346501429484315|\n",
      "|m-cg3stOStMAFEV9-...|0.9339164849271379|\n",
      "|l57pPj8XxRxmzsplM...|0.9332306828981816|\n",
      "+--------------------+------------------+\n",
      "\n",
      "Businesses similar to: c78Pat78fVUBFPXYeVvbaQ\n",
      "+--------------------+------------------+\n",
      "|         business_id|  similarity_score|\n",
      "+--------------------+------------------+\n",
      "|Yv4P4qUwd7F-qQ4Y4...|0.9706694278616202|\n",
      "|zC-RnKVTlGEBmzCng...|0.9596639144731247|\n",
      "|FML0YqZ7dLBBC3Sua...|0.9569446555028452|\n",
      "|nWMMI1z73AZOCRMSw...| 0.953638876088924|\n",
      "|mQuDZwxxPe54MY4TT...| 0.952599241647393|\n",
      "|5ISHmxr0ZC_4xYEqg...|0.9519618205616219|\n",
      "|D9bf5U0y_0MnL9wMF...|0.9485633039601908|\n",
      "|3RlylOY452bA8rwli...|0.9445091866788726|\n",
      "|fQwB9Z98YEhkJit7c...|0.9435628883521864|\n",
      "|wpQsmMvdhefqIlxvR...|0.9428134573886832|\n",
      "+--------------------+------------------+\n",
      "\n",
      "Businesses similar to: 9jYnZymuaW-XpMIS75YxgQ\n",
      "+--------------------+------------------+\n",
      "|         business_id|  similarity_score|\n",
      "+--------------------+------------------+\n",
      "|wMr1NZCfOp8rgDe6g...|0.9619371688596854|\n",
      "|v8Y1Cpdya8H_3noy2...|0.9580017478522176|\n",
      "|J9SdJg4aYz9-aRksS...|0.9578283654430186|\n",
      "|WHfgo788tdCywQbgG...|0.9548019343614998|\n",
      "|D4mjIxNRmC7ZTlLFV...| 0.949550230925409|\n",
      "|Eox_Qq74oaFZ-Yjth...|0.9482923966766136|\n",
      "|nu-DHeDtxnOW5vYj9...|0.9471909942675177|\n",
      "|f51YniULra1Fz01jw...|0.9464936311950034|\n",
      "|hITV6BrT2ak7nFHhJ...|0.9463518932743442|\n",
      "|Ow9LZC3YZs9O6OSDa...|0.9460067839659693|\n",
      "+--------------------+------------------+\n",
      "\n",
      "Businesses similar to: oc8204pyvf9ixdA4JzzaLA\n",
      "+--------------------+------------------+\n",
      "|         business_id|  similarity_score|\n",
      "+--------------------+------------------+\n",
      "|Fl2yDmC0B0TTVsNix...|0.9765366219518823|\n",
      "|JccZKQS8-5Oikp0u3...| 0.968528463317786|\n",
      "|eQCYur0033RkZdh5V...|0.9673008758657836|\n",
      "|m2hz26KM3kLN_AS5C...|0.9671403259161292|\n",
      "|GqSA5t_OD1uxDZMwV...|0.9669615990473577|\n",
      "|6cz8xLR64Iuzpa4NN...|0.9653782186613044|\n",
      "|t5SXjiQlp-0ctHzYE...|0.9651707879769778|\n",
      "|UxWH8zRYIBgs6Q2oy...|0.9635482523365696|\n",
      "|jCiovc2qHJ5L-_1gi...|0.9633618653359299|\n",
      "|3qTSOuJ-ZyU1L7o62...|0.9631590008762911|\n",
      "+--------------------+------------------+\n",
      "\n",
      "Businesses recommended to user based on his previously reviewd businesses:\n"
     ]
    },
    {
     "data": {
      "text/html": [
       "<div>\n",
       "<table border=\"1\" class=\"dataframe\">\n",
       "  <thead>\n",
       "    <tr style=\"text-align: right;\">\n",
       "      <th></th>\n",
       "      <th>business_id</th>\n",
       "      <th>similarity_score</th>\n",
       "      <th>name</th>\n",
       "      <th>categories</th>\n",
       "      <th>stars</th>\n",
       "      <th>review_count</th>\n",
       "      <th>latitude</th>\n",
       "      <th>longitude</th>\n",
       "    </tr>\n",
       "  </thead>\n",
       "  <tbody>\n",
       "    <tr>\n",
       "      <th>0</th>\n",
       "      <td>rO3lZpVSoRMhhd0AEJBjlg</td>\n",
       "      <td>0.986628</td>\n",
       "      <td>Sunrise House</td>\n",
       "      <td>[Restaurants, Korean]</td>\n",
       "      <td>4.0</td>\n",
       "      <td>135</td>\n",
       "      <td>43.664068</td>\n",
       "      <td>-79.415668</td>\n",
       "    </tr>\n",
       "    <tr>\n",
       "      <th>1</th>\n",
       "      <td>rhyjGfqYlCJoi8Zeulg6QA</td>\n",
       "      <td>0.985523</td>\n",
       "      <td>Kimchi Korea House</td>\n",
       "      <td>[Korean, Restaurants]</td>\n",
       "      <td>3.5</td>\n",
       "      <td>155</td>\n",
       "      <td>43.655256</td>\n",
       "      <td>-79.385475</td>\n",
       "    </tr>\n",
       "    <tr>\n",
       "      <th>2</th>\n",
       "      <td>j-Z_HAev26ZftdErMhIBuA</td>\n",
       "      <td>0.981557</td>\n",
       "      <td>Thumbs Up Korean Restaurant</td>\n",
       "      <td>[Restaurants, Korean]</td>\n",
       "      <td>4.0</td>\n",
       "      <td>56</td>\n",
       "      <td>43.664451</td>\n",
       "      <td>-79.413786</td>\n",
       "    </tr>\n",
       "    <tr>\n",
       "      <th>3</th>\n",
       "      <td>_MA98TVmvVIy-XdI0poc7w</td>\n",
       "      <td>0.980885</td>\n",
       "      <td>Mom's Korean Food</td>\n",
       "      <td>[Korean, Restaurants]</td>\n",
       "      <td>3.5</td>\n",
       "      <td>62</td>\n",
       "      <td>43.664686</td>\n",
       "      <td>-79.413785</td>\n",
       "    </tr>\n",
       "    <tr>\n",
       "      <th>4</th>\n",
       "      <td>SNkkuchbVtUzCwyENcai_g</td>\n",
       "      <td>0.980637</td>\n",
       "      <td>Danji</td>\n",
       "      <td>[Restaurants, Chinese, Japanese, Korean]</td>\n",
       "      <td>3.5</td>\n",
       "      <td>57</td>\n",
       "      <td>43.665300</td>\n",
       "      <td>-79.384899</td>\n",
       "    </tr>\n",
       "    <tr>\n",
       "      <th>5</th>\n",
       "      <td>Fl2yDmC0B0TTVsNixxVXfA</td>\n",
       "      <td>0.976537</td>\n",
       "      <td>The Emerson</td>\n",
       "      <td>[Canadian (New), Restaurants]</td>\n",
       "      <td>4.0</td>\n",
       "      <td>104</td>\n",
       "      <td>43.658353</td>\n",
       "      <td>-79.442003</td>\n",
       "    </tr>\n",
       "    <tr>\n",
       "      <th>6</th>\n",
       "      <td>X6ZZksefmR_piQj2Gbnduw</td>\n",
       "      <td>0.975906</td>\n",
       "      <td>Paldo Gangsan</td>\n",
       "      <td>[Restaurants, Korean]</td>\n",
       "      <td>4.0</td>\n",
       "      <td>47</td>\n",
       "      <td>43.663799</td>\n",
       "      <td>-79.417393</td>\n",
       "    </tr>\n",
       "    <tr>\n",
       "      <th>7</th>\n",
       "      <td>uChTCA6MsLAciDRklpO-Fw</td>\n",
       "      <td>0.973643</td>\n",
       "      <td>Makkal Chon</td>\n",
       "      <td>[Greek, Restaurants, Korean]</td>\n",
       "      <td>4.0</td>\n",
       "      <td>210</td>\n",
       "      <td>43.744944</td>\n",
       "      <td>-79.296636</td>\n",
       "    </tr>\n",
       "    <tr>\n",
       "      <th>8</th>\n",
       "      <td>ZCrK07xb6w5Vi1vathV0NQ</td>\n",
       "      <td>0.973478</td>\n",
       "      <td>Bapbo Korean Restaurant</td>\n",
       "      <td>[Korean, Japanese, Restaurants]</td>\n",
       "      <td>3.0</td>\n",
       "      <td>86</td>\n",
       "      <td>43.655606</td>\n",
       "      <td>-79.384966</td>\n",
       "    </tr>\n",
       "    <tr>\n",
       "      <th>9</th>\n",
       "      <td>l5VG7_TWg4JGljx3UJStVw</td>\n",
       "      <td>0.973018</td>\n",
       "      <td>Hana Korea Restaurant</td>\n",
       "      <td>[Korean, Restaurants]</td>\n",
       "      <td>3.5</td>\n",
       "      <td>30</td>\n",
       "      <td>43.655822</td>\n",
       "      <td>-79.393727</td>\n",
       "    </tr>\n",
       "  </tbody>\n",
       "</table>\n",
       "</div>"
      ],
      "text/plain": [
       "              business_id  similarity_score                         name  \\\n",
       "0  rO3lZpVSoRMhhd0AEJBjlg          0.986628                Sunrise House   \n",
       "1  rhyjGfqYlCJoi8Zeulg6QA          0.985523           Kimchi Korea House   \n",
       "2  j-Z_HAev26ZftdErMhIBuA          0.981557  Thumbs Up Korean Restaurant   \n",
       "3  _MA98TVmvVIy-XdI0poc7w          0.980885            Mom's Korean Food   \n",
       "4  SNkkuchbVtUzCwyENcai_g          0.980637                        Danji   \n",
       "5  Fl2yDmC0B0TTVsNixxVXfA          0.976537                  The Emerson   \n",
       "6  X6ZZksefmR_piQj2Gbnduw          0.975906                Paldo Gangsan   \n",
       "7  uChTCA6MsLAciDRklpO-Fw          0.973643                  Makkal Chon   \n",
       "8  ZCrK07xb6w5Vi1vathV0NQ          0.973478      Bapbo Korean Restaurant   \n",
       "9  l5VG7_TWg4JGljx3UJStVw          0.973018        Hana Korea Restaurant   \n",
       "\n",
       "                                 categories  stars  review_count   latitude  \\\n",
       "0                     [Restaurants, Korean]    4.0           135  43.664068   \n",
       "1                     [Korean, Restaurants]    3.5           155  43.655256   \n",
       "2                     [Restaurants, Korean]    4.0            56  43.664451   \n",
       "3                     [Korean, Restaurants]    3.5            62  43.664686   \n",
       "4  [Restaurants, Chinese, Japanese, Korean]    3.5            57  43.665300   \n",
       "5             [Canadian (New), Restaurants]    4.0           104  43.658353   \n",
       "6                     [Restaurants, Korean]    4.0            47  43.663799   \n",
       "7              [Greek, Restaurants, Korean]    4.0           210  43.744944   \n",
       "8           [Korean, Japanese, Restaurants]    3.0            86  43.655606   \n",
       "9                     [Korean, Restaurants]    3.5            30  43.655822   \n",
       "\n",
       "   longitude  \n",
       "0 -79.415668  \n",
       "1 -79.385475  \n",
       "2 -79.413786  \n",
       "3 -79.413785  \n",
       "4 -79.384899  \n",
       "5 -79.442003  \n",
       "6 -79.417393  \n",
       "7 -79.296636  \n",
       "8 -79.384966  \n",
       "9 -79.393727  "
      ]
     },
     "execution_count": 68,
     "metadata": {},
     "output_type": "execute_result"
    }
   ],
   "source": [
    "u_id = 'Wc5L6iuvSNF5WGBlqIO8nw'\n",
    "\n",
    "content_recom_df = getContentRecoms(u_id)\n",
    "\n",
    "print(\"Businesses recommended to user based on his previously reviewd businesses:\")\n",
    "content_recom_df.toPandas()"
   ]
  },
  {
   "cell_type": "code",
   "execution_count": 69,
   "metadata": {
    "collapsed": false
   },
   "outputs": [
    {
     "data": {
      "text/html": [
       "<div style=\"width:100%;\"><div style=\"position:relative;width:100%;height:0;padding-bottom:60%;\"><iframe src=\"data:text/html;charset=utf-8;base64,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\" style=\"position:absolute;width:100%;height:100%;left:0;top:0;border:none !important;\" allowfullscreen webkitallowfullscreen mozallowfullscreen></iframe></div></div>"
      ],
      "text/plain": [
       "<folium.folium.Map at 0x7f51ae06eda0>"
      ]
     },
     "execution_count": 69,
     "metadata": {},
     "output_type": "execute_result"
    }
   ],
   "source": [
    "showInMap(content_recom_df)"
   ]
  }
 ],
 "metadata": {
  "anaconda-cloud": {},
  "kernelspec": {
   "display_name": "Python [conda root]",
   "language": "python",
   "name": "conda-root-py"
  },
  "language_info": {
   "codemirror_mode": {
    "name": "ipython",
    "version": 3
   },
   "file_extension": ".py",
   "mimetype": "text/x-python",
   "name": "python",
   "nbconvert_exporter": "python",
   "pygments_lexer": "ipython3",
   "version": "3.5.2"
  }
 },
 "nbformat": 4,
 "nbformat_minor": 1
}
