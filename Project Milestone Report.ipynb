{
 "cells": [
  {
   "cell_type": "markdown",
   "metadata": {},
   "source": [
    "## Project Milestone Report - Second Capstone Project  \n",
    "\n",
    "## My Yelper"
   ]
  },
  {
   "cell_type": "markdown",
   "metadata": {},
   "source": [
    "### Problem:"
   ]
  },
  {
   "cell_type": "markdown",
   "metadata": {},
   "source": [
    "Recommendation systems have become an integral part of many businesses. They produce individualized recommendations as output or have the effect of guiding the user in a personalized way to interesting objects in a larger space of possible options.  \n",
    "\n",
    "In this project, we want to apply machine learning algorithms to develop predictive models and hence build a hybrid restaurant recommendation system that suggests the most suitable restaurants for users based on their preferences. We also plan to add consumer’s friends’ recommendations to the equation for additional personalization.  \n",
    "\n"
   ]
  },
  {
   "cell_type": "markdown",
   "metadata": {},
   "source": [
    "### Client:"
   ]
  },
  {
   "cell_type": "markdown",
   "metadata": {},
   "source": [
    "Modern consumers greatly benefit from restaurants recommendation systems. It is so useful to get a list of restaurants that match consumer’s preferences without much hustles, comparing, and browsing through a long list of reviews for each single restaurant.  \n",
    "\n",
    "Yelp is one of those websites that publish crowd source reviews to help users and business owners. Yelp users as well as others searching Yelp for good causines are assumed to be the client who benefit from this project.\n"
   ]
  },
  {
   "cell_type": "markdown",
   "metadata": {},
   "source": [
    "### Data:"
   ]
  },
  {
   "cell_type": "markdown",
   "metadata": {},
   "source": [
    "This project uses the Yelp dataset available at https://www.yelp.com/dataset"
   ]
  },
  {
   "cell_type": "markdown",
   "metadata": {},
   "source": [
    "The data set contains 4,700,000 reviews on 156,000 businesses in 12 metropolitan areas\n",
    "1,000,000 tips by 1,100,000 users Over 1.2 million business attributes like hours, parking, availability, and ambience."
   ]
  },
  {
   "cell_type": "markdown",
   "metadata": {},
   "source": [
    "The data files are supplied in two flavours json and SQL (MySQL, Postgres). This project utilizes the json version which has the following files:  \n",
    "\n",
    "- __business.json__: Contains business data including location data, attributes, and categories.  \n",
    "- __review.json__: Contains full review text data including the user_id that wrote the review and the business_id the review is written for.  \n",
    "- __user.json__: User data including the user's friend mapping and all the metadata associated with the user.  \n",
    "- __checkin.json__: Checkins on a business.  \n",
    "- __tip.json__: Tips written by a user on a business. Tips are shorter than reviews and tend to convey quick suggestions.\n",
    "- __photos__: (from the photos auxiliary file) This file is formatted as a JSON list of objects.  \n",
    "\n",
    "Each file is composed of a single object type, one JSON-object per-line. Description available at (https://www.yelp.com/dataset/documentation/json)"
   ]
  },
  {
   "cell_type": "markdown",
   "metadata": {},
   "source": [
    "As the focus of this project is on building a recommendation engine, the core files will be used are `business.json`, `review.json`, and `user.json`. Additionally, taking into consideration the limited hardware resources used available, data for the city of Toronto will be considered for building the recommendation engine."
   ]
  },
  {
   "cell_type": "markdown",
   "metadata": {},
   "source": [
    "### Approach:"
   ]
  },
  {
   "cell_type": "markdown",
   "metadata": {},
   "source": [
    "Both content-based filtering and collaborative filtering have their strengths and weaknesses. We plan to mix both recommendations methods in addition to Friends ratings to provide a better personalized recommendation system."
   ]
  },
  {
   "cell_type": "markdown",
   "metadata": {},
   "source": [
    "Yelp users give ratings and write reviews about businesses and services on Yelp. These reviews and ratings help other Yelp users to evaluate a business or a service and make a choice. While ratings are useful to convey the overall experience, they do not convey the context which led a reviewer to that experience.  \n",
    "\n",
    "We plan to apply various Natural Language Processing (NLP) and Text Analytics techniques on the the review text to build features for the content filtering recommendations. The ratings will be used in the collaborative filtering recommendations.\n",
    "\n",
    "Users reviews on restaurants recieve tags from other users as either the review is useful, cool, or funny. Addionally, the user data has a list of all fiends for each user. Those two facts will be combined for friends recommendations. That is to get a list of restaurants not reviewed by a user before, based on the ratings of his friends who recieved most useful tags.\n",
    "\n",
    "A hybrid recommendation engine will be build to mix the results of the three above recommendations methods.\n",
    "\n",
    "Moreover, key words search recommendations will also be developed based on the featurizaion built on the content filtering part, to accomodate cold-start problem, i.e. new users with no history in the system.\n",
    "\n"
   ]
  },
  {
   "cell_type": "markdown",
   "metadata": {},
   "source": [
    "Apache Drill (https://drill.apache.org/), a SQL query platform that provide query interface to most non-relational datastore, will be used for preliminary analysis of json files, and then used to extract the required data into Apache Parquet files - a columnar storage format.  \n",
    "\n",
    "Apache Spark (https://spark.apache.org/) is a fast and general engine for big data processing, with built-in modules for streaming, SQL, machine learning and graph processing.Parquet files generated by Apache Drill will be loaded into Spark dataframes for further analysis and machine learning modeling."
   ]
  },
  {
   "cell_type": "markdown",
   "metadata": {},
   "source": [
    "The below figure describes the methodology, data processing, and technologies that will be utilized in this hybrid recommendation system."
   ]
  },
  {
   "cell_type": "markdown",
   "metadata": {},
   "source": [
    "<img src=\"fig/MyYelper Architecture.png\">"
   ]
  },
  {
   "cell_type": "markdown",
   "metadata": {},
   "source": [
    "### Deliverables:"
   ]
  },
  {
   "cell_type": "markdown",
   "metadata": {},
   "source": [
    "•\tProject code, well-documented on GitHub \n",
    "    https://nbviewer.jupyter.org/github/Samimust/my-yelper \n",
    "    https://github.com/Samimust/my-yelper  \n",
    "•\tFinal project paper  \n",
    "•\tSlide deck  "
   ]
  }
 ],
 "metadata": {
  "anaconda-cloud": {},
  "kernelspec": {
   "display_name": "Python [conda root]",
   "language": "python",
   "name": "conda-root-py"
  },
  "language_info": {
   "codemirror_mode": {
    "name": "ipython",
    "version": 3
   },
   "file_extension": ".py",
   "mimetype": "text/x-python",
   "name": "python",
   "nbconvert_exporter": "python",
   "pygments_lexer": "ipython3",
   "version": "3.5.2"
  }
 },
 "nbformat": 4,
 "nbformat_minor": 1
}
